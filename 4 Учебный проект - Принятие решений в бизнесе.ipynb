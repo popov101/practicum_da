{
 "cells": [
  {
   "cell_type": "markdown",
   "metadata": {},
   "source": [
    "# Проект: Принятие решений в бизнесе"
   ]
  },
  {
   "cell_type": "markdown",
   "metadata": {},
   "source": [
    "**Контекст проекта**\n",
    "\n",
    "Вместе с отделом маркетинга был подготовлен список гипотез для увеличения выручки.\n",
    "Необходимо приоритизировать гипотезы, запустить A/B-тест и проанализировать результаты.\n",
    "\n",
    "**Цели и задачи проекта:**\n",
    "1. **Приоритизация гипотез:**\n",
    "    - Применить фреймворк `ICE` для приоритизации гипотез. Отсортировать их по убыванию приоритета.\n",
    "    \n",
    "    - Применить фреймворк `RICE` для приоритизации гипотез. Отсортировать их по убыванию приоритета.\n",
    "    \n",
    "    - Указать, как изменилась приоритизация гипотез при применении `RICE` вместо `ICE`. Объяснить, почему так произошло.\n",
    "    \n",
    "    \n",
    "2. **Анализ A/B теста:**\n",
    "\n",
    "    - Построить график кумулятивной выручки по группам. Сделать выводы и предположения.\n",
    "    \n",
    "    - Построить график кумулятивного среднего чека по группам. Сделать выводы и предположения.\n",
    "    \n",
    "    - Построить график относительного изменения кумулятивного среднего чека группы B к группе A. Сделать выводы и предположения.\n",
    "    \n",
    "    - Построить график кумулятивного среднего количества заказов на посетителя по группам. Сделать выводы и предположения.\n",
    "    \n",
    "    - Построить график относительного изменения кумулятивного среднего количества заказов на посетителя группы B к группе A. Сделать выводы и предположения.\n",
    "    \n",
    "    - Построить точечный график количества заказов по пользователям. Сделать выводы и предположения.\n",
    "    \n",
    "    - Посчитать 95-й и 99-й перцентили количества заказов на пользователя. Выбрать границу для определения аномальных пользователей.\n",
    "    \n",
    "    - Построить точечный график стоимостей заказов. Сделать выводы и предположения.\n",
    "    \n",
    "    - Посчитать 95-й и 99-й перцентили стоимости заказов. Выберать границу для определения аномальных заказов.\n",
    "    \n",
    "    - Посчитать статистическую значимость различий в среднем количестве заказов на посетителя между группами по «сырым» данным. Сделать выводы и предположения.\n",
    "    \n",
    "    - Посчитать статистическую значимость различий в среднем чеке заказа между группами по «сырым» данным. Сделать выводы и предположения.\n",
    "    \n",
    "    - Посчитать статистическую значимость различий в среднем количестве заказов на посетителя между группами по «очищенным» данным. Сделать выводы и предположения.\n",
    "    \n",
    "    - Посчитать статистическую значимость различий в среднем чеке заказа между группами по «очищенным» данным. Сделать выводы и предположения.\n",
    "    \n",
    "    - Принять решение по результатам теста и объяснить его.\n",
    "    \n",
    "**Описание данных**\n",
    "\n",
    "Файл `/datasets/hypothesis.csv`:\n",
    "- `Hypothesis` — краткое описание гипотезы;\n",
    "- `Reach` — охват пользователей по 10-балльной шкале;\n",
    "- `Impact` — влияние на пользователей по 10-балльной шкале;\n",
    "- `Confidence` — уверенность в гипотезе по 10-балльной шкале;\n",
    "- `Efforts` — затраты ресурсов на проверку гипотезы по 10-балльной шкале.\n",
    "\n",
    "Файл `/datasets/orders.csv`:\n",
    "- `transactionId` — идентификатор заказа;\n",
    "- `visitorId` — идентификатор пользователя, совершившего заказ;\n",
    "- `date` — дата, когда был совершён заказ;\n",
    "- `revenue` — выручка заказа;\n",
    "- `group` — группа A/B-теста, в которую попал заказ.\n",
    "\n",
    "Файл `/datasets/visitors.csv`:\n",
    "- `date` — дата;\n",
    "- `group` — группа A/B-теста;\n",
    "- `visitors` — количество пользователей в указанную дату в указанной группе A/B-теста."
   ]
  },
  {
   "cell_type": "markdown",
   "metadata": {
    "toc": true
   },
   "source": [
    "<h1>Table of Contents<span class=\"tocSkip\"></span></h1>\n",
    "<div class=\"toc\"><ul class=\"toc-item\"><li><span><a href=\"#Приоритизация-гипотез\" data-toc-modified-id=\"Приоритизация-гипотез-1\"><span class=\"toc-item-num\">1&nbsp;&nbsp;</span>Приоритизация гипотез</a></span></li><li><span><a href=\"#Анализ-A/B-теста\" data-toc-modified-id=\"Анализ-A/B-теста-2\"><span class=\"toc-item-num\">2&nbsp;&nbsp;</span>Анализ A/B теста</a></span><ul class=\"toc-item\"><li><span><a href=\"#Проверка-данных-на-наличие-дубликатов-и-пропусков\" data-toc-modified-id=\"Проверка-данных-на-наличие-дубликатов-и-пропусков-2.1\"><span class=\"toc-item-num\">2.1&nbsp;&nbsp;</span>Проверка данных на наличие дубликатов и пропусков</a></span></li><li><span><a href=\"#График-кумулятивной-выручки-по-группам\" data-toc-modified-id=\"График-кумулятивной-выручки-по-группам-2.2\"><span class=\"toc-item-num\">2.2&nbsp;&nbsp;</span>График кумулятивной выручки по группам</a></span></li><li><span><a href=\"#График-кумулятивного-среднего-чека-по-группам\" data-toc-modified-id=\"График-кумулятивного-среднего-чека-по-группам-2.3\"><span class=\"toc-item-num\">2.3&nbsp;&nbsp;</span>График кумулятивного среднего чека по группам</a></span></li><li><span><a href=\"#График-относительного-изменения-кумулятивного-среднего-чека\" data-toc-modified-id=\"График-относительного-изменения-кумулятивного-среднего-чека-2.4\"><span class=\"toc-item-num\">2.4&nbsp;&nbsp;</span>График относительного изменения кумулятивного среднего чека</a></span></li><li><span><a href=\"#График-кумулятивного-среднего-количества-заказов-на-посетителя-по-группам\" data-toc-modified-id=\"График-кумулятивного-среднего-количества-заказов-на-посетителя-по-группам-2.5\"><span class=\"toc-item-num\">2.5&nbsp;&nbsp;</span>График кумулятивного среднего количества заказов на посетителя по группам</a></span></li><li><span><a href=\"#График-относительного-изменения-кумулятивного-среднего-количества-заказов-на-посетителя-группы-B-к-группе-A\" data-toc-modified-id=\"График-относительного-изменения-кумулятивного-среднего-количества-заказов-на-посетителя-группы-B-к-группе-A-2.6\"><span class=\"toc-item-num\">2.6&nbsp;&nbsp;</span>График относительного изменения кумулятивного среднего количества заказов на посетителя группы B к группе A</a></span></li><li><span><a href=\"#Количество-заказов-по-пользователям\" data-toc-modified-id=\"Количество-заказов-по-пользователям-2.7\"><span class=\"toc-item-num\">2.7&nbsp;&nbsp;</span>Количество заказов по пользователям</a></span></li><li><span><a href=\"#Стоимости-заказов\" data-toc-modified-id=\"Стоимости-заказов-2.8\"><span class=\"toc-item-num\">2.8&nbsp;&nbsp;</span>Стоимости заказов</a></span></li><li><span><a href=\"#Различия-показателей-по-&quot;сырым&quot;-данным\" data-toc-modified-id=\"Различия-показателей-по-&quot;сырым&quot;-данным-2.9\"><span class=\"toc-item-num\">2.9&nbsp;&nbsp;</span>Различия показателей по \"сырым\" данным</a></span><ul class=\"toc-item\"><li><span><a href=\"#Гипотеза-1\" data-toc-modified-id=\"Гипотеза-1-2.9.1\"><span class=\"toc-item-num\">2.9.1&nbsp;&nbsp;</span>Гипотеза 1</a></span></li><li><span><a href=\"#Гипотеза-2\" data-toc-modified-id=\"Гипотеза-2-2.9.2\"><span class=\"toc-item-num\">2.9.2&nbsp;&nbsp;</span>Гипотеза 2</a></span></li></ul></li><li><span><a href=\"#Различия-показателей-по-&quot;очищенным&quot;-данным\" data-toc-modified-id=\"Различия-показателей-по-&quot;очищенным&quot;-данным-2.10\"><span class=\"toc-item-num\">2.10&nbsp;&nbsp;</span>Различия показателей по \"очищенным\" данным</a></span><ul class=\"toc-item\"><li><span><a href=\"#Гипотеза-1\" data-toc-modified-id=\"Гипотеза-1-2.10.1\"><span class=\"toc-item-num\">2.10.1&nbsp;&nbsp;</span>Гипотеза 1</a></span></li><li><span><a href=\"#Гипотеза-2\" data-toc-modified-id=\"Гипотеза-2-2.10.2\"><span class=\"toc-item-num\">2.10.2&nbsp;&nbsp;</span>Гипотеза 2</a></span></li></ul></li></ul></li><li><span><a href=\"#Анализ-результатов\" data-toc-modified-id=\"Анализ-результатов-3\"><span class=\"toc-item-num\">3&nbsp;&nbsp;</span>Анализ результатов</a></span></li></ul></div>"
   ]
  },
  {
   "cell_type": "markdown",
   "metadata": {},
   "source": [
    "## Приоритизация гипотез"
   ]
  },
  {
   "cell_type": "code",
   "execution_count": 1,
   "metadata": {},
   "outputs": [],
   "source": [
    "import pandas as pd\n",
    "import datetime as dt\n",
    "import numpy as np\n",
    "import matplotlib.pyplot as plt\n",
    "from pandas.plotting import register_matplotlib_converters\n",
    "import warnings\n",
    "import scipy.stats as stats"
   ]
  },
  {
   "cell_type": "code",
   "execution_count": 2,
   "metadata": {},
   "outputs": [],
   "source": [
    "hypo = pd.read_csv('/datasets/hypothesis.csv')"
   ]
  },
  {
   "cell_type": "markdown",
   "metadata": {},
   "source": [
    "Применим фреймворк `ICE` для приоритизации гипотез. Отсортируем их по убыванию приоритета."
   ]
  },
  {
   "cell_type": "code",
   "execution_count": 3,
   "metadata": {
    "scrolled": true
   },
   "outputs": [
    {
     "data": {
      "text/html": [
       "<div>\n",
       "<style scoped>\n",
       "    .dataframe tbody tr th:only-of-type {\n",
       "        vertical-align: middle;\n",
       "    }\n",
       "\n",
       "    .dataframe tbody tr th {\n",
       "        vertical-align: top;\n",
       "    }\n",
       "\n",
       "    .dataframe thead th {\n",
       "        text-align: right;\n",
       "    }\n",
       "</style>\n",
       "<table border=\"1\" class=\"dataframe\">\n",
       "  <thead>\n",
       "    <tr style=\"text-align: right;\">\n",
       "      <th></th>\n",
       "      <th>Hypothesis</th>\n",
       "      <th>Reach</th>\n",
       "      <th>Impact</th>\n",
       "      <th>Confidence</th>\n",
       "      <th>Efforts</th>\n",
       "      <th>ICE</th>\n",
       "    </tr>\n",
       "  </thead>\n",
       "  <tbody>\n",
       "    <tr>\n",
       "      <th>8</th>\n",
       "      <td>Запустить акцию, дающую скидку на товар в день рождения</td>\n",
       "      <td>1</td>\n",
       "      <td>9</td>\n",
       "      <td>9</td>\n",
       "      <td>5</td>\n",
       "      <td>16.20</td>\n",
       "    </tr>\n",
       "    <tr>\n",
       "      <th>0</th>\n",
       "      <td>Добавить два новых канала привлечения трафика, что позволит привлекать на 30% больше пользователей</td>\n",
       "      <td>3</td>\n",
       "      <td>10</td>\n",
       "      <td>8</td>\n",
       "      <td>6</td>\n",
       "      <td>13.33</td>\n",
       "    </tr>\n",
       "    <tr>\n",
       "      <th>7</th>\n",
       "      <td>Добавить форму подписки на все основные страницы, чтобы собрать базу клиентов для email-рассылок</td>\n",
       "      <td>10</td>\n",
       "      <td>7</td>\n",
       "      <td>8</td>\n",
       "      <td>5</td>\n",
       "      <td>11.20</td>\n",
       "    </tr>\n",
       "    <tr>\n",
       "      <th>6</th>\n",
       "      <td>Показать на главной странице баннеры с актуальными акциями и распродажами, чтобы увеличить конверсию</td>\n",
       "      <td>5</td>\n",
       "      <td>3</td>\n",
       "      <td>8</td>\n",
       "      <td>3</td>\n",
       "      <td>8.00</td>\n",
       "    </tr>\n",
       "    <tr>\n",
       "      <th>2</th>\n",
       "      <td>Добавить блоки рекомендаций товаров на сайт интернет магазина, чтобы повысить конверсию и средний чек заказа</td>\n",
       "      <td>8</td>\n",
       "      <td>3</td>\n",
       "      <td>7</td>\n",
       "      <td>3</td>\n",
       "      <td>7.00</td>\n",
       "    </tr>\n",
       "    <tr>\n",
       "      <th>1</th>\n",
       "      <td>Запустить собственную службу доставки, что сократит срок доставки заказов</td>\n",
       "      <td>2</td>\n",
       "      <td>5</td>\n",
       "      <td>4</td>\n",
       "      <td>10</td>\n",
       "      <td>2.00</td>\n",
       "    </tr>\n",
       "    <tr>\n",
       "      <th>5</th>\n",
       "      <td>Добавить страницу отзывов клиентов о магазине, что позволит увеличить количество заказов</td>\n",
       "      <td>3</td>\n",
       "      <td>2</td>\n",
       "      <td>2</td>\n",
       "      <td>3</td>\n",
       "      <td>1.33</td>\n",
       "    </tr>\n",
       "    <tr>\n",
       "      <th>3</th>\n",
       "      <td>Изменить структура категорий, что увеличит конверсию, т.к. пользователи быстрее найдут нужный товар</td>\n",
       "      <td>8</td>\n",
       "      <td>3</td>\n",
       "      <td>3</td>\n",
       "      <td>8</td>\n",
       "      <td>1.12</td>\n",
       "    </tr>\n",
       "    <tr>\n",
       "      <th>4</th>\n",
       "      <td>Изменить цвет фона главной страницы, чтобы увеличить вовлеченность пользователей</td>\n",
       "      <td>3</td>\n",
       "      <td>1</td>\n",
       "      <td>1</td>\n",
       "      <td>1</td>\n",
       "      <td>1.00</td>\n",
       "    </tr>\n",
       "  </tbody>\n",
       "</table>\n",
       "</div>"
      ],
      "text/plain": [
       "                                                                                                     Hypothesis  \\\n",
       "8  Запустить акцию, дающую скидку на товар в день рождения                                                        \n",
       "0  Добавить два новых канала привлечения трафика, что позволит привлекать на 30% больше пользователей             \n",
       "7  Добавить форму подписки на все основные страницы, чтобы собрать базу клиентов для email-рассылок               \n",
       "6  Показать на главной странице баннеры с актуальными акциями и распродажами, чтобы увеличить конверсию           \n",
       "2  Добавить блоки рекомендаций товаров на сайт интернет магазина, чтобы повысить конверсию и средний чек заказа   \n",
       "1  Запустить собственную службу доставки, что сократит срок доставки заказов                                      \n",
       "5  Добавить страницу отзывов клиентов о магазине, что позволит увеличить количество заказов                       \n",
       "3  Изменить структура категорий, что увеличит конверсию, т.к. пользователи быстрее найдут нужный товар            \n",
       "4  Изменить цвет фона главной страницы, чтобы увеличить вовлеченность пользователей                               \n",
       "\n",
       "   Reach  Impact  Confidence  Efforts    ICE  \n",
       "8  1      9       9           5        16.20  \n",
       "0  3      10      8           6        13.33  \n",
       "7  10     7       8           5        11.20  \n",
       "6  5      3       8           3        8.00   \n",
       "2  8      3       7           3        7.00   \n",
       "1  2      5       4           10       2.00   \n",
       "5  3      2       2           3        1.33   \n",
       "3  8      3       3           8        1.12   \n",
       "4  3      1       1           1        1.00   "
      ]
     },
     "execution_count": 3,
     "metadata": {},
     "output_type": "execute_result"
    }
   ],
   "source": [
    "hypo['ICE'] = (hypo['Impact']*hypo['Confidence']/hypo['Efforts']).round(2)\n",
    "pd.set_option('display.max_colwidth', False)\n",
    "hypo.sort_values(by='ICE', ascending=False)"
   ]
  },
  {
   "cell_type": "markdown",
   "metadata": {},
   "source": [
    "Применим фреймворк `RICE` для приоритизации гипотез. Отсортируем их по убыванию приоритета."
   ]
  },
  {
   "cell_type": "code",
   "execution_count": 4,
   "metadata": {
    "scrolled": false
   },
   "outputs": [
    {
     "data": {
      "text/html": [
       "<div>\n",
       "<style scoped>\n",
       "    .dataframe tbody tr th:only-of-type {\n",
       "        vertical-align: middle;\n",
       "    }\n",
       "\n",
       "    .dataframe tbody tr th {\n",
       "        vertical-align: top;\n",
       "    }\n",
       "\n",
       "    .dataframe thead th {\n",
       "        text-align: right;\n",
       "    }\n",
       "</style>\n",
       "<table border=\"1\" class=\"dataframe\">\n",
       "  <thead>\n",
       "    <tr style=\"text-align: right;\">\n",
       "      <th></th>\n",
       "      <th>Hypothesis</th>\n",
       "      <th>Reach</th>\n",
       "      <th>Impact</th>\n",
       "      <th>Confidence</th>\n",
       "      <th>Efforts</th>\n",
       "      <th>ICE</th>\n",
       "      <th>RICE</th>\n",
       "    </tr>\n",
       "  </thead>\n",
       "  <tbody>\n",
       "    <tr>\n",
       "      <th>7</th>\n",
       "      <td>Добавить форму подписки на все основные страницы, чтобы собрать базу клиентов для email-рассылок</td>\n",
       "      <td>10</td>\n",
       "      <td>7</td>\n",
       "      <td>8</td>\n",
       "      <td>5</td>\n",
       "      <td>11.20</td>\n",
       "      <td>112.0</td>\n",
       "    </tr>\n",
       "    <tr>\n",
       "      <th>2</th>\n",
       "      <td>Добавить блоки рекомендаций товаров на сайт интернет магазина, чтобы повысить конверсию и средний чек заказа</td>\n",
       "      <td>8</td>\n",
       "      <td>3</td>\n",
       "      <td>7</td>\n",
       "      <td>3</td>\n",
       "      <td>7.00</td>\n",
       "      <td>56.0</td>\n",
       "    </tr>\n",
       "    <tr>\n",
       "      <th>0</th>\n",
       "      <td>Добавить два новых канала привлечения трафика, что позволит привлекать на 30% больше пользователей</td>\n",
       "      <td>3</td>\n",
       "      <td>10</td>\n",
       "      <td>8</td>\n",
       "      <td>6</td>\n",
       "      <td>13.33</td>\n",
       "      <td>40.0</td>\n",
       "    </tr>\n",
       "    <tr>\n",
       "      <th>6</th>\n",
       "      <td>Показать на главной странице баннеры с актуальными акциями и распродажами, чтобы увеличить конверсию</td>\n",
       "      <td>5</td>\n",
       "      <td>3</td>\n",
       "      <td>8</td>\n",
       "      <td>3</td>\n",
       "      <td>8.00</td>\n",
       "      <td>40.0</td>\n",
       "    </tr>\n",
       "    <tr>\n",
       "      <th>8</th>\n",
       "      <td>Запустить акцию, дающую скидку на товар в день рождения</td>\n",
       "      <td>1</td>\n",
       "      <td>9</td>\n",
       "      <td>9</td>\n",
       "      <td>5</td>\n",
       "      <td>16.20</td>\n",
       "      <td>16.2</td>\n",
       "    </tr>\n",
       "    <tr>\n",
       "      <th>3</th>\n",
       "      <td>Изменить структура категорий, что увеличит конверсию, т.к. пользователи быстрее найдут нужный товар</td>\n",
       "      <td>8</td>\n",
       "      <td>3</td>\n",
       "      <td>3</td>\n",
       "      <td>8</td>\n",
       "      <td>1.12</td>\n",
       "      <td>9.0</td>\n",
       "    </tr>\n",
       "    <tr>\n",
       "      <th>1</th>\n",
       "      <td>Запустить собственную службу доставки, что сократит срок доставки заказов</td>\n",
       "      <td>2</td>\n",
       "      <td>5</td>\n",
       "      <td>4</td>\n",
       "      <td>10</td>\n",
       "      <td>2.00</td>\n",
       "      <td>4.0</td>\n",
       "    </tr>\n",
       "    <tr>\n",
       "      <th>5</th>\n",
       "      <td>Добавить страницу отзывов клиентов о магазине, что позволит увеличить количество заказов</td>\n",
       "      <td>3</td>\n",
       "      <td>2</td>\n",
       "      <td>2</td>\n",
       "      <td>3</td>\n",
       "      <td>1.33</td>\n",
       "      <td>4.0</td>\n",
       "    </tr>\n",
       "    <tr>\n",
       "      <th>4</th>\n",
       "      <td>Изменить цвет фона главной страницы, чтобы увеличить вовлеченность пользователей</td>\n",
       "      <td>3</td>\n",
       "      <td>1</td>\n",
       "      <td>1</td>\n",
       "      <td>1</td>\n",
       "      <td>1.00</td>\n",
       "      <td>3.0</td>\n",
       "    </tr>\n",
       "  </tbody>\n",
       "</table>\n",
       "</div>"
      ],
      "text/plain": [
       "                                                                                                     Hypothesis  \\\n",
       "7  Добавить форму подписки на все основные страницы, чтобы собрать базу клиентов для email-рассылок               \n",
       "2  Добавить блоки рекомендаций товаров на сайт интернет магазина, чтобы повысить конверсию и средний чек заказа   \n",
       "0  Добавить два новых канала привлечения трафика, что позволит привлекать на 30% больше пользователей             \n",
       "6  Показать на главной странице баннеры с актуальными акциями и распродажами, чтобы увеличить конверсию           \n",
       "8  Запустить акцию, дающую скидку на товар в день рождения                                                        \n",
       "3  Изменить структура категорий, что увеличит конверсию, т.к. пользователи быстрее найдут нужный товар            \n",
       "1  Запустить собственную службу доставки, что сократит срок доставки заказов                                      \n",
       "5  Добавить страницу отзывов клиентов о магазине, что позволит увеличить количество заказов                       \n",
       "4  Изменить цвет фона главной страницы, чтобы увеличить вовлеченность пользователей                               \n",
       "\n",
       "   Reach  Impact  Confidence  Efforts    ICE   RICE  \n",
       "7  10     7       8           5        11.20  112.0  \n",
       "2  8      3       7           3        7.00   56.0   \n",
       "0  3      10      8           6        13.33  40.0   \n",
       "6  5      3       8           3        8.00   40.0   \n",
       "8  1      9       9           5        16.20  16.2   \n",
       "3  8      3       3           8        1.12   9.0    \n",
       "1  2      5       4           10       2.00   4.0    \n",
       "5  3      2       2           3        1.33   4.0    \n",
       "4  3      1       1           1        1.00   3.0    "
      ]
     },
     "execution_count": 4,
     "metadata": {},
     "output_type": "execute_result"
    }
   ],
   "source": [
    "hypo['RICE'] = hypo['Reach']*hypo['Impact']*hypo['Confidence']/hypo['Efforts']\n",
    "pd.set_option('display.max_colwidth', False)\n",
    "hypo.sort_values(by='RICE', ascending=False)"
   ]
  },
  {
   "cell_type": "markdown",
   "metadata": {},
   "source": [
    "Рейтинги гипотез по `RICE` и `ICE` выглядят по-разному. Это связано с тем, что `RICE` дополнительно учитивает влияние на пользователей - параметр *Reach*.\n",
    "\n",
    "**Вывод:** в результате, по `ICE` лидируют гипотезы 8, 0 и 7, а по `RICE` - 7, 2 и 0."
   ]
  },
  {
   "cell_type": "markdown",
   "metadata": {},
   "source": [
    "## Анализ A/B теста"
   ]
  },
  {
   "cell_type": "code",
   "execution_count": 5,
   "metadata": {},
   "outputs": [],
   "source": [
    "orders = pd.read_csv('/datasets/orders.csv')\n",
    "visitors = pd.read_csv('/datasets/visitors.csv')"
   ]
  },
  {
   "cell_type": "code",
   "execution_count": 6,
   "metadata": {},
   "outputs": [],
   "source": [
    "orders['date'] = orders['date'].map(\n",
    "    lambda x: dt.datetime.strptime(x, '%Y-%m-%d')\n",
    ")\n",
    "visitors['date'] = visitors['date'].map(\n",
    "    lambda x: dt.datetime.strptime(x, '%Y-%m-%d')\n",
    ")"
   ]
  },
  {
   "cell_type": "markdown",
   "metadata": {},
   "source": [
    "### Проверка данных на наличие дубликатов и пропусков"
   ]
  },
  {
   "cell_type": "code",
   "execution_count": 7,
   "metadata": {},
   "outputs": [
    {
     "data": {
      "text/plain": [
       "0"
      ]
     },
     "execution_count": 7,
     "metadata": {},
     "output_type": "execute_result"
    }
   ],
   "source": [
    "orders.duplicated().sum()"
   ]
  },
  {
   "cell_type": "code",
   "execution_count": 8,
   "metadata": {},
   "outputs": [
    {
     "data": {
      "text/plain": [
       "0"
      ]
     },
     "execution_count": 8,
     "metadata": {},
     "output_type": "execute_result"
    }
   ],
   "source": [
    "visitors.duplicated().sum()"
   ]
  },
  {
   "cell_type": "markdown",
   "metadata": {},
   "source": [
    "Явных дубликатов в данных нет."
   ]
  },
  {
   "cell_type": "code",
   "execution_count": 9,
   "metadata": {},
   "outputs": [
    {
     "data": {
      "text/plain": [
       "transactionId    0\n",
       "visitorId        0\n",
       "date             0\n",
       "revenue          0\n",
       "group            0\n",
       "dtype: int64"
      ]
     },
     "execution_count": 9,
     "metadata": {},
     "output_type": "execute_result"
    }
   ],
   "source": [
    "orders.isna().sum()"
   ]
  },
  {
   "cell_type": "code",
   "execution_count": 10,
   "metadata": {},
   "outputs": [
    {
     "data": {
      "text/plain": [
       "date        0\n",
       "group       0\n",
       "visitors    0\n",
       "dtype: int64"
      ]
     },
     "execution_count": 10,
     "metadata": {},
     "output_type": "execute_result"
    }
   ],
   "source": [
    "visitors.isna().sum()"
   ]
  },
  {
   "cell_type": "markdown",
   "metadata": {},
   "source": [
    "Пропуски отсутствуют."
   ]
  },
  {
   "cell_type": "code",
   "execution_count": 11,
   "metadata": {},
   "outputs": [
    {
     "data": {
      "text/plain": [
       "array(['B', 'A'], dtype=object)"
      ]
     },
     "execution_count": 11,
     "metadata": {},
     "output_type": "execute_result"
    }
   ],
   "source": [
    "orders['group'].unique()"
   ]
  },
  {
   "cell_type": "markdown",
   "metadata": {},
   "source": [
    "В тесте участвуют 2 группы - A и B."
   ]
  },
  {
   "cell_type": "code",
   "execution_count": 12,
   "metadata": {},
   "outputs": [
    {
     "data": {
      "text/plain": [
       "Timestamp('2019-08-01 00:00:00')"
      ]
     },
     "execution_count": 12,
     "metadata": {},
     "output_type": "execute_result"
    }
   ],
   "source": [
    "visitors['date'].min()"
   ]
  },
  {
   "cell_type": "code",
   "execution_count": 13,
   "metadata": {},
   "outputs": [
    {
     "data": {
      "text/plain": [
       "Timestamp('2019-08-31 00:00:00')"
      ]
     },
     "execution_count": 13,
     "metadata": {},
     "output_type": "execute_result"
    }
   ],
   "source": [
    "visitors['date'].max()"
   ]
  },
  {
   "cell_type": "markdown",
   "metadata": {},
   "source": [
    "Тест длился с 1 по 31 августа 2019 года."
   ]
  },
  {
   "cell_type": "code",
   "execution_count": 14,
   "metadata": {},
   "outputs": [
    {
     "name": "stdout",
     "output_type": "stream",
     "text": [
      "Количество пользователей, попавших в обе группы =  58\n"
     ]
    }
   ],
   "source": [
    "# отбираем группы  \n",
    "group_a=orders.query('group == \"A\"') \n",
    "group_b=orders.query('group == \"B\"') \n",
    "  \n",
    "# получаем id пользователей, попавших в обе группы \n",
    "group_intersections=list(np.intersect1d(group_a['visitorId'], group_b['visitorId']))\n",
    "print ('Количество пользователей, попавших в обе группы = ', len(group_intersections))"
   ]
  },
  {
   "cell_type": "code",
   "execution_count": 15,
   "metadata": {},
   "outputs": [],
   "source": [
    "orders = orders[orders['visitorId'].isin(group_intersections)==False]"
   ]
  },
  {
   "cell_type": "markdown",
   "metadata": {},
   "source": [
    "### График кумулятивной выручки по группам"
   ]
  },
  {
   "cell_type": "markdown",
   "metadata": {},
   "source": [
    "Для начала, построим **график кумулятивной выручки по группам**."
   ]
  },
  {
   "cell_type": "code",
   "execution_count": 16,
   "metadata": {},
   "outputs": [
    {
     "data": {
      "image/png": "[encoded data removed]",
      "text/plain": [
       "<Figure size 864x648 with 1 Axes>"
      ]
     },
     "metadata": {
      "needs_background": "light"
     },
     "output_type": "display_data"
    }
   ],
   "source": [
    "# конвертеры, которые позволяют использовать типы pandas в matplotlib  \n",
    "register_matplotlib_converters()\n",
    "\n",
    "datesGroups = orders[['date', 'group']].drop_duplicates()\n",
    "\n",
    "ordersAggregated = datesGroups.apply(\n",
    "    lambda x: orders[\n",
    "        np.logical_and(\n",
    "            orders['date'] <= x['date'], orders['group'] == x['group']\n",
    "        )\n",
    "    ].agg(\n",
    "        {\n",
    "            'date': 'max',\n",
    "            'group': 'max',\n",
    "            'transactionId': 'nunique',\n",
    "            'visitorId': 'nunique',\n",
    "            'revenue': 'sum',\n",
    "        }\n",
    "    ),\n",
    "    axis=1,\n",
    ").sort_values(by=['date', 'group'])\n",
    "\n",
    "visitorsAggregated = datesGroups.apply(\n",
    "    lambda x: visitors[\n",
    "        np.logical_and(\n",
    "            visitors['date'] <= x['date'], visitors['group'] == x['group']\n",
    "        )\n",
    "    ].agg({'date': 'max', 'group': 'max', 'visitors': 'sum'}),\n",
    "    axis=1,\n",
    ").sort_values(by=['date', 'group'])\n",
    "\n",
    "cumulativeData = ordersAggregated.merge(\n",
    "    visitorsAggregated, left_on=['date', 'group'], right_on=['date', 'group']\n",
    ")\n",
    "cumulativeData.columns = [\n",
    "    'date',\n",
    "    'group',\n",
    "    'orders',\n",
    "    'buyers',\n",
    "    'revenue',\n",
    "    'visitors',\n",
    "]\n",
    "\n",
    "cumulativeRevenueA = cumulativeData.query('group == \"A\"')\n",
    "cumulativeRevenueA = cumulativeRevenueA[['date', 'revenue', 'orders']]\n",
    "\n",
    "cumulativeRevenueB = cumulativeData.query('group == \"B\"')\n",
    "cumulativeRevenueB = cumulativeRevenueB[['date', 'revenue', 'orders']]\n",
    "\n",
    "plt.figure(figsize=(12,9));\n",
    "plt.plot(cumulativeRevenueA['date'], cumulativeRevenueA['revenue'], label='A');\n",
    "plt.plot(cumulativeRevenueB['date'], cumulativeRevenueB['revenue'], label='B');\n",
    "plt.xlabel('Дата')\n",
    "plt.ylabel('Кумулятивная выручка, 1*10^6 ден. ед.')\n",
    "plt.legend();\n",
    "plt.title('График кумулятивной выручки по группам');"
   ]
  },
  {
   "cell_type": "markdown",
   "metadata": {},
   "source": [
    "**Вывод:** кумулятивная выручка группы B практически с самого начала теста стала превосходить выручку группы A, однако на графике виден резкий рост по группе B в конце второй декады августа. Можно предположить, что на данные повлияли аномально крупные заказы. При заключительном анализе аномальные данные нужно будет удалить."
   ]
  },
  {
   "cell_type": "markdown",
   "metadata": {},
   "source": [
    "### График кумулятивного среднего чека по группам"
   ]
  },
  {
   "cell_type": "code",
   "execution_count": 17,
   "metadata": {},
   "outputs": [
    {
     "data": {
      "image/png": "[encoded data removed]",
      "text/plain": [
       "<Figure size 864x648 with 1 Axes>"
      ]
     },
     "metadata": {
      "needs_background": "light"
     },
     "output_type": "display_data"
    }
   ],
   "source": [
    "cumulativeRevenueA = cumulativeData[cumulativeData['group'] == 'A'][\n",
    "    ['date', 'revenue', 'orders']\n",
    "]\n",
    "cumulativeRevenueB = cumulativeData[cumulativeData['group'] == 'B'][\n",
    "    ['date', 'revenue', 'orders']\n",
    "]\n",
    "\n",
    "plt.figure(figsize=(12,9));\n",
    "plt.plot(cumulativeRevenueA['date'], cumulativeRevenueA['revenue']/cumulativeRevenueA['orders'], label='A');\n",
    "plt.plot(cumulativeRevenueB['date'], cumulativeRevenueB['revenue']/cumulativeRevenueB['orders'], label='B');\n",
    "plt.legend();\n",
    "plt.xlabel('Дата')\n",
    "plt.ylabel('Кумулятивный средний чек, ден. ед.')\n",
    "plt.title('График кумулятивного среднего чека по группам');"
   ]
  },
  {
   "cell_type": "markdown",
   "metadata": {},
   "source": [
    "**Вывод:** резкий рост кумулятивного среднего чека в группе B в конце второй декады августа также может указывать на аномалии в данных в эти даты."
   ]
  },
  {
   "cell_type": "markdown",
   "metadata": {},
   "source": [
    "### График относительного изменения кумулятивного среднего чека"
   ]
  },
  {
   "cell_type": "code",
   "execution_count": 18,
   "metadata": {},
   "outputs": [
    {
     "data": {
      "image/png": "[encoded data removed]",
      "text/plain": [
       "<Figure size 864x648 with 1 Axes>"
      ]
     },
     "metadata": {
      "needs_background": "light"
     },
     "output_type": "display_data"
    }
   ],
   "source": [
    "# собираем данные в одном датафрейме\n",
    "mergedCumulativeRevenue = cumulativeRevenueA.merge(cumulativeRevenueB, left_on='date', right_on='date', how='left', suffixes=['A', 'B'])\n",
    "\n",
    "plt.figure(figsize=(12,9));\n",
    "\n",
    "# cтроим отношение средних чеков\n",
    "plt.plot(mergedCumulativeRevenue['date'], (mergedCumulativeRevenue['revenueB']\n",
    "                                           /mergedCumulativeRevenue['ordersB'])\n",
    "         /(mergedCumulativeRevenue['revenueA']/mergedCumulativeRevenue['ordersA'])-1);\n",
    "\n",
    "# добавляем ось X\n",
    "plt.axhline(y=0, color='black', linestyle='--');\n",
    "plt.xlabel('Дата')\n",
    "plt.ylabel('Относительное изменение кумулятивного среднего чека')\n",
    "plt.title('График относительного изменения кумулятивного среднего чека');\n"
   ]
  },
  {
   "cell_type": "markdown",
   "metadata": {},
   "source": [
    "**Вывод:** результаты теста значительно изменялись в несколько дат; возможно, это даты совершения аномальных заказов."
   ]
  },
  {
   "cell_type": "markdown",
   "metadata": {},
   "source": [
    "### График кумулятивного среднего количества заказов на посетителя по группам"
   ]
  },
  {
   "cell_type": "code",
   "execution_count": 19,
   "metadata": {},
   "outputs": [
    {
     "data": {
      "image/png": "[encoded data removed]",
      "text/plain": [
       "<Figure size 864x648 with 1 Axes>"
      ]
     },
     "metadata": {
      "needs_background": "light"
     },
     "output_type": "display_data"
    }
   ],
   "source": [
    "cumulativeOrdersPerVisitorsA = cumulativeData[cumulativeData['group'] == 'A'][\n",
    "    ['date', 'orders', 'visitors']\n",
    "]\n",
    "cumulativeOrdersPerVisitorsB = cumulativeData[cumulativeData['group'] == 'B'][\n",
    "    ['date', 'orders', 'visitors']\n",
    "]\n",
    "\n",
    "plt.figure(figsize=(12,9));\n",
    "plt.plot(cumulativeOrdersPerVisitorsA['date'], cumulativeOrdersPerVisitorsA['orders']\n",
    "         /cumulativeOrdersPerVisitorsA['visitors'], label='A');\n",
    "plt.plot(cumulativeOrdersPerVisitorsB['date'], cumulativeOrdersPerVisitorsB['orders']\n",
    "         /cumulativeOrdersPerVisitorsB['visitors'], label='B');\n",
    "plt.legend()\n",
    "plt.title('График кумулятивного среднего количества заказов на посетителя по группам')\n",
    "plt.xlabel('Дата')\n",
    "plt.ylabel('Кумулятивное среднее количество заказов на посетителя')\n",
    "plt.show();"
   ]
  },
  {
   "cell_type": "markdown",
   "metadata": {},
   "source": [
    "**Вывод:** кумулятивное среднее значение количества заказов на посетителя в группе B резко растет в середине первой декады августа, а в группе A в те же даты наблюдается обратное. Можно отметить, что в последующие дни кумулятивное среднее количество заказов на посетителя в группе B было стабильно больше, чем в группе A."
   ]
  },
  {
   "cell_type": "markdown",
   "metadata": {},
   "source": [
    "### График относительного изменения кумулятивного среднего количества заказов на посетителя группы B к группе A"
   ]
  },
  {
   "cell_type": "code",
   "execution_count": 20,
   "metadata": {},
   "outputs": [
    {
     "data": {
      "image/png": "[encoded data removed]",
      "text/plain": [
       "<Figure size 864x648 with 1 Axes>"
      ]
     },
     "metadata": {
      "needs_background": "light"
     },
     "output_type": "display_data"
    }
   ],
   "source": [
    "mergedCumulativeOrdersPerVisitors = cumulativeOrdersPerVisitorsA.merge(\n",
    "    cumulativeOrdersPerVisitorsB,\n",
    "    left_on='date', right_on='date', how='left', suffixes=['A', 'B'])\n",
    "\n",
    "plt.figure(figsize=(12,9));\n",
    "\n",
    "plt.plot(mergedCumulativeOrdersPerVisitors['date'], (mergedCumulativeOrdersPerVisitors['ordersB']\n",
    "                                           /mergedCumulativeOrdersPerVisitors['visitorsB'])\n",
    "         /(mergedCumulativeOrdersPerVisitors['ordersA']/mergedCumulativeOrdersPerVisitors['visitorsA'])-1);\n",
    "\n",
    "# добавляем ось X\n",
    "plt.axhline(y=0, color='black', linestyle='--')\n",
    "plt.xlabel('Дата')\n",
    "plt.title('График относительного изменения кумулятивного среднего количества заказов на посетителя группы B к группе A')\n",
    "plt.show();"
   ]
  },
  {
   "cell_type": "markdown",
   "metadata": {},
   "source": [
    "**Вывод:** относительный график также указывает на резкий рост различия в кумулятивном среднем количестве заказов на посетителя в группах A и B в середине и конце первой декады августа, причем кумулятивное среднее в группе B начинает превосходить это значение в группе A."
   ]
  },
  {
   "cell_type": "markdown",
   "metadata": {},
   "source": [
    "### Количество заказов по пользователям"
   ]
  },
  {
   "cell_type": "markdown",
   "metadata": {},
   "source": [
    "Построим точечный график количества заказов по пользователям."
   ]
  },
  {
   "cell_type": "code",
   "execution_count": 21,
   "metadata": {
    "scrolled": false
   },
   "outputs": [
    {
     "data": {
      "image/png": "[encoded data removed]",
      "text/plain": [
       "<Figure size 864x648 with 1 Axes>"
      ]
     },
     "metadata": {
      "needs_background": "light"
     },
     "output_type": "display_data"
    }
   ],
   "source": [
    "ordersByVisitors = (\n",
    "    orders.groupby('visitorId', as_index=False)\n",
    "    .agg({'transactionId': 'nunique'})\n",
    ")\n",
    "ordersByVisitors.columns = ['visitorId', 'orders']\n",
    "ordersByVisitors.sort_values(by='orders', ascending=False)\n",
    "\n",
    "x_values = pd.Series(range(0, len(ordersByVisitors)))\n",
    "\n",
    "plt.figure(figsize=(12,9));\n",
    "plt.scatter(x_values, ordersByVisitors['orders']);\n",
    "plt.title('Точечный график количества заказов по пользователям')\n",
    "plt.xlabel('Номер пользователя')\n",
    "plt.ylabel('Количество заказов')\n",
    "plt.show();"
   ]
  },
  {
   "cell_type": "markdown",
   "metadata": {},
   "source": [
    "Большая часть пользователей ограничилась одним заказом.\n",
    "\n",
    "Посчитаем 95-й и 99-й перцентили количества заказов на пользователя."
   ]
  },
  {
   "cell_type": "code",
   "execution_count": 22,
   "metadata": {},
   "outputs": [
    {
     "data": {
      "text/plain": [
       "array([1., 2.])"
      ]
     },
     "execution_count": 22,
     "metadata": {},
     "output_type": "execute_result"
    }
   ],
   "source": [
    "np.percentile(ordersByVisitors['orders'], [95, 99])"
   ]
  },
  {
   "cell_type": "markdown",
   "metadata": {},
   "source": [
    "Судя по 95-ому и 99-ому выборочным перцентилям количества заказов по пользователям, 95% пользователей сделали не более одного заказа, а 99% - не более двух.\n",
    "\n",
    "**Вывод:** в качестве аномальных пользователей выберем тех, кто совершил 3 и более заказов."
   ]
  },
  {
   "cell_type": "markdown",
   "metadata": {},
   "source": [
    "### Стоимости заказов"
   ]
  },
  {
   "cell_type": "markdown",
   "metadata": {},
   "source": [
    "Построим точечный график стоимостей заказов."
   ]
  },
  {
   "cell_type": "code",
   "execution_count": 23,
   "metadata": {},
   "outputs": [
    {
     "data": {
      "image/png": "[encoded data removed]",
      "text/plain": [
       "<Figure size 864x648 with 1 Axes>"
      ]
     },
     "metadata": {
      "needs_background": "light"
     },
     "output_type": "display_data"
    }
   ],
   "source": [
    "x_values = pd.Series(range(0, len(orders['revenue'])))\n",
    "\n",
    "plt.figure(figsize=(12,9));\n",
    "plt.title('Точечный график стоимостей заказов')\n",
    "plt.scatter(x_values, orders['revenue'])\n",
    "plt.xlabel('Условный номер заказа')\n",
    "plt.ylabel('Стоимость заказа, 1*10^6 ден. ед.')\n",
    "plt.show;"
   ]
  },
  {
   "cell_type": "markdown",
   "metadata": {},
   "source": [
    "Наблюдаем один очень большой выброс стоимости заказа, обрежем его, чтобы рассмотреть подробнее другие заказы."
   ]
  },
  {
   "cell_type": "code",
   "execution_count": 24,
   "metadata": {},
   "outputs": [
    {
     "data": {
      "image/png": "[encoded data removed]",
      "text/plain": [
       "<Figure size 864x648 with 1 Axes>"
      ]
     },
     "metadata": {
      "needs_background": "light"
     },
     "output_type": "display_data"
    }
   ],
   "source": [
    "x_values = pd.Series(range(0, len(orders.query('revenue < 800000')['revenue'])))\n",
    "plt.figure(figsize=(12,9));\n",
    "plt.title('Точечный график стоимостей заказов')\n",
    "plt.scatter(x_values, orders.query('revenue < 800000')['revenue'])\n",
    "plt.xlabel('Условный номер заказа')\n",
    "plt.ylabel('Стоимость заказа, ден. ед.')\n",
    "plt.show;"
   ]
  },
  {
   "cell_type": "markdown",
   "metadata": {},
   "source": [
    "Посчитаем 95-й и 99-й перцентили стоимости заказов."
   ]
  },
  {
   "cell_type": "code",
   "execution_count": 25,
   "metadata": {
    "scrolled": true
   },
   "outputs": [
    {
     "data": {
      "text/plain": [
       "array([26785., 53904.])"
      ]
     },
     "execution_count": 25,
     "metadata": {},
     "output_type": "execute_result"
    }
   ],
   "source": [
    "np.percentile(orders['revenue'], [95, 99])"
   ]
  },
  {
   "cell_type": "markdown",
   "metadata": {},
   "source": [
    "**Вывод:** обратившись к перцентилям, в качестве аномальных заказов выберем те, суммы которых превышают 26785."
   ]
  },
  {
   "cell_type": "markdown",
   "metadata": {},
   "source": [
    "### Различия показателей по \"сырым\" данным"
   ]
  },
  {
   "cell_type": "markdown",
   "metadata": {},
   "source": [
    "#### Гипотеза 1"
   ]
  },
  {
   "cell_type": "markdown",
   "metadata": {},
   "source": [
    "Посчитаем статистическую значимость различий в среднем количестве заказов на посетителя между группами по «сырым» данным."
   ]
  },
  {
   "cell_type": "markdown",
   "metadata": {},
   "source": [
    "**Нулевая гипотеза:** в среднем количестве заказов на посетителя между группами нет статистически значимых различий.\n",
    "\n",
    "**Альтернативная гипотеза:** в среднем количестве заказов на посетителя между группами есть статистически значимые различия.\n",
    "\n",
    "**alpha =** 0.05\n",
    "\n",
    "**Метод проверки гипотезы:** U-критерий Манна-Уитни"
   ]
  },
  {
   "cell_type": "code",
   "execution_count": 26,
   "metadata": {},
   "outputs": [
    {
     "data": {
      "text/plain": [
       "'0.01102'"
      ]
     },
     "execution_count": 26,
     "metadata": {},
     "output_type": "execute_result"
    }
   ],
   "source": [
    "visitorsADaily = visitors[visitors['group'] == 'A'][['date', 'visitors']]\n",
    "visitorsADaily.columns = ['date', 'visitorsPerDateA']\n",
    "\n",
    "visitorsACummulative = visitorsADaily.apply(\n",
    "    lambda x: visitorsADaily[visitorsADaily['date'] <= x['date']].agg(\n",
    "        {'date': 'max', 'visitorsPerDateA': 'sum'}\n",
    "    ),\n",
    "    axis=1,\n",
    ")\n",
    "visitorsACummulative.columns = ['date', 'visitorsCummulativeA']\n",
    "\n",
    "visitorsBDaily = visitors[visitors['group'] == 'B'][['date', 'visitors']]\n",
    "visitorsBDaily.columns = ['date', 'visitorsPerDateB']\n",
    "\n",
    "visitorsBCummulative = visitorsBDaily.apply(\n",
    "    lambda x: visitorsBDaily[visitorsBDaily['date'] <= x['date']].agg(\n",
    "        {'date': 'max', 'visitorsPerDateB': 'sum'}\n",
    "    ),\n",
    "    axis=1,\n",
    ")\n",
    "visitorsBCummulative.columns = ['date', 'visitorsCummulativeB']\n",
    "\n",
    "ordersADaily = (\n",
    "    orders[orders['group'] == 'A'][['date', 'transactionId', 'visitorId', 'revenue']]\n",
    "    .groupby('date', as_index=False)\n",
    "    .agg({'transactionId': pd.Series.nunique, 'revenue': 'sum'})\n",
    ")\n",
    "ordersADaily.columns = ['date', 'ordersPerDateA', 'revenuePerDateA']\n",
    "\n",
    "ordersACummulative = ordersADaily.apply(\n",
    "    lambda x: ordersADaily[ordersADaily['date'] <= x['date']].agg(\n",
    "        {'date': 'max', 'ordersPerDateA': 'sum', 'revenuePerDateA': 'sum'}\n",
    "    ),\n",
    "    axis=1,\n",
    ").sort_values(by=['date'])\n",
    "ordersACummulative.columns = [\n",
    "    'date',\n",
    "    'ordersCummulativeA',\n",
    "    'revenueCummulativeA',\n",
    "]\n",
    "\n",
    "ordersBDaily = (\n",
    "    orders[orders['group'] == 'B'][['date', 'transactionId', 'visitorId', 'revenue']]\n",
    "    .groupby('date', as_index=False)\n",
    "    .agg({'transactionId': pd.Series.nunique, 'revenue': 'sum'})\n",
    ")\n",
    "ordersBDaily.columns = ['date', 'ordersPerDateB', 'revenuePerDateB']\n",
    "\n",
    "ordersBCummulative = ordersBDaily.apply(\n",
    "    lambda x: ordersBDaily[ordersBDaily['date'] <= x['date']].agg(\n",
    "        {'date': 'max', 'ordersPerDateB': 'sum', 'revenuePerDateB': 'sum'}\n",
    "    ),\n",
    "    axis=1,\n",
    ").sort_values(by=['date'])\n",
    "ordersBCummulative.columns = [\n",
    "    'date',\n",
    "    'ordersCummulativeB',\n",
    "    'revenueCummulativeB',\n",
    "]\n",
    "\n",
    "data = (\n",
    "    ordersADaily.merge(\n",
    "        ordersBDaily, left_on='date', right_on='date', how='left'\n",
    "    )\n",
    "    .merge(ordersACummulative, left_on='date', right_on='date', how='left')\n",
    "    .merge(ordersBCummulative, left_on='date', right_on='date', how='left')\n",
    "    .merge(visitorsADaily, left_on='date', right_on='date', how='left')\n",
    "    .merge(visitorsBDaily, left_on='date', right_on='date', how='left')\n",
    "    .merge(visitorsACummulative, left_on='date', right_on='date', how='left')\n",
    "    .merge(visitorsBCummulative, left_on='date', right_on='date', how='left')\n",
    ")\n",
    "\n",
    "ordersByUsersA = (\n",
    "    orders[orders['group'] == 'A']\n",
    "    .groupby('visitorId', as_index=False)\n",
    "    .agg({'transactionId': pd.Series.nunique})\n",
    ")\n",
    "ordersByUsersA.columns = ['userId', 'orders']\n",
    "\n",
    "ordersByUsersB = (\n",
    "    orders[orders['group'] == 'B']\n",
    "    .groupby('visitorId', as_index=False)\n",
    "    .agg({'transactionId': pd.Series.nunique})\n",
    ")\n",
    "ordersByUsersB.columns = ['userId', 'orders']\n",
    "\n",
    "sampleA = pd.concat(\n",
    "    [\n",
    "        ordersByUsersA['orders'],\n",
    "        pd.Series(\n",
    "            0,\n",
    "            index=np.arange(\n",
    "                data['visitorsPerDateA'].sum() - len(ordersByUsersA['orders'])\n",
    "            ),\n",
    "            name='orders',\n",
    "        ),\n",
    "    ],\n",
    "    axis=0,\n",
    ")\n",
    "\n",
    "sampleB = pd.concat(\n",
    "    [\n",
    "        ordersByUsersB['orders'],\n",
    "        pd.Series(\n",
    "            0,\n",
    "            index=np.arange(\n",
    "                data['visitorsPerDateB'].sum() - len(ordersByUsersB['orders'])\n",
    "            ),\n",
    "            name='orders',\n",
    "        ),\n",
    "    ],\n",
    "    axis=0,\n",
    ")\n",
    "\n",
    "\"{0:.5f}\".format(stats.mannwhitneyu(sampleA, sampleB)[1])"
   ]
  },
  {
   "cell_type": "markdown",
   "metadata": {},
   "source": [
    "P-value меньше 0.05, поэтому отвергаем нулевую гипотезу.\n",
    "\n",
    "**Вывод:** по \"сырым\" данным, в среднем количестве заказов на посетителя между группами есть статистически значимые различия."
   ]
  },
  {
   "cell_type": "markdown",
   "metadata": {},
   "source": [
    "Посчитаем также различия в средних."
   ]
  },
  {
   "cell_type": "code",
   "execution_count": 27,
   "metadata": {
    "scrolled": true
   },
   "outputs": [
    {
     "data": {
      "text/plain": [
       "'0.160'"
      ]
     },
     "execution_count": 27,
     "metadata": {},
     "output_type": "execute_result"
    }
   ],
   "source": [
    "\"{0:.3f}\".format(sampleB.mean() / sampleA.mean() - 1)"
   ]
  },
  {
   "cell_type": "markdown",
   "metadata": {},
   "source": [
    "#### Гипотеза 2"
   ]
  },
  {
   "cell_type": "markdown",
   "metadata": {},
   "source": [
    "Посчитаем статистическую значимость различий в среднем чеке заказа между группами по «сырым» данным.\n",
    "\n",
    "**Нулевая гипотеза:** в среднем чеке заказа между группами нет статистически значимых различий.\n",
    "\n",
    "**Альтернативная гипотеза:** в среднем чеке заказа между группами есть статистически значимые различия.\n",
    "\n",
    "**alpha =** 0.05\n",
    "\n",
    "**Метод проверки гипотезы:** U-критерий Манна-Уитни"
   ]
  },
  {
   "cell_type": "code",
   "execution_count": 28,
   "metadata": {},
   "outputs": [
    {
     "data": {
      "text/plain": [
       "'0.82949'"
      ]
     },
     "execution_count": 28,
     "metadata": {},
     "output_type": "execute_result"
    }
   ],
   "source": [
    "'{0:.5f}'.format(stats.mannwhitneyu(orders[orders['group']=='A']['revenue'], \n",
    "                                    orders[orders['group']=='B']['revenue'])[1])"
   ]
  },
  {
   "cell_type": "markdown",
   "metadata": {},
   "source": [
    "P-value больше 0.05, поэтому мы не можем отвергнуть нулевую гипотезу.\n",
    "\n",
    "**Вывод:** по \"сырым\" данным, в среднем чеке заказа между группами нет статистически значимых различий."
   ]
  },
  {
   "cell_type": "markdown",
   "metadata": {},
   "source": [
    "Посчитаем также различия в средних."
   ]
  },
  {
   "cell_type": "code",
   "execution_count": 29,
   "metadata": {},
   "outputs": [
    {
     "name": "stdout",
     "output_type": "stream",
     "text": [
      "0.287\n"
     ]
    }
   ],
   "source": [
    "print('{0:.3f}'.format(orders[orders['group']=='B']['revenue'].mean()\n",
    "                       /orders[orders['group']=='A']['revenue'].mean()-1))"
   ]
  },
  {
   "cell_type": "markdown",
   "metadata": {},
   "source": [
    "### Различия показателей по \"очищенным\" данным"
   ]
  },
  {
   "cell_type": "markdown",
   "metadata": {},
   "source": [
    "Для начала, необходимо отбросить аномальных пользователей."
   ]
  },
  {
   "cell_type": "code",
   "execution_count": 30,
   "metadata": {},
   "outputs": [],
   "source": [
    "ordersByUsersA = (\n",
    "    orders[orders['group'] == 'A']\n",
    "    .groupby('visitorId', as_index=False)\n",
    "    .agg({'transactionId': pd.Series.nunique})\n",
    ")\n",
    "ordersByUsersA.columns = ['userId', 'orders']\n",
    "\n",
    "ordersByUsersB = (\n",
    "    orders[orders['group'] == 'B']\n",
    "    .groupby('visitorId', as_index=False)\n",
    "    .agg({'transactionId': pd.Series.nunique})\n",
    ")\n",
    "ordersByUsersB.columns = ['userId', 'orders']\n",
    "\n",
    "usersWithManyOrders = pd.concat(\n",
    "    [\n",
    "        ordersByUsersA[ordersByUsersA['orders'] > np.percentile(ordersByVisitors['orders'], [95, 99])[1]]['userId'],\n",
    "        ordersByUsersB[ordersByUsersB['orders'] > np.percentile(ordersByVisitors['orders'], [95, 99])[1]]['userId'],\n",
    "    ],\n",
    "    axis=0,\n",
    ")\n",
    "usersWithExpensiveOrders = orders[orders['revenue'] > np.percentile(orders['revenue'], [95, 99])[0]]['visitorId']\n",
    "abnormalUsers = (\n",
    "    pd.concat([usersWithManyOrders, usersWithExpensiveOrders], axis=0)\n",
    "    .drop_duplicates()\n",
    "    .sort_values()\n",
    ")"
   ]
  },
  {
   "cell_type": "markdown",
   "metadata": {},
   "source": [
    "#### Гипотеза 1"
   ]
  },
  {
   "cell_type": "markdown",
   "metadata": {},
   "source": [
    "Посчитаем статистическую значимость различий в среднем количестве заказов на посетителя между группами по «очищенным» данным."
   ]
  },
  {
   "cell_type": "markdown",
   "metadata": {},
   "source": [
    "**Нулевая гипотеза:** в среднем количестве заказов на посетителя между группами нет статистически значимых различий.\n",
    "\n",
    "**Альтернативная гипотеза:** в среднем количестве заказов на посетителя между группами есть статистически значимые различия.\n",
    "\n",
    "**alpha =** 0.05\n",
    "\n",
    "**Метод проверки гипотезы:** U-критерий Манна-Уитни"
   ]
  },
  {
   "cell_type": "code",
   "execution_count": 31,
   "metadata": {},
   "outputs": [
    {
     "data": {
      "text/plain": [
       "'0.01235'"
      ]
     },
     "execution_count": 31,
     "metadata": {},
     "output_type": "execute_result"
    }
   ],
   "source": [
    "sampleAFiltered = pd.concat(\n",
    "    [\n",
    "        ordersByUsersA[\n",
    "            np.logical_not(ordersByUsersA['userId'].isin(abnormalUsers))\n",
    "        ]['orders'],\n",
    "        pd.Series(\n",
    "            0,\n",
    "            index=np.arange(\n",
    "                data['visitorsPerDateA'].sum() - len(ordersByUsersA['orders'])\n",
    "            ),\n",
    "            name='orders',\n",
    "        ),\n",
    "    ],\n",
    "    axis=0,\n",
    ")\n",
    "\n",
    "sampleBFiltered = pd.concat(\n",
    "    [\n",
    "        ordersByUsersB[\n",
    "            np.logical_not(ordersByUsersB['userId'].isin(abnormalUsers))\n",
    "        ]['orders'],\n",
    "        pd.Series(\n",
    "            0,\n",
    "            index=np.arange(\n",
    "                data['visitorsPerDateB'].sum() - len(ordersByUsersB['orders'])\n",
    "            ),\n",
    "            name='orders',\n",
    "        ),\n",
    "    ],\n",
    "    axis=0,\n",
    ")\n",
    "\n",
    "'{0:.5f}'.format(stats.mannwhitneyu(sampleAFiltered, sampleBFiltered)[1])"
   ]
  },
  {
   "cell_type": "markdown",
   "metadata": {},
   "source": [
    "P-value меньше 0.05, поэтому отвергаем нулевую гипотезу.\n",
    "\n",
    "**Вывод:** по \"очищенным\" данным, в среднем количестве заказов на посетителя между группами есть статистически значимые различия.\n",
    "\n"
   ]
  },
  {
   "cell_type": "markdown",
   "metadata": {},
   "source": [
    "Посчитаем также различия в средних."
   ]
  },
  {
   "cell_type": "code",
   "execution_count": 32,
   "metadata": {},
   "outputs": [
    {
     "data": {
      "text/plain": [
       "'0.182'"
      ]
     },
     "execution_count": 32,
     "metadata": {},
     "output_type": "execute_result"
    }
   ],
   "source": [
    "'{0:.3f}'.format(sampleBFiltered.mean()/sampleAFiltered.mean()-1)"
   ]
  },
  {
   "cell_type": "markdown",
   "metadata": {},
   "source": [
    "#### Гипотеза 2"
   ]
  },
  {
   "cell_type": "markdown",
   "metadata": {},
   "source": [
    "Посчитаем статистическую значимость различий в среднем чеке заказа между группами по «очищенным» данным.\n",
    "\n",
    "**Нулевая гипотеза:** в среднем чеке заказа между группами нет статистически значимых различий.\n",
    "\n",
    "**Альтернативная гипотеза:** в среднем чеке заказа между группами есть статистически значимые различия.\n",
    "\n",
    "**alpha =** 0.05\n",
    "\n",
    "**Метод проверки гипотезы:** U-критерий Манна-Уитни"
   ]
  },
  {
   "cell_type": "code",
   "execution_count": 33,
   "metadata": {},
   "outputs": [
    {
     "data": {
      "text/plain": [
       "'0.64590'"
      ]
     },
     "execution_count": 33,
     "metadata": {},
     "output_type": "execute_result"
    }
   ],
   "source": [
    "(\n",
    "    '{0:.5f}'.format(\n",
    "        stats.mannwhitneyu(\n",
    "            orders[\n",
    "                np.logical_and(\n",
    "                    orders['group'] == 'A',\n",
    "                    np.logical_not(orders['visitorId'].isin(abnormalUsers)),\n",
    "                )\n",
    "            ]['revenue'],\n",
    "            orders[\n",
    "                np.logical_and(\n",
    "                    orders['group'] == 'B',\n",
    "                    np.logical_not(orders['visitorId'].isin(abnormalUsers)),\n",
    "                )\n",
    "            ]['revenue'],\n",
    "        )[1]\n",
    "    )\n",
    ")\n"
   ]
  },
  {
   "cell_type": "markdown",
   "metadata": {},
   "source": [
    "P-value больше 0.05, поэтому мы не можем отвергнуть нулевую гипотезу.\n",
    "\n",
    "**Вывод:** по \"очищенным\" данным, в среднем чеке заказа между группами нет статистически значимых различий."
   ]
  },
  {
   "cell_type": "markdown",
   "metadata": {},
   "source": [
    "Посчитаем также различия в средних."
   ]
  },
  {
   "cell_type": "code",
   "execution_count": 34,
   "metadata": {},
   "outputs": [
    {
     "data": {
      "text/plain": [
       "'-0.048'"
      ]
     },
     "execution_count": 34,
     "metadata": {},
     "output_type": "execute_result"
    }
   ],
   "source": [
    "(\n",
    "    \"{0:.3f}\".format(\n",
    "        orders[\n",
    "            np.logical_and(\n",
    "                orders['group'] == 'B',\n",
    "                np.logical_not(orders['visitorId'].isin(abnormalUsers)),\n",
    "            )\n",
    "        ]['revenue'].mean()\n",
    "        / orders[\n",
    "            np.logical_and(\n",
    "                orders['group'] == 'A',\n",
    "                np.logical_not(orders['visitorId'].isin(abnormalUsers)),\n",
    "            )\n",
    "        ]['revenue'].mean()\n",
    "        - 1\n",
    "    )\n",
    ")"
   ]
  },
  {
   "cell_type": "markdown",
   "metadata": {},
   "source": [
    "## Анализ результатов"
   ]
  },
  {
   "cell_type": "markdown",
   "metadata": {},
   "source": [
    "В ходе работы были найдены и устранены **аномальные значения** в данных.\n",
    "\n",
    "В результате, анализ статистических значимостей \"сырых\" данных **указал на статистически значимые отличия в количестве заказов на пользователя по группам**, то же самое говорят нам и \"очищенные\" данные.\n",
    "\n",
    "Также стало известно, что и в \"сырых\", и в \"очищенных\" данных, **в среднем чеке заказа между группами нет статистически значимых различий**.\n",
    "\n",
    "Таким образом, **выбросы в данных глобально не повлияли на проверку гипотез, но без выбросов мы видим, что в группе B средний чек в среднем становится меньше, чем в группе A.**\n",
    "\n",
    "**Общий вывод:** группа B опередила группу А по количеству заказов, и, как следствие, по кумулятивной выручке. Данные о среднем чеке по группам колеблются и по ним сложно сделать какие-то выводы. \n",
    "\n",
    "Формально, **группа B одержала победу над группой A благодаря количеству заказов**. Если этих данных достаточно, **можно остановить тест**."
   ]
  }
 ],
 "metadata": {
  "ExecuteTimeLog": [
   {
    "duration": 421,
    "start_time": "2023-04-15T17:16:16.015Z"
   },
   {
    "duration": 454,
    "start_time": "2023-04-15T17:20:47.414Z"
   },
   {
    "duration": 76,
    "start_time": "2023-04-15T17:26:25.521Z"
   },
   {
    "duration": 82,
    "start_time": "2023-04-15T17:29:08.405Z"
   },
   {
    "duration": 25,
    "start_time": "2023-04-15T17:29:12.627Z"
   },
   {
    "duration": 17,
    "start_time": "2023-04-15T17:29:14.118Z"
   },
   {
    "duration": 16,
    "start_time": "2023-04-15T17:31:15.013Z"
   },
   {
    "duration": 160,
    "start_time": "2023-04-15T17:54:04.121Z"
   },
   {
    "duration": 96,
    "start_time": "2023-04-15T17:57:41.211Z"
   },
   {
    "duration": 329,
    "start_time": "2023-04-15T17:57:47.513Z"
   },
   {
    "duration": 854,
    "start_time": "2023-04-15T17:59:12.414Z"
   },
   {
    "duration": 619,
    "start_time": "2023-04-15T17:59:26.213Z"
   },
   {
    "duration": 624,
    "start_time": "2023-04-15T17:59:36.262Z"
   },
   {
    "duration": 618,
    "start_time": "2023-04-15T18:01:03.670Z"
   },
   {
    "duration": 629,
    "start_time": "2023-04-15T18:01:13.950Z"
   },
   {
    "duration": 625,
    "start_time": "2023-04-15T18:02:13.812Z"
   },
   {
    "duration": 608,
    "start_time": "2023-04-15T18:05:27.290Z"
   },
   {
    "duration": 57,
    "start_time": "2023-04-16T11:26:57.205Z"
   },
   {
    "duration": 815,
    "start_time": "2023-04-16T11:27:06.001Z"
   },
   {
    "duration": 47,
    "start_time": "2023-04-16T11:27:09.736Z"
   },
   {
    "duration": 651,
    "start_time": "2023-04-16T11:27:17.503Z"
   },
   {
    "duration": 64,
    "start_time": "2023-04-16T11:27:18.156Z"
   },
   {
    "duration": 17,
    "start_time": "2023-04-16T11:27:18.221Z"
   },
   {
    "duration": 14,
    "start_time": "2023-04-16T11:27:18.240Z"
   },
   {
    "duration": 129,
    "start_time": "2023-04-16T11:27:18.257Z"
   },
   {
    "duration": 295,
    "start_time": "2023-04-16T11:27:18.388Z"
   },
   {
    "duration": 206,
    "start_time": "2023-04-16T11:28:39.588Z"
   },
   {
    "duration": 40,
    "start_time": "2023-04-16T11:28:57.261Z"
   },
   {
    "duration": 184,
    "start_time": "2023-04-16T11:29:50.041Z"
   },
   {
    "duration": 586,
    "start_time": "2023-04-16T11:30:24.555Z"
   },
   {
    "duration": 230,
    "start_time": "2023-04-16T11:40:09.324Z"
   },
   {
    "duration": 210,
    "start_time": "2023-04-16T11:40:16.951Z"
   },
   {
    "duration": 278,
    "start_time": "2023-04-16T11:40:25.945Z"
   },
   {
    "duration": 337,
    "start_time": "2023-04-16T11:45:44.482Z"
   },
   {
    "duration": 320,
    "start_time": "2023-04-16T11:46:24.022Z"
   },
   {
    "duration": 9,
    "start_time": "2023-04-16T11:57:36.223Z"
   },
   {
    "duration": 200,
    "start_time": "2023-04-16T12:11:20.934Z"
   },
   {
    "duration": 238,
    "start_time": "2023-04-16T12:11:30.626Z"
   },
   {
    "duration": 231,
    "start_time": "2023-04-16T12:13:03.246Z"
   },
   {
    "duration": 221,
    "start_time": "2023-04-16T12:14:26.227Z"
   },
   {
    "duration": 234,
    "start_time": "2023-04-16T12:14:39.691Z"
   },
   {
    "duration": 276,
    "start_time": "2023-04-16T12:26:11.041Z"
   },
   {
    "duration": 6,
    "start_time": "2023-04-16T12:37:31.104Z"
   },
   {
    "duration": 12,
    "start_time": "2023-04-16T12:37:53.615Z"
   },
   {
    "duration": 7,
    "start_time": "2023-04-16T12:38:34.017Z"
   },
   {
    "duration": 19,
    "start_time": "2023-04-16T12:39:01.098Z"
   },
   {
    "duration": 161,
    "start_time": "2023-04-16T12:40:04.205Z"
   },
   {
    "duration": 6,
    "start_time": "2023-04-16T12:44:01.624Z"
   },
   {
    "duration": 4,
    "start_time": "2023-04-16T12:44:11.377Z"
   },
   {
    "duration": 4,
    "start_time": "2023-04-16T12:44:14.637Z"
   },
   {
    "duration": 5,
    "start_time": "2023-04-16T12:44:17.226Z"
   },
   {
    "duration": 56,
    "start_time": "2023-04-16T12:52:29.777Z"
   },
   {
    "duration": 160,
    "start_time": "2023-04-16T12:53:45.441Z"
   },
   {
    "duration": 5,
    "start_time": "2023-04-16T12:55:30.235Z"
   },
   {
    "duration": 195,
    "start_time": "2023-04-16T13:09:56.150Z"
   },
   {
    "duration": 113,
    "start_time": "2023-04-16T13:11:33.020Z"
   },
   {
    "duration": 107,
    "start_time": "2023-04-16T13:12:14.527Z"
   },
   {
    "duration": 229,
    "start_time": "2023-04-16T13:13:37.622Z"
   },
   {
    "duration": 240,
    "start_time": "2023-04-16T13:13:57.428Z"
   },
   {
    "duration": 289,
    "start_time": "2023-04-16T13:14:12.501Z"
   },
   {
    "duration": 328,
    "start_time": "2023-04-16T13:14:38.532Z"
   },
   {
    "duration": 409,
    "start_time": "2023-04-16T13:14:49.000Z"
   },
   {
    "duration": 401,
    "start_time": "2023-04-16T13:15:16.030Z"
   },
   {
    "duration": 379,
    "start_time": "2023-04-16T13:15:23.421Z"
   },
   {
    "duration": 380,
    "start_time": "2023-04-16T13:15:49.904Z"
   },
   {
    "duration": 355,
    "start_time": "2023-04-16T13:18:27.025Z"
   },
   {
    "duration": 363,
    "start_time": "2023-04-16T13:20:07.549Z"
   },
   {
    "duration": 377,
    "start_time": "2023-04-16T13:20:14.395Z"
   },
   {
    "duration": 393,
    "start_time": "2023-04-16T13:20:23.304Z"
   },
   {
    "duration": 391,
    "start_time": "2023-04-16T13:20:49.748Z"
   },
   {
    "duration": 402,
    "start_time": "2023-04-16T13:21:13.225Z"
   },
   {
    "duration": 10,
    "start_time": "2023-04-16T13:26:11.231Z"
   },
   {
    "duration": 11,
    "start_time": "2023-04-16T13:26:16.944Z"
   },
   {
    "duration": 1032,
    "start_time": "2023-04-16T13:33:26.763Z"
   },
   {
    "duration": 165,
    "start_time": "2023-04-16T13:33:58.230Z"
   },
   {
    "duration": 193,
    "start_time": "2023-04-16T13:34:42.396Z"
   },
   {
    "duration": 32,
    "start_time": "2023-04-16T13:35:01.825Z"
   },
   {
    "duration": 192,
    "start_time": "2023-04-16T13:35:08.338Z"
   },
   {
    "duration": 756,
    "start_time": "2023-04-16T13:37:12.021Z"
   },
   {
    "duration": 13,
    "start_time": "2023-04-16T13:37:31.305Z"
   },
   {
    "duration": 49,
    "start_time": "2023-04-16T13:38:57.922Z"
   },
   {
    "duration": 14,
    "start_time": "2023-04-16T13:39:06.902Z"
   },
   {
    "duration": 455,
    "start_time": "2023-04-16T13:39:25.905Z"
   },
   {
    "duration": 222,
    "start_time": "2023-04-16T13:41:15.821Z"
   },
   {
    "duration": 196,
    "start_time": "2023-04-16T13:41:20.040Z"
   },
   {
    "duration": 638,
    "start_time": "2023-04-16T13:42:09.267Z"
   },
   {
    "duration": 235,
    "start_time": "2023-04-16T13:42:46.697Z"
   },
   {
    "duration": 323,
    "start_time": "2023-04-16T13:43:20.843Z"
   },
   {
    "duration": 301,
    "start_time": "2023-04-16T13:43:49.125Z"
   },
   {
    "duration": 375,
    "start_time": "2023-04-16T13:44:22.696Z"
   },
   {
    "duration": 169,
    "start_time": "2023-04-16T13:44:54.333Z"
   },
   {
    "duration": 1216,
    "start_time": "2023-04-16T13:46:47.711Z"
   },
   {
    "duration": 25,
    "start_time": "2023-04-16T13:46:48.930Z"
   },
   {
    "duration": 22,
    "start_time": "2023-04-16T13:46:48.959Z"
   },
   {
    "duration": 19,
    "start_time": "2023-04-16T13:46:48.984Z"
   },
   {
    "duration": 46,
    "start_time": "2023-04-16T13:46:49.013Z"
   },
   {
    "duration": 658,
    "start_time": "2023-04-16T13:46:49.062Z"
   },
   {
    "duration": 336,
    "start_time": "2023-04-16T13:46:49.723Z"
   },
   {
    "duration": 476,
    "start_time": "2023-04-16T13:46:50.061Z"
   },
   {
    "duration": 389,
    "start_time": "2023-04-16T13:46:50.539Z"
   },
   {
    "duration": 427,
    "start_time": "2023-04-16T13:46:50.930Z"
   },
   {
    "duration": 185,
    "start_time": "2023-04-16T13:46:51.359Z"
   },
   {
    "duration": 5,
    "start_time": "2023-04-16T13:46:51.545Z"
   },
   {
    "duration": 187,
    "start_time": "2023-04-16T13:46:51.552Z"
   },
   {
    "duration": 5,
    "start_time": "2023-04-16T13:46:51.742Z"
   },
   {
    "duration": 475,
    "start_time": "2023-04-16T13:46:51.749Z"
   },
   {
    "duration": 9,
    "start_time": "2023-04-16T13:46:52.226Z"
   },
   {
    "duration": 197,
    "start_time": "2023-04-16T13:46:52.237Z"
   },
   {
    "duration": 29,
    "start_time": "2023-04-16T13:46:52.435Z"
   },
   {
    "duration": 11,
    "start_time": "2023-04-16T13:46:52.466Z"
   },
   {
    "duration": 613,
    "start_time": "2023-04-16T13:52:42.808Z"
   },
   {
    "duration": 524,
    "start_time": "2023-04-16T13:53:03.720Z"
   },
   {
    "duration": 430,
    "start_time": "2023-04-16T13:53:18.026Z"
   },
   {
    "duration": 363,
    "start_time": "2023-04-16T13:53:25.652Z"
   },
   {
    "duration": 572,
    "start_time": "2023-04-16T13:55:51.610Z"
   },
   {
    "duration": 591,
    "start_time": "2023-04-16T13:55:57.875Z"
   },
   {
    "duration": 625,
    "start_time": "2023-04-16T13:56:03.517Z"
   },
   {
    "duration": 333,
    "start_time": "2023-04-16T13:56:43.728Z"
   },
   {
    "duration": 351,
    "start_time": "2023-04-16T13:57:49.464Z"
   },
   {
    "duration": 237,
    "start_time": "2023-04-16T13:58:06.632Z"
   },
   {
    "duration": 70,
    "start_time": "2023-04-16T13:58:22.160Z"
   },
   {
    "duration": 64,
    "start_time": "2023-04-16T13:58:45.511Z"
   },
   {
    "duration": 571,
    "start_time": "2023-04-16T13:58:47.714Z"
   },
   {
    "duration": 225,
    "start_time": "2023-04-16T13:58:59.332Z"
   },
   {
    "duration": 630,
    "start_time": "2023-04-16T13:59:26.344Z"
   },
   {
    "duration": 1119,
    "start_time": "2023-04-16T13:59:35.574Z"
   },
   {
    "duration": 39,
    "start_time": "2023-04-16T13:59:36.696Z"
   },
   {
    "duration": 23,
    "start_time": "2023-04-16T13:59:36.737Z"
   },
   {
    "duration": 14,
    "start_time": "2023-04-16T13:59:36.761Z"
   },
   {
    "duration": 59,
    "start_time": "2023-04-16T13:59:36.777Z"
   },
   {
    "duration": 585,
    "start_time": "2023-04-16T13:59:36.837Z"
   },
   {
    "duration": 304,
    "start_time": "2023-04-16T13:59:37.424Z"
   },
   {
    "duration": 342,
    "start_time": "2023-04-16T13:59:37.729Z"
   },
   {
    "duration": 265,
    "start_time": "2023-04-16T13:59:38.073Z"
   },
   {
    "duration": 322,
    "start_time": "2023-04-16T13:59:38.340Z"
   },
   {
    "duration": 171,
    "start_time": "2023-04-16T13:59:38.664Z"
   },
   {
    "duration": 5,
    "start_time": "2023-04-16T13:59:38.837Z"
   },
   {
    "duration": 246,
    "start_time": "2023-04-16T13:59:38.843Z"
   },
   {
    "duration": 18,
    "start_time": "2023-04-16T13:59:39.093Z"
   },
   {
    "duration": 415,
    "start_time": "2023-04-16T13:59:39.114Z"
   },
   {
    "duration": 11,
    "start_time": "2023-04-16T13:59:39.531Z"
   },
   {
    "duration": 169,
    "start_time": "2023-04-16T13:59:39.545Z"
   },
   {
    "duration": 30,
    "start_time": "2023-04-16T13:59:39.716Z"
   },
   {
    "duration": 11,
    "start_time": "2023-04-16T13:59:39.747Z"
   },
   {
    "duration": 435,
    "start_time": "2023-04-16T14:08:31.228Z"
   },
   {
    "duration": 1277,
    "start_time": "2023-04-16T16:36:12.125Z"
   },
   {
    "duration": 80,
    "start_time": "2023-04-16T16:36:13.404Z"
   },
   {
    "duration": 16,
    "start_time": "2023-04-16T16:36:13.486Z"
   },
   {
    "duration": 12,
    "start_time": "2023-04-16T16:36:13.503Z"
   },
   {
    "duration": 178,
    "start_time": "2023-04-16T16:36:13.517Z"
   },
   {
    "duration": 564,
    "start_time": "2023-04-16T16:36:13.697Z"
   },
   {
    "duration": 210,
    "start_time": "2023-04-16T16:36:14.263Z"
   },
   {
    "duration": 334,
    "start_time": "2023-04-16T16:36:14.475Z"
   },
   {
    "duration": 225,
    "start_time": "2023-04-16T16:36:14.810Z"
   },
   {
    "duration": 358,
    "start_time": "2023-04-16T16:36:15.036Z"
   },
   {
    "duration": 154,
    "start_time": "2023-04-16T16:36:15.396Z"
   },
   {
    "duration": 4,
    "start_time": "2023-04-16T16:36:15.552Z"
   },
   {
    "duration": 159,
    "start_time": "2023-04-16T16:36:15.557Z"
   },
   {
    "duration": 4,
    "start_time": "2023-04-16T16:36:15.719Z"
   },
   {
    "duration": 364,
    "start_time": "2023-04-16T16:36:15.725Z"
   },
   {
    "duration": 9,
    "start_time": "2023-04-16T16:36:16.091Z"
   },
   {
    "duration": 154,
    "start_time": "2023-04-16T16:36:16.101Z"
   },
   {
    "duration": 24,
    "start_time": "2023-04-16T16:36:16.257Z"
   },
   {
    "duration": 9,
    "start_time": "2023-04-16T16:36:16.282Z"
   },
   {
    "duration": 64,
    "start_time": "2023-04-16T17:40:58.814Z"
   },
   {
    "duration": 1682,
    "start_time": "2023-04-16T17:41:03.963Z"
   },
   {
    "duration": 116,
    "start_time": "2023-04-16T17:41:05.649Z"
   },
   {
    "duration": 16,
    "start_time": "2023-04-16T17:41:07.031Z"
   },
   {
    "duration": 25,
    "start_time": "2023-04-16T17:41:20.131Z"
   },
   {
    "duration": 19,
    "start_time": "2023-04-16T17:41:36.878Z"
   },
   {
    "duration": 22,
    "start_time": "2023-04-16T17:42:09.688Z"
   },
   {
    "duration": 16,
    "start_time": "2023-04-16T17:42:14.481Z"
   },
   {
    "duration": 81,
    "start_time": "2023-04-16T17:48:12.124Z"
   },
   {
    "duration": 14,
    "start_time": "2023-04-16T17:50:50.856Z"
   },
   {
    "duration": 1273,
    "start_time": "2023-04-16T17:50:57.282Z"
   },
   {
    "duration": 30,
    "start_time": "2023-04-16T17:50:58.558Z"
   },
   {
    "duration": 27,
    "start_time": "2023-04-16T17:50:58.590Z"
   },
   {
    "duration": 17,
    "start_time": "2023-04-16T17:50:58.619Z"
   },
   {
    "duration": 194,
    "start_time": "2023-04-16T17:50:58.640Z"
   },
   {
    "duration": 25,
    "start_time": "2023-04-16T17:50:58.836Z"
   },
   {
    "duration": 749,
    "start_time": "2023-04-16T17:50:58.865Z"
   },
   {
    "duration": 276,
    "start_time": "2023-04-16T17:50:59.616Z"
   },
   {
    "duration": 426,
    "start_time": "2023-04-16T17:50:59.895Z"
   },
   {
    "duration": 302,
    "start_time": "2023-04-16T17:51:00.324Z"
   },
   {
    "duration": 439,
    "start_time": "2023-04-16T17:51:00.629Z"
   },
   {
    "duration": 206,
    "start_time": "2023-04-16T17:51:01.070Z"
   },
   {
    "duration": 12,
    "start_time": "2023-04-16T17:51:01.280Z"
   },
   {
    "duration": 408,
    "start_time": "2023-04-16T17:51:01.296Z"
   },
   {
    "duration": 8,
    "start_time": "2023-04-16T17:51:01.708Z"
   },
   {
    "duration": 563,
    "start_time": "2023-04-16T17:51:01.718Z"
   },
   {
    "duration": 15,
    "start_time": "2023-04-16T17:51:02.283Z"
   },
   {
    "duration": 309,
    "start_time": "2023-04-16T17:51:02.301Z"
   },
   {
    "duration": 51,
    "start_time": "2023-04-16T17:51:02.612Z"
   },
   {
    "duration": 14,
    "start_time": "2023-04-16T17:51:02.665Z"
   },
   {
    "duration": 694,
    "start_time": "2023-04-16T17:55:08.639Z"
   },
   {
    "duration": 631,
    "start_time": "2023-04-16T17:56:11.417Z"
   },
   {
    "duration": 584,
    "start_time": "2023-04-16T17:56:39.577Z"
   },
   {
    "duration": 267,
    "start_time": "2023-04-16T17:57:54.258Z"
   },
   {
    "duration": 402,
    "start_time": "2023-04-16T17:58:32.320Z"
   },
   {
    "duration": 419,
    "start_time": "2023-04-16T17:59:17.313Z"
   },
   {
    "duration": 345,
    "start_time": "2023-04-16T17:59:41.412Z"
   },
   {
    "duration": 326,
    "start_time": "2023-04-16T18:00:20.673Z"
   },
   {
    "duration": 396,
    "start_time": "2023-04-16T18:00:47.425Z"
   },
   {
    "duration": 187,
    "start_time": "2023-04-16T18:01:45.588Z"
   },
   {
    "duration": 285,
    "start_time": "2023-04-16T18:03:08.708Z"
   },
   {
    "duration": 380,
    "start_time": "2023-04-16T18:04:53.435Z"
   },
   {
    "duration": 205,
    "start_time": "2023-04-16T18:05:21.416Z"
   },
   {
    "duration": 186,
    "start_time": "2023-04-16T18:05:50.967Z"
   },
   {
    "duration": 192,
    "start_time": "2023-04-16T18:06:02.012Z"
   },
   {
    "duration": 177,
    "start_time": "2023-04-16T18:06:40.513Z"
   },
   {
    "duration": 284,
    "start_time": "2023-04-16T18:07:16.526Z"
   },
   {
    "duration": 251,
    "start_time": "2023-04-16T18:07:28.088Z"
   },
   {
    "duration": 164,
    "start_time": "2023-04-16T18:16:37.635Z"
   },
   {
    "duration": 1317,
    "start_time": "2023-04-16T18:17:59.053Z"
   },
   {
    "duration": 31,
    "start_time": "2023-04-16T18:18:00.372Z"
   },
   {
    "duration": 25,
    "start_time": "2023-04-16T18:18:00.406Z"
   },
   {
    "duration": 23,
    "start_time": "2023-04-16T18:18:00.434Z"
   },
   {
    "duration": 97,
    "start_time": "2023-04-16T18:18:00.461Z"
   },
   {
    "duration": 24,
    "start_time": "2023-04-16T18:18:00.575Z"
   },
   {
    "duration": 835,
    "start_time": "2023-04-16T18:18:00.602Z"
   },
   {
    "duration": 309,
    "start_time": "2023-04-16T18:18:01.442Z"
   },
   {
    "duration": 369,
    "start_time": "2023-04-16T18:18:01.754Z"
   },
   {
    "duration": 333,
    "start_time": "2023-04-16T18:18:02.126Z"
   },
   {
    "duration": 358,
    "start_time": "2023-04-16T18:18:02.462Z"
   },
   {
    "duration": 201,
    "start_time": "2023-04-16T18:18:02.823Z"
   },
   {
    "duration": 20,
    "start_time": "2023-04-16T18:18:03.026Z"
   },
   {
    "duration": 241,
    "start_time": "2023-04-16T18:18:03.054Z"
   },
   {
    "duration": 238,
    "start_time": "2023-04-16T18:18:03.297Z"
   },
   {
    "duration": 15,
    "start_time": "2023-04-16T18:18:03.538Z"
   },
   {
    "duration": 548,
    "start_time": "2023-04-16T18:18:03.558Z"
   },
   {
    "duration": 12,
    "start_time": "2023-04-16T18:18:04.108Z"
   },
   {
    "duration": 198,
    "start_time": "2023-04-16T18:18:04.122Z"
   },
   {
    "duration": 44,
    "start_time": "2023-04-16T18:18:04.323Z"
   },
   {
    "duration": 14,
    "start_time": "2023-04-16T18:18:04.369Z"
   },
   {
    "duration": 159,
    "start_time": "2023-04-16T18:19:10.796Z"
   },
   {
    "duration": 32,
    "start_time": "2023-04-16T18:19:14.498Z"
   },
   {
    "duration": 18,
    "start_time": "2023-04-16T18:19:16.439Z"
   },
   {
    "duration": 115,
    "start_time": "2023-04-16T18:31:59.615Z"
   },
   {
    "duration": 10,
    "start_time": "2023-04-16T18:32:05.400Z"
   },
   {
    "duration": 8,
    "start_time": "2023-04-16T18:32:22.072Z"
   },
   {
    "duration": 8,
    "start_time": "2023-04-16T18:33:03.120Z"
   },
   {
    "duration": 8,
    "start_time": "2023-04-16T18:33:16.037Z"
   },
   {
    "duration": 6,
    "start_time": "2023-04-16T18:34:09.484Z"
   },
   {
    "duration": 4,
    "start_time": "2023-04-16T18:34:18.309Z"
   },
   {
    "duration": 5,
    "start_time": "2023-04-16T18:34:20.213Z"
   },
   {
    "duration": 18,
    "start_time": "2023-04-16T18:35:45.840Z"
   },
   {
    "duration": 5,
    "start_time": "2023-04-16T18:36:04.606Z"
   },
   {
    "duration": 6,
    "start_time": "2023-04-16T18:39:56.332Z"
   },
   {
    "duration": 9,
    "start_time": "2023-04-16T18:40:11.828Z"
   },
   {
    "duration": 83,
    "start_time": "2023-04-16T18:40:54.806Z"
   },
   {
    "duration": 14,
    "start_time": "2023-04-16T18:40:59.973Z"
   },
   {
    "duration": 10,
    "start_time": "2023-04-16T18:41:42.434Z"
   },
   {
    "duration": 18,
    "start_time": "2023-04-16T18:42:12.757Z"
   },
   {
    "duration": 11,
    "start_time": "2023-04-16T18:46:16.825Z"
   },
   {
    "duration": 1667,
    "start_time": "2023-04-16T18:47:06.570Z"
   },
   {
    "duration": 15,
    "start_time": "2023-04-16T18:47:33.155Z"
   },
   {
    "duration": 48,
    "start_time": "2023-04-16T18:49:18.371Z"
   },
   {
    "duration": 6,
    "start_time": "2023-04-16T18:51:40.878Z"
   },
   {
    "duration": 1295,
    "start_time": "2023-04-16T18:51:48.972Z"
   },
   {
    "duration": 29,
    "start_time": "2023-04-16T18:51:50.275Z"
   },
   {
    "duration": 20,
    "start_time": "2023-04-16T18:51:50.306Z"
   },
   {
    "duration": 32,
    "start_time": "2023-04-16T18:51:50.327Z"
   },
   {
    "duration": 69,
    "start_time": "2023-04-16T18:51:50.361Z"
   },
   {
    "duration": 23,
    "start_time": "2023-04-16T18:51:50.432Z"
   },
   {
    "duration": 35,
    "start_time": "2023-04-16T18:51:50.457Z"
   },
   {
    "duration": 10,
    "start_time": "2023-04-16T18:51:50.494Z"
   },
   {
    "duration": 14,
    "start_time": "2023-04-16T18:51:50.506Z"
   },
   {
    "duration": 8,
    "start_time": "2023-04-16T18:51:50.523Z"
   },
   {
    "duration": 10,
    "start_time": "2023-04-16T18:51:50.532Z"
   },
   {
    "duration": 30,
    "start_time": "2023-04-16T18:51:50.548Z"
   },
   {
    "duration": 7,
    "start_time": "2023-04-16T18:51:50.580Z"
   },
   {
    "duration": 12,
    "start_time": "2023-04-16T18:51:50.590Z"
   },
   {
    "duration": 13,
    "start_time": "2023-04-16T18:51:50.603Z"
   },
   {
    "duration": 692,
    "start_time": "2023-04-16T18:51:50.618Z"
   },
   {
    "duration": 305,
    "start_time": "2023-04-16T18:51:51.312Z"
   },
   {
    "duration": 411,
    "start_time": "2023-04-16T18:51:51.619Z"
   },
   {
    "duration": 303,
    "start_time": "2023-04-16T18:51:52.032Z"
   },
   {
    "duration": 373,
    "start_time": "2023-04-16T18:51:52.337Z"
   },
   {
    "duration": 228,
    "start_time": "2023-04-16T18:51:52.712Z"
   },
   {
    "duration": 17,
    "start_time": "2023-04-16T18:51:52.954Z"
   },
   {
    "duration": 235,
    "start_time": "2023-04-16T18:51:52.977Z"
   },
   {
    "duration": 264,
    "start_time": "2023-04-16T18:51:53.215Z"
   },
   {
    "duration": 7,
    "start_time": "2023-04-16T18:51:53.481Z"
   },
   {
    "duration": 563,
    "start_time": "2023-04-16T18:51:53.490Z"
   },
   {
    "duration": 18,
    "start_time": "2023-04-16T18:51:54.057Z"
   },
   {
    "duration": 174,
    "start_time": "2023-04-16T18:51:54.082Z"
   },
   {
    "duration": 32,
    "start_time": "2023-04-16T18:51:54.268Z"
   },
   {
    "duration": 13,
    "start_time": "2023-04-16T18:51:54.303Z"
   },
   {
    "duration": 163,
    "start_time": "2023-04-16T19:00:26.068Z"
   },
   {
    "duration": 30,
    "start_time": "2023-04-16T19:00:35.098Z"
   },
   {
    "duration": 13,
    "start_time": "2023-04-16T19:00:39.168Z"
   },
   {
    "duration": 5,
    "start_time": "2023-04-16T19:03:23.529Z"
   },
   {
    "duration": 7,
    "start_time": "2023-04-16T19:04:59.081Z"
   },
   {
    "duration": 10,
    "start_time": "2023-04-16T19:05:18.381Z"
   },
   {
    "duration": 7,
    "start_time": "2023-04-16T19:05:20.770Z"
   },
   {
    "duration": 6,
    "start_time": "2023-04-16T19:06:25.630Z"
   },
   {
    "duration": 1719,
    "start_time": "2023-04-16T19:07:37.450Z"
   },
   {
    "duration": 15,
    "start_time": "2023-04-16T19:08:07.383Z"
   },
   {
    "duration": 1270,
    "start_time": "2023-04-16T19:11:50.826Z"
   },
   {
    "duration": 30,
    "start_time": "2023-04-16T19:11:52.098Z"
   },
   {
    "duration": 29,
    "start_time": "2023-04-16T19:11:52.130Z"
   },
   {
    "duration": 43,
    "start_time": "2023-04-16T19:11:52.162Z"
   },
   {
    "duration": 73,
    "start_time": "2023-04-16T19:11:52.208Z"
   },
   {
    "duration": 16,
    "start_time": "2023-04-16T19:11:52.283Z"
   },
   {
    "duration": 29,
    "start_time": "2023-04-16T19:11:52.300Z"
   },
   {
    "duration": 27,
    "start_time": "2023-04-16T19:11:52.331Z"
   },
   {
    "duration": 18,
    "start_time": "2023-04-16T19:11:52.360Z"
   },
   {
    "duration": 9,
    "start_time": "2023-04-16T19:11:52.380Z"
   },
   {
    "duration": 8,
    "start_time": "2023-04-16T19:11:52.392Z"
   },
   {
    "duration": 26,
    "start_time": "2023-04-16T19:11:52.403Z"
   },
   {
    "duration": 32,
    "start_time": "2023-04-16T19:11:52.431Z"
   },
   {
    "duration": 18,
    "start_time": "2023-04-16T19:11:52.467Z"
   },
   {
    "duration": 10,
    "start_time": "2023-04-16T19:11:52.487Z"
   },
   {
    "duration": 672,
    "start_time": "2023-04-16T19:11:52.499Z"
   },
   {
    "duration": 288,
    "start_time": "2023-04-16T19:11:53.174Z"
   },
   {
    "duration": 344,
    "start_time": "2023-04-16T19:11:53.464Z"
   },
   {
    "duration": 288,
    "start_time": "2023-04-16T19:11:53.809Z"
   },
   {
    "duration": 407,
    "start_time": "2023-04-16T19:11:54.099Z"
   },
   {
    "duration": 218,
    "start_time": "2023-04-16T19:11:54.508Z"
   },
   {
    "duration": 5,
    "start_time": "2023-04-16T19:11:54.728Z"
   },
   {
    "duration": 212,
    "start_time": "2023-04-16T19:11:54.742Z"
   },
   {
    "duration": 215,
    "start_time": "2023-04-16T19:11:54.956Z"
   },
   {
    "duration": 7,
    "start_time": "2023-04-16T19:11:55.173Z"
   },
   {
    "duration": 1181,
    "start_time": "2023-04-16T19:11:55.182Z"
   },
   {
    "duration": 7,
    "start_time": "2023-04-16T19:11:56.365Z"
   },
   {
    "duration": 71,
    "start_time": "2023-04-16T19:11:56.374Z"
   },
   {
    "duration": 17,
    "start_time": "2023-04-16T19:11:56.447Z"
   },
   {
    "duration": 383,
    "start_time": "2023-04-16T19:11:56.465Z"
   },
   {
    "duration": 99,
    "start_time": "2023-04-16T19:11:56.858Z"
   },
   {
    "duration": 6,
    "start_time": "2023-04-16T19:11:56.960Z"
   },
   {
    "duration": 17,
    "start_time": "2023-04-16T19:11:56.968Z"
   },
   {
    "duration": 61,
    "start_time": "2023-04-16T19:11:56.987Z"
   },
   {
    "duration": 1307,
    "start_time": "2023-04-16T19:14:41.946Z"
   },
   {
    "duration": 41,
    "start_time": "2023-04-16T19:14:43.258Z"
   },
   {
    "duration": 33,
    "start_time": "2023-04-16T19:14:43.302Z"
   },
   {
    "duration": 30,
    "start_time": "2023-04-16T19:14:43.337Z"
   },
   {
    "duration": 61,
    "start_time": "2023-04-16T19:14:43.370Z"
   },
   {
    "duration": 28,
    "start_time": "2023-04-16T19:14:43.434Z"
   },
   {
    "duration": 19,
    "start_time": "2023-04-16T19:14:43.464Z"
   },
   {
    "duration": 10,
    "start_time": "2023-04-16T19:14:43.485Z"
   },
   {
    "duration": 20,
    "start_time": "2023-04-16T19:14:43.497Z"
   },
   {
    "duration": 11,
    "start_time": "2023-04-16T19:14:43.519Z"
   },
   {
    "duration": 15,
    "start_time": "2023-04-16T19:14:43.533Z"
   },
   {
    "duration": 28,
    "start_time": "2023-04-16T19:14:43.551Z"
   },
   {
    "duration": 10,
    "start_time": "2023-04-16T19:14:43.581Z"
   },
   {
    "duration": 34,
    "start_time": "2023-04-16T19:14:43.595Z"
   },
   {
    "duration": 8,
    "start_time": "2023-04-16T19:14:43.631Z"
   },
   {
    "duration": 790,
    "start_time": "2023-04-16T19:14:43.644Z"
   },
   {
    "duration": 308,
    "start_time": "2023-04-16T19:14:44.438Z"
   },
   {
    "duration": 398,
    "start_time": "2023-04-16T19:14:44.747Z"
   },
   {
    "duration": 309,
    "start_time": "2023-04-16T19:14:45.155Z"
   },
   {
    "duration": 340,
    "start_time": "2023-04-16T19:14:45.466Z"
   },
   {
    "duration": 230,
    "start_time": "2023-04-16T19:14:45.808Z"
   },
   {
    "duration": 32,
    "start_time": "2023-04-16T19:14:46.040Z"
   },
   {
    "duration": 259,
    "start_time": "2023-04-16T19:14:46.075Z"
   },
   {
    "duration": 334,
    "start_time": "2023-04-16T19:14:46.343Z"
   },
   {
    "duration": 8,
    "start_time": "2023-04-16T19:14:46.680Z"
   },
   {
    "duration": 700,
    "start_time": "2023-04-16T19:14:46.692Z"
   },
   {
    "duration": 7,
    "start_time": "2023-04-16T19:14:47.396Z"
   },
   {
    "duration": 83,
    "start_time": "2023-04-16T19:14:47.406Z"
   },
   {
    "duration": 22,
    "start_time": "2023-04-16T19:14:47.494Z"
   },
   {
    "duration": 157,
    "start_time": "2023-04-16T19:14:47.518Z"
   },
   {
    "duration": 29,
    "start_time": "2023-04-16T19:14:47.676Z"
   },
   {
    "duration": 8,
    "start_time": "2023-04-16T19:14:47.707Z"
   },
   {
    "duration": 39,
    "start_time": "2023-04-16T19:14:47.717Z"
   },
   {
    "duration": 41,
    "start_time": "2023-04-16T19:14:47.759Z"
   },
   {
    "duration": 1499,
    "start_time": "2023-04-17T05:53:39.206Z"
   },
   {
    "duration": 87,
    "start_time": "2023-04-17T05:53:40.708Z"
   },
   {
    "duration": 27,
    "start_time": "2023-04-17T05:53:40.798Z"
   },
   {
    "duration": 17,
    "start_time": "2023-04-17T05:53:40.829Z"
   },
   {
    "duration": 174,
    "start_time": "2023-04-17T05:53:40.848Z"
   },
   {
    "duration": 20,
    "start_time": "2023-04-17T05:53:41.025Z"
   },
   {
    "duration": 20,
    "start_time": "2023-04-17T05:53:41.049Z"
   },
   {
    "duration": 30,
    "start_time": "2023-04-17T05:53:41.070Z"
   },
   {
    "duration": 23,
    "start_time": "2023-04-17T05:53:41.105Z"
   },
   {
    "duration": 23,
    "start_time": "2023-04-17T05:53:41.133Z"
   },
   {
    "duration": 20,
    "start_time": "2023-04-17T05:53:41.158Z"
   },
   {
    "duration": 28,
    "start_time": "2023-04-17T05:53:41.181Z"
   },
   {
    "duration": 19,
    "start_time": "2023-04-17T05:53:41.212Z"
   },
   {
    "duration": 28,
    "start_time": "2023-04-17T05:53:41.233Z"
   },
   {
    "duration": 14,
    "start_time": "2023-04-17T05:53:41.265Z"
   },
   {
    "duration": 827,
    "start_time": "2023-04-17T05:53:41.282Z"
   },
   {
    "duration": 352,
    "start_time": "2023-04-17T05:53:42.111Z"
   },
   {
    "duration": 387,
    "start_time": "2023-04-17T05:53:42.469Z"
   },
   {
    "duration": 310,
    "start_time": "2023-04-17T05:53:42.858Z"
   },
   {
    "duration": 446,
    "start_time": "2023-04-17T05:53:43.170Z"
   },
   {
    "duration": 257,
    "start_time": "2023-04-17T05:53:43.619Z"
   },
   {
    "duration": 8,
    "start_time": "2023-04-17T05:53:43.878Z"
   },
   {
    "duration": 281,
    "start_time": "2023-04-17T05:53:43.888Z"
   },
   {
    "duration": 249,
    "start_time": "2023-04-17T05:53:44.171Z"
   },
   {
    "duration": 14,
    "start_time": "2023-04-17T05:53:44.423Z"
   },
   {
    "duration": 772,
    "start_time": "2023-04-17T05:53:44.439Z"
   },
   {
    "duration": 6,
    "start_time": "2023-04-17T05:53:45.214Z"
   },
   {
    "duration": 15,
    "start_time": "2023-04-17T05:53:45.238Z"
   },
   {
    "duration": 14,
    "start_time": "2023-04-17T05:53:45.255Z"
   },
   {
    "duration": 262,
    "start_time": "2023-04-17T05:53:45.271Z"
   },
   {
    "duration": 51,
    "start_time": "2023-04-17T05:53:45.535Z"
   },
   {
    "duration": 10,
    "start_time": "2023-04-17T05:53:45.588Z"
   },
   {
    "duration": 39,
    "start_time": "2023-04-17T05:53:45.601Z"
   },
   {
    "duration": 22,
    "start_time": "2023-04-17T05:53:45.643Z"
   }
  ],
  "kernelspec": {
   "display_name": "Python 3 (ipykernel)",
   "language": "python",
   "name": "python3"
  },
  "language_info": {
   "codemirror_mode": {
    "name": "ipython",
    "version": 3
   },
   "file_extension": ".py",
   "mimetype": "text/x-python",
   "name": "python",
   "nbconvert_exporter": "python",
   "pygments_lexer": "ipython3",
   "version": "3.9.19"
  },
  "toc": {
   "base_numbering": 1,
   "nav_menu": {},
   "number_sections": true,
   "sideBar": true,
   "skip_h1_title": true,
   "title_cell": "Table of Contents",
   "title_sidebar": "Contents",
   "toc_cell": true,
   "toc_position": {},
   "toc_section_display": true,
   "toc_window_display": true
  }
 },
 "nbformat": 4,
 "nbformat_minor": 2
}
