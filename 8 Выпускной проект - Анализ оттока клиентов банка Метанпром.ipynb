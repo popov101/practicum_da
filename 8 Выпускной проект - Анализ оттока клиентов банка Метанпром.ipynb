{
 "cells": [
  {
   "cell_type": "markdown",
   "metadata": {},
   "source": [
    "# Выпускной проект\n",
    "\n",
    "# Анализ оттока клиентов банка \"Метанпром\""
   ]
  },
  {
   "cell_type": "markdown",
   "metadata": {},
   "source": [
    "<font size=4>**Цель проекта**</font>\n",
    "\n",
    "<font size=3>Необходимо проанализировать клиентов регионального банка \"Метанпром\" и выделить сегменты клиентов, которые склонны уходить из банка.</font>\n",
    "\n",
    "<font size=4>**Основные задачи**</font>\n",
    "\n",
    "\n",
    "<font size=3>\n",
    "    \n",
    "- Провести исследовательский анализ данных\n",
    "- Выделить портреты клиентов, которые склонны уходить из банка\n",
    "- Сформулировать и проверить статистические гипотезы\n",
    "    \n",
    "</font>\n",
    "\n",
    "<font size=4>**Описание данных**</font>\n",
    "\n",
    "\n",
    "<font size=3>\n",
    "Датасет содержит данные о клиентах банка «Метанпром». Банк располагается в Ярославле и областных городах: Ростов Великий и Рыбинск.\n",
    "    \n",
    "Файл `bank_scrooge.csv`:\n",
    "    \n",
    "- `userid` — идентификатор пользователя,\n",
    "- `score` — баллы кредитного скоринга,\n",
    "- `City` — город,\n",
    "- `Gender` — пол,\n",
    "- `Age` — возраст,\n",
    "- `equity`  — количество баллов собственности,\n",
    "- `Balance` — баланс на счёте,\n",
    "- `Products` — количество продуктов, которыми пользуется клиент,\n",
    "- `CreditCard` — есть ли кредитная карта,\n",
    "- `Loyalty` / `last_activity` — активный клиент,\n",
    "- `estimated_salary` — заработная плата клиента,\n",
    "- `Churn` — ушёл или нет.\n",
    "    \n",
    "</font>"
   ]
  },
  {
   "cell_type": "markdown",
   "metadata": {},
   "source": [
    "<font size=4>**План работы**</font>\n",
    "\n",
    "<font size=4>**Шаг 1.** Загрузить данные и изучить общую информацию</font>\n",
    "<font size=3>\n",
    "- Загрузить датафрейм\n",
    "- Изучить общую информацию о датафрейме\n",
    "</font>\n",
    "\n",
    "<font size=4>**Шаг 2.** Выполнить предобработку данных</font>\n",
    "<font size=3>\n",
    "- Привести названия столбцов к единообразному виду\n",
    "- Что можно сказать о каждом столбце? Значения какого типа они хранят? Привести столбцы к правильным типам данных, если это необходимо\n",
    "- Проверить датафрейм на наличие пропусков. Обработать пропуски, если они есть\n",
    "- Проверить датафрейм на наличие полных и неполных дубликатов. Избавиться от них, если они есть\n",
    "- Проверить данные на наличие противоречий и аномалий. Сделать выводы об ошибках в данных и их целостности\n",
    "</font>\n",
    "\n",
    "<font size=4>**Шаг 3.** Провести исследовательский анализ данных</font>\n",
    "<font size=3>\n",
    "- Добавить в таблицу новые столбцы:\n",
    "    - Закодировать пользователей по столбцу `city`;\n",
    "    - Закодировать пользователей по столбцу `gender` и др.\n",
    "- Провести анализ корреляций признаков пользователей с отточностью\n",
    "- Предложить группы признаков для сегментации клиентов и проверить адекватность такой сегментации\n",
    "- Провести анализ отточности клиентов по предложенным сегментам. Для каждого сегмента:\n",
    "    - Посчитать размер сегмента (количество пользователей в сегменте);\n",
    "    - Вычислить процент отточных клиентов\n",
    "- Приоритизировать сегменты и дать рекомендации отделу маркетинга    \n",
    "- Составить портреты отточных клиентов\n",
    "</font>\n",
    "\n",
    "<font size=4>**Шаг 4.** Проверка гипотез</font>\n",
    "<font size=3>\n",
    "- Проверить гипотезу различия дохода между теми клиентами, которые ушли и теми, которые остались\n",
    "- Сформулировать и проверить вторую статистическую гипотезу\n",
    "</font>\n",
    "\n",
    "<font size=4>**Шаг 5.** Сделать выводы</font>\n",
    "<font size=3>\n",
    "- Сформулировать общий вывод по исследованию;\n",
    "- Сформулировать рекомендации для отдела маркетинга;\n",
    "- Составить информативную презентацию с результатами исследования\n",
    "</font>"
   ]
  },
  {
   "cell_type": "markdown",
   "metadata": {
    "toc": true
   },
   "source": [
    "<h1>Содержание<span class=\"tocSkip\"></span></h1>\n",
    "<div class=\"toc\"><ul class=\"toc-item\"><li><span><a href=\"#Загрузка-датасета-и-изучение-общей-информации\" data-toc-modified-id=\"Загрузка-датасета-и-изучение-общей-информации-1\"><span class=\"toc-item-num\">1&nbsp;&nbsp;</span>Загрузка датасета и изучение общей информации</a></span></li><li><span><a href=\"#Предобработка-данных\" data-toc-modified-id=\"Предобработка-данных-2\"><span class=\"toc-item-num\">2&nbsp;&nbsp;</span>Предобработка данных</a></span><ul class=\"toc-item\"><li><span><a href=\"#Обработка-дубликатов\" data-toc-modified-id=\"Обработка-дубликатов-2.1\"><span class=\"toc-item-num\">2.1&nbsp;&nbsp;</span>Обработка дубликатов</a></span></li><li><span><a href=\"#Обработка-пропусков\" data-toc-modified-id=\"Обработка-пропусков-2.2\"><span class=\"toc-item-num\">2.2&nbsp;&nbsp;</span>Обработка пропусков</a></span></li><li><span><a href=\"#Соответствие-типов-данных-описанию-данных\" data-toc-modified-id=\"Соответствие-типов-данных-описанию-данных-2.3\"><span class=\"toc-item-num\">2.3&nbsp;&nbsp;</span>Соответствие типов данных описанию данных</a></span></li><li><span><a href=\"#Проверка-данных-на-наличие-аномальных-значений\" data-toc-modified-id=\"Проверка-данных-на-наличие-аномальных-значений-2.4\"><span class=\"toc-item-num\">2.4&nbsp;&nbsp;</span>Проверка данных на наличие аномальных значений</a></span></li></ul></li><li><span><a href=\"#Исследовательский-анализ-данных\" data-toc-modified-id=\"Исследовательский-анализ-данных-3\"><span class=\"toc-item-num\">3&nbsp;&nbsp;</span>Исследовательский анализ данных</a></span><ul class=\"toc-item\"><li><span><a href=\"#Добавление-необходимых-столбцов\" data-toc-modified-id=\"Добавление-необходимых-столбцов-3.1\"><span class=\"toc-item-num\">3.1&nbsp;&nbsp;</span>Добавление необходимых столбцов</a></span></li><li><span><a href=\"#Анализ-корелляций-признаков-с-отточностью\" data-toc-modified-id=\"Анализ-корелляций-признаков-с-отточностью-3.2\"><span class=\"toc-item-num\">3.2&nbsp;&nbsp;</span>Анализ корелляций признаков с отточностью</a></span></li><li><span><a href=\"#Распределения-в-разрезе-отточности\" data-toc-modified-id=\"Распределения-в-разрезе-отточности-3.3\"><span class=\"toc-item-num\">3.3&nbsp;&nbsp;</span>Распределения в разрезе отточности</a></span></li><li><span><a href=\"#Выделение-сегментов\" data-toc-modified-id=\"Выделение-сегментов-3.4\"><span class=\"toc-item-num\">3.4&nbsp;&nbsp;</span>Выделение сегментов</a></span></li><li><span><a href=\"#Портрет-отточного-клиента\" data-toc-modified-id=\"Портрет-отточного-клиента-3.5\"><span class=\"toc-item-num\">3.5&nbsp;&nbsp;</span>Портрет отточного клиента</a></span></li></ul></li><li><span><a href=\"#Проверка-статистических-гипотез\" data-toc-modified-id=\"Проверка-статистических-гипотез-4\"><span class=\"toc-item-num\">4&nbsp;&nbsp;</span>Проверка статистических гипотез</a></span><ul class=\"toc-item\"><li><span><a href=\"#Гипотеза-о-различии-дохода\" data-toc-modified-id=\"Гипотеза-о-различии-дохода-4.1\"><span class=\"toc-item-num\">4.1&nbsp;&nbsp;</span>Гипотеза о различии дохода</a></span></li><li><span><a href=\"#Гипотеза-о-различии-возраста\" data-toc-modified-id=\"Гипотеза-о-различии-возраста-4.2\"><span class=\"toc-item-num\">4.2&nbsp;&nbsp;</span>Гипотеза о различии возраста</a></span></li></ul></li><li><span><a href=\"#Общий-вывод\" data-toc-modified-id=\"Общий-вывод-5\"><span class=\"toc-item-num\">5&nbsp;&nbsp;</span>Общий вывод</a></span></li></ul></div>"
   ]
  },
  {
   "cell_type": "markdown",
   "metadata": {},
   "source": [
    "## Загрузка датасета и изучение общей информации"
   ]
  },
  {
   "cell_type": "code",
   "execution_count": 1,
   "metadata": {},
   "outputs": [],
   "source": [
    "# импортируем библиотеки\n",
    "import pandas as pd\n",
    "from datetime import datetime, timedelta\n",
    "import seaborn as sns\n",
    "from matplotlib import pyplot as plt\n",
    "import numpy as np\n",
    "from pandas.plotting import register_matplotlib_converters\n",
    "import warnings\n",
    "import plotly.express as px\n",
    "import math as mth\n",
    "from scipy import stats as st"
   ]
  },
  {
   "cell_type": "code",
   "execution_count": 2,
   "metadata": {},
   "outputs": [],
   "source": [
    "# чтение файла bank_scrooge.csv с данными и сохранение его в переменную df\n",
    "path = \"https://drive.google.com/uc?export=download&id=1-U61mhTz_N1ARjy2XSAZ7IlQqGjeqP0F\" \n",
    "df = pd.read_csv(path)"
   ]
  },
  {
   "cell_type": "code",
   "execution_count": 3,
   "metadata": {},
   "outputs": [
    {
     "data": {
      "text/html": [
       "<div>\n",
       "<style scoped>\n",
       "    .dataframe tbody tr th:only-of-type {\n",
       "        vertical-align: middle;\n",
       "    }\n",
       "\n",
       "    .dataframe tbody tr th {\n",
       "        vertical-align: top;\n",
       "    }\n",
       "\n",
       "    .dataframe thead th {\n",
       "        text-align: right;\n",
       "    }\n",
       "</style>\n",
       "<table border=\"1\" class=\"dataframe\">\n",
       "  <thead>\n",
       "    <tr style=\"text-align: right;\">\n",
       "      <th></th>\n",
       "      <th>USERID</th>\n",
       "      <th>score</th>\n",
       "      <th>city</th>\n",
       "      <th>gender</th>\n",
       "      <th>age</th>\n",
       "      <th>equity</th>\n",
       "      <th>balance</th>\n",
       "      <th>products</th>\n",
       "      <th>credit_card</th>\n",
       "      <th>last_activity</th>\n",
       "      <th>EST_SALARY</th>\n",
       "      <th>churn</th>\n",
       "    </tr>\n",
       "  </thead>\n",
       "  <tbody>\n",
       "    <tr>\n",
       "      <th>0</th>\n",
       "      <td>183012</td>\n",
       "      <td>850.0</td>\n",
       "      <td>Рыбинск</td>\n",
       "      <td>Ж</td>\n",
       "      <td>25.0</td>\n",
       "      <td>1</td>\n",
       "      <td>59214.82</td>\n",
       "      <td>2</td>\n",
       "      <td>0</td>\n",
       "      <td>1</td>\n",
       "      <td>75719.14</td>\n",
       "      <td>1</td>\n",
       "    </tr>\n",
       "    <tr>\n",
       "      <th>1</th>\n",
       "      <td>146556</td>\n",
       "      <td>861.0</td>\n",
       "      <td>Рыбинск</td>\n",
       "      <td>Ж</td>\n",
       "      <td>37.0</td>\n",
       "      <td>5</td>\n",
       "      <td>850594.33</td>\n",
       "      <td>3</td>\n",
       "      <td>1</td>\n",
       "      <td>0</td>\n",
       "      <td>86621.77</td>\n",
       "      <td>0</td>\n",
       "    </tr>\n",
       "    <tr>\n",
       "      <th>2</th>\n",
       "      <td>120722</td>\n",
       "      <td>892.0</td>\n",
       "      <td>Рыбинск</td>\n",
       "      <td>Ж</td>\n",
       "      <td>30.0</td>\n",
       "      <td>0</td>\n",
       "      <td>NaN</td>\n",
       "      <td>1</td>\n",
       "      <td>1</td>\n",
       "      <td>1</td>\n",
       "      <td>107683.34</td>\n",
       "      <td>0</td>\n",
       "    </tr>\n",
       "    <tr>\n",
       "      <th>3</th>\n",
       "      <td>225363</td>\n",
       "      <td>866.0</td>\n",
       "      <td>Ярославль</td>\n",
       "      <td>Ж</td>\n",
       "      <td>51.0</td>\n",
       "      <td>5</td>\n",
       "      <td>1524746.26</td>\n",
       "      <td>2</td>\n",
       "      <td>0</td>\n",
       "      <td>1</td>\n",
       "      <td>174423.53</td>\n",
       "      <td>1</td>\n",
       "    </tr>\n",
       "    <tr>\n",
       "      <th>4</th>\n",
       "      <td>157978</td>\n",
       "      <td>730.0</td>\n",
       "      <td>Ярославль</td>\n",
       "      <td>М</td>\n",
       "      <td>34.0</td>\n",
       "      <td>5</td>\n",
       "      <td>174.00</td>\n",
       "      <td>1</td>\n",
       "      <td>1</td>\n",
       "      <td>0</td>\n",
       "      <td>67353.16</td>\n",
       "      <td>1</td>\n",
       "    </tr>\n",
       "  </tbody>\n",
       "</table>\n",
       "</div>"
      ],
      "text/plain": [
       "   USERID  score       city gender   age  equity     balance  products  \\\n",
       "0  183012  850.0    Рыбинск      Ж  25.0       1    59214.82         2   \n",
       "1  146556  861.0    Рыбинск      Ж  37.0       5   850594.33         3   \n",
       "2  120722  892.0    Рыбинск      Ж  30.0       0         NaN         1   \n",
       "3  225363  866.0  Ярославль      Ж  51.0       5  1524746.26         2   \n",
       "4  157978  730.0  Ярославль      М  34.0       5      174.00         1   \n",
       "\n",
       "   credit_card  last_activity  EST_SALARY  churn  \n",
       "0            0              1    75719.14      1  \n",
       "1            1              0    86621.77      0  \n",
       "2            1              1   107683.34      0  \n",
       "3            0              1   174423.53      1  \n",
       "4            1              0    67353.16      1  "
      ]
     },
     "execution_count": 3,
     "metadata": {},
     "output_type": "execute_result"
    }
   ],
   "source": [
    "df.head()"
   ]
  },
  {
   "cell_type": "code",
   "execution_count": 4,
   "metadata": {},
   "outputs": [
    {
     "name": "stdout",
     "output_type": "stream",
     "text": [
      "<class 'pandas.core.frame.DataFrame'>\n",
      "RangeIndex: 10000 entries, 0 to 9999\n",
      "Data columns (total 12 columns):\n",
      " #   Column         Non-Null Count  Dtype  \n",
      "---  ------         --------------  -----  \n",
      " 0   USERID         10000 non-null  int64  \n",
      " 1   score          10000 non-null  float64\n",
      " 2   city           10000 non-null  object \n",
      " 3   gender         10000 non-null  object \n",
      " 4   age            9974 non-null   float64\n",
      " 5   equity         10000 non-null  int64  \n",
      " 6   balance        7705 non-null   float64\n",
      " 7   products       10000 non-null  int64  \n",
      " 8   credit_card    10000 non-null  int64  \n",
      " 9   last_activity  10000 non-null  int64  \n",
      " 10  EST_SALARY     10000 non-null  float64\n",
      " 11  churn          10000 non-null  int64  \n",
      "dtypes: float64(4), int64(6), object(2)\n",
      "memory usage: 937.6+ KB\n"
     ]
    }
   ],
   "source": [
    "df.info()"
   ]
  },
  {
   "cell_type": "markdown",
   "metadata": {},
   "source": [
    "Датасет содержит 12 колонок и 10000 строк."
   ]
  },
  {
   "cell_type": "markdown",
   "metadata": {},
   "source": [
    "## Предобработка данных"
   ]
  },
  {
   "cell_type": "markdown",
   "metadata": {},
   "source": [
    "Названия столбцов необходимо привести к однообразному виду."
   ]
  },
  {
   "cell_type": "code",
   "execution_count": 5,
   "metadata": {},
   "outputs": [],
   "source": [
    "df = df.rename(columns={'USERID':'user_id', 'EST_SALARY':'est_salary'})"
   ]
  },
  {
   "cell_type": "markdown",
   "metadata": {},
   "source": [
    "### Обработка дубликатов"
   ]
  },
  {
   "cell_type": "code",
   "execution_count": 6,
   "metadata": {},
   "outputs": [
    {
     "data": {
      "text/plain": [
       "0"
      ]
     },
     "execution_count": 6,
     "metadata": {},
     "output_type": "execute_result"
    }
   ],
   "source": [
    "df.duplicated().sum()"
   ]
  },
  {
   "cell_type": "markdown",
   "metadata": {},
   "source": [
    "Явных дубликатов нет, но в столбце `user_id` должны быть только уникальные значения. Проверим, так ли это."
   ]
  },
  {
   "cell_type": "code",
   "execution_count": 7,
   "metadata": {},
   "outputs": [
    {
     "data": {
      "text/html": [
       "<div>\n",
       "<style scoped>\n",
       "    .dataframe tbody tr th:only-of-type {\n",
       "        vertical-align: middle;\n",
       "    }\n",
       "\n",
       "    .dataframe tbody tr th {\n",
       "        vertical-align: top;\n",
       "    }\n",
       "\n",
       "    .dataframe thead th {\n",
       "        text-align: right;\n",
       "    }\n",
       "</style>\n",
       "<table border=\"1\" class=\"dataframe\">\n",
       "  <thead>\n",
       "    <tr style=\"text-align: right;\">\n",
       "      <th></th>\n",
       "      <th>user_id</th>\n",
       "      <th>score</th>\n",
       "      <th>city</th>\n",
       "      <th>gender</th>\n",
       "      <th>age</th>\n",
       "      <th>equity</th>\n",
       "      <th>balance</th>\n",
       "      <th>products</th>\n",
       "      <th>credit_card</th>\n",
       "      <th>last_activity</th>\n",
       "      <th>est_salary</th>\n",
       "      <th>churn</th>\n",
       "    </tr>\n",
       "  </thead>\n",
       "  <tbody>\n",
       "    <tr>\n",
       "      <th>7694</th>\n",
       "      <td>116540</td>\n",
       "      <td>887.0</td>\n",
       "      <td>Ярославль</td>\n",
       "      <td>Ж</td>\n",
       "      <td>38.0</td>\n",
       "      <td>0</td>\n",
       "      <td>NaN</td>\n",
       "      <td>1</td>\n",
       "      <td>0</td>\n",
       "      <td>1</td>\n",
       "      <td>119247.61</td>\n",
       "      <td>0</td>\n",
       "    </tr>\n",
       "    <tr>\n",
       "      <th>7542</th>\n",
       "      <td>117943</td>\n",
       "      <td>880.0</td>\n",
       "      <td>Ярославль</td>\n",
       "      <td>Ж</td>\n",
       "      <td>40.0</td>\n",
       "      <td>0</td>\n",
       "      <td>NaN</td>\n",
       "      <td>1</td>\n",
       "      <td>1</td>\n",
       "      <td>0</td>\n",
       "      <td>137718.93</td>\n",
       "      <td>0</td>\n",
       "    </tr>\n",
       "    <tr>\n",
       "      <th>5896</th>\n",
       "      <td>120258</td>\n",
       "      <td>905.0</td>\n",
       "      <td>Ярославль</td>\n",
       "      <td>М</td>\n",
       "      <td>30.0</td>\n",
       "      <td>0</td>\n",
       "      <td>NaN</td>\n",
       "      <td>1</td>\n",
       "      <td>1</td>\n",
       "      <td>1</td>\n",
       "      <td>146427.96</td>\n",
       "      <td>0</td>\n",
       "    </tr>\n",
       "    <tr>\n",
       "      <th>8638</th>\n",
       "      <td>123461</td>\n",
       "      <td>934.0</td>\n",
       "      <td>Рыбинск</td>\n",
       "      <td>М</td>\n",
       "      <td>34.0</td>\n",
       "      <td>0</td>\n",
       "      <td>NaN</td>\n",
       "      <td>2</td>\n",
       "      <td>1</td>\n",
       "      <td>0</td>\n",
       "      <td>291619.27</td>\n",
       "      <td>0</td>\n",
       "    </tr>\n",
       "    <tr>\n",
       "      <th>9775</th>\n",
       "      <td>124450</td>\n",
       "      <td>758.0</td>\n",
       "      <td>Рыбинск</td>\n",
       "      <td>Ж</td>\n",
       "      <td>36.0</td>\n",
       "      <td>0</td>\n",
       "      <td>73574.07</td>\n",
       "      <td>2</td>\n",
       "      <td>0</td>\n",
       "      <td>1</td>\n",
       "      <td>79963.59</td>\n",
       "      <td>0</td>\n",
       "    </tr>\n",
       "    <tr>\n",
       "      <th>...</th>\n",
       "      <td>...</td>\n",
       "      <td>...</td>\n",
       "      <td>...</td>\n",
       "      <td>...</td>\n",
       "      <td>...</td>\n",
       "      <td>...</td>\n",
       "      <td>...</td>\n",
       "      <td>...</td>\n",
       "      <td>...</td>\n",
       "      <td>...</td>\n",
       "      <td>...</td>\n",
       "      <td>...</td>\n",
       "    </tr>\n",
       "    <tr>\n",
       "      <th>9104</th>\n",
       "      <td>222480</td>\n",
       "      <td>776.0</td>\n",
       "      <td>Рыбинск</td>\n",
       "      <td>Ж</td>\n",
       "      <td>NaN</td>\n",
       "      <td>5</td>\n",
       "      <td>796735.09</td>\n",
       "      <td>1</td>\n",
       "      <td>1</td>\n",
       "      <td>1</td>\n",
       "      <td>55073.63</td>\n",
       "      <td>0</td>\n",
       "    </tr>\n",
       "    <tr>\n",
       "      <th>8070</th>\n",
       "      <td>226550</td>\n",
       "      <td>940.0</td>\n",
       "      <td>Рыбинск</td>\n",
       "      <td>М</td>\n",
       "      <td>NaN</td>\n",
       "      <td>0</td>\n",
       "      <td>NaN</td>\n",
       "      <td>1</td>\n",
       "      <td>0</td>\n",
       "      <td>1</td>\n",
       "      <td>147696.95</td>\n",
       "      <td>0</td>\n",
       "    </tr>\n",
       "    <tr>\n",
       "      <th>4216</th>\n",
       "      <td>226719</td>\n",
       "      <td>903.0</td>\n",
       "      <td>Рыбинск</td>\n",
       "      <td>Ж</td>\n",
       "      <td>63.0</td>\n",
       "      <td>0</td>\n",
       "      <td>NaN</td>\n",
       "      <td>1</td>\n",
       "      <td>1</td>\n",
       "      <td>0</td>\n",
       "      <td>138582.58</td>\n",
       "      <td>0</td>\n",
       "    </tr>\n",
       "    <tr>\n",
       "      <th>8497</th>\n",
       "      <td>227795</td>\n",
       "      <td>839.0</td>\n",
       "      <td>Ярославль</td>\n",
       "      <td>М</td>\n",
       "      <td>34.0</td>\n",
       "      <td>2</td>\n",
       "      <td>326593.14</td>\n",
       "      <td>2</td>\n",
       "      <td>1</td>\n",
       "      <td>0</td>\n",
       "      <td>103314.92</td>\n",
       "      <td>0</td>\n",
       "    </tr>\n",
       "    <tr>\n",
       "      <th>6457</th>\n",
       "      <td>228075</td>\n",
       "      <td>839.0</td>\n",
       "      <td>Рыбинск</td>\n",
       "      <td>М</td>\n",
       "      <td>39.0</td>\n",
       "      <td>5</td>\n",
       "      <td>507199.85</td>\n",
       "      <td>3</td>\n",
       "      <td>0</td>\n",
       "      <td>1</td>\n",
       "      <td>85195.80</td>\n",
       "      <td>0</td>\n",
       "    </tr>\n",
       "  </tbody>\n",
       "</table>\n",
       "<p>73 rows × 12 columns</p>\n",
       "</div>"
      ],
      "text/plain": [
       "      user_id  score       city gender   age  equity    balance  products  \\\n",
       "7694   116540  887.0  Ярославль      Ж  38.0       0        NaN         1   \n",
       "7542   117943  880.0  Ярославль      Ж  40.0       0        NaN         1   \n",
       "5896   120258  905.0  Ярославль      М  30.0       0        NaN         1   \n",
       "8638   123461  934.0    Рыбинск      М  34.0       0        NaN         2   \n",
       "9775   124450  758.0    Рыбинск      Ж  36.0       0   73574.07         2   \n",
       "...       ...    ...        ...    ...   ...     ...        ...       ...   \n",
       "9104   222480  776.0    Рыбинск      Ж   NaN       5  796735.09         1   \n",
       "8070   226550  940.0    Рыбинск      М   NaN       0        NaN         1   \n",
       "4216   226719  903.0    Рыбинск      Ж  63.0       0        NaN         1   \n",
       "8497   227795  839.0  Ярославль      М  34.0       2  326593.14         2   \n",
       "6457   228075  839.0    Рыбинск      М  39.0       5  507199.85         3   \n",
       "\n",
       "      credit_card  last_activity  est_salary  churn  \n",
       "7694            0              1   119247.61      0  \n",
       "7542            1              0   137718.93      0  \n",
       "5896            1              1   146427.96      0  \n",
       "8638            1              0   291619.27      0  \n",
       "9775            0              1    79963.59      0  \n",
       "...           ...            ...         ...    ...  \n",
       "9104            1              1    55073.63      0  \n",
       "8070            0              1   147696.95      0  \n",
       "4216            1              0   138582.58      0  \n",
       "8497            1              0   103314.92      0  \n",
       "6457            0              1    85195.80      0  \n",
       "\n",
       "[73 rows x 12 columns]"
      ]
     },
     "execution_count": 7,
     "metadata": {},
     "output_type": "execute_result"
    }
   ],
   "source": [
    "df[df['user_id'].duplicated()==True].sort_values(by='user_id')"
   ]
  },
  {
   "cell_type": "code",
   "execution_count": 8,
   "metadata": {},
   "outputs": [
    {
     "data": {
      "text/html": [
       "<div>\n",
       "<style scoped>\n",
       "    .dataframe tbody tr th:only-of-type {\n",
       "        vertical-align: middle;\n",
       "    }\n",
       "\n",
       "    .dataframe tbody tr th {\n",
       "        vertical-align: top;\n",
       "    }\n",
       "\n",
       "    .dataframe thead th {\n",
       "        text-align: right;\n",
       "    }\n",
       "</style>\n",
       "<table border=\"1\" class=\"dataframe\">\n",
       "  <thead>\n",
       "    <tr style=\"text-align: right;\">\n",
       "      <th></th>\n",
       "      <th>user_id</th>\n",
       "      <th>score</th>\n",
       "      <th>city</th>\n",
       "      <th>gender</th>\n",
       "      <th>age</th>\n",
       "      <th>equity</th>\n",
       "      <th>balance</th>\n",
       "      <th>products</th>\n",
       "      <th>credit_card</th>\n",
       "      <th>last_activity</th>\n",
       "      <th>est_salary</th>\n",
       "      <th>churn</th>\n",
       "    </tr>\n",
       "  </thead>\n",
       "  <tbody>\n",
       "    <tr>\n",
       "      <th>1893</th>\n",
       "      <td>116540</td>\n",
       "      <td>883.0</td>\n",
       "      <td>Рыбинск</td>\n",
       "      <td>Ж</td>\n",
       "      <td>55.0</td>\n",
       "      <td>1</td>\n",
       "      <td>362756.49</td>\n",
       "      <td>3</td>\n",
       "      <td>0</td>\n",
       "      <td>1</td>\n",
       "      <td>175920.48</td>\n",
       "      <td>1</td>\n",
       "    </tr>\n",
       "    <tr>\n",
       "      <th>7694</th>\n",
       "      <td>116540</td>\n",
       "      <td>887.0</td>\n",
       "      <td>Ярославль</td>\n",
       "      <td>Ж</td>\n",
       "      <td>38.0</td>\n",
       "      <td>0</td>\n",
       "      <td>NaN</td>\n",
       "      <td>1</td>\n",
       "      <td>0</td>\n",
       "      <td>1</td>\n",
       "      <td>119247.61</td>\n",
       "      <td>0</td>\n",
       "    </tr>\n",
       "  </tbody>\n",
       "</table>\n",
       "</div>"
      ],
      "text/plain": [
       "      user_id  score       city gender   age  equity    balance  products  \\\n",
       "1893   116540  883.0    Рыбинск      Ж  55.0       1  362756.49         3   \n",
       "7694   116540  887.0  Ярославль      Ж  38.0       0        NaN         1   \n",
       "\n",
       "      credit_card  last_activity  est_salary  churn  \n",
       "1893            0              1   175920.48      1  \n",
       "7694            0              1   119247.61      0  "
      ]
     },
     "execution_count": 8,
     "metadata": {},
     "output_type": "execute_result"
    }
   ],
   "source": [
    "df[df['user_id']==116540]"
   ]
  },
  {
   "cell_type": "markdown",
   "metadata": {},
   "source": [
    "Если присмотреться внимательно к дублирующимся `user_id`, можно подметить, что чаще всего это разные люди из разных городов - Рыбинска и Ярославля. Решать проблему этих дубликатов можно по-разному, но в общем объеме данных они теряются (их немного), поэтому можно отбросить такие строки."
   ]
  },
  {
   "cell_type": "code",
   "execution_count": 9,
   "metadata": {},
   "outputs": [],
   "source": [
    "df = df[df['user_id'].duplicated()!=True].reset_index(drop=True)"
   ]
  },
  {
   "cell_type": "markdown",
   "metadata": {},
   "source": [
    "### Обработка пропусков"
   ]
  },
  {
   "cell_type": "markdown",
   "metadata": {},
   "source": [
    "Выведем количество пропусков по столбцам:"
   ]
  },
  {
   "cell_type": "code",
   "execution_count": 10,
   "metadata": {
    "scrolled": true
   },
   "outputs": [
    {
     "data": {
      "text/plain": [
       "user_id             0\n",
       "score               0\n",
       "city                0\n",
       "gender              0\n",
       "age                 4\n",
       "equity              0\n",
       "balance          2260\n",
       "products            0\n",
       "credit_card         0\n",
       "last_activity       0\n",
       "est_salary          0\n",
       "churn               0\n",
       "dtype: int64"
      ]
     },
     "execution_count": 10,
     "metadata": {},
     "output_type": "execute_result"
    }
   ],
   "source": [
    "df.isna().sum()"
   ]
  },
  {
   "cell_type": "markdown",
   "metadata": {},
   "source": [
    "В двух столбцах есть пропущенные значения: 4 значения в столбце `age` и 2260 в столбце `balance`. \n",
    "\n",
    "Строки с пропущенным возрастом в столбце `age` удалим, так как их всего 4."
   ]
  },
  {
   "cell_type": "code",
   "execution_count": 11,
   "metadata": {},
   "outputs": [],
   "source": [
    "df = df[df['age'].isna()!=True].reset_index(drop=True)"
   ]
  },
  {
   "cell_type": "markdown",
   "metadata": {},
   "source": [
    "Со столбцом `balance` так просто поступить не получится, так как строк с пропущенными значениями в нем - более 20% от начального количества. Заменить пропущенные значения баланса на медианные или средние значения по городам было бы некорректно."
   ]
  },
  {
   "cell_type": "code",
   "execution_count": 12,
   "metadata": {},
   "outputs": [
    {
     "data": {
      "text/plain": [
       "city\n",
       "Ростов       0.165960\n",
       "Рыбинск      0.217113\n",
       "Ярославль    0.247523\n",
       "Name: city, dtype: float64"
      ]
     },
     "execution_count": 12,
     "metadata": {},
     "output_type": "execute_result"
    }
   ],
   "source": [
    "(df[df['balance'].isna()==True].groupby('city')['city'].count()\n",
    " /df.groupby('city')['city'].count())"
   ]
  },
  {
   "cell_type": "markdown",
   "metadata": {},
   "source": [
    "Выше представлены доли пропусков в колонке `balance` по городам. **Выше всего** процент пропусков **в Ярославле**."
   ]
  },
  {
   "cell_type": "code",
   "execution_count": 13,
   "metadata": {},
   "outputs": [
    {
     "data": {
      "text/plain": [
       "0.0"
      ]
     },
     "execution_count": 13,
     "metadata": {},
     "output_type": "execute_result"
    }
   ],
   "source": [
    "df['balance'].min()"
   ]
  },
  {
   "cell_type": "markdown",
   "metadata": {},
   "source": [
    "Судя по тому, что минимальное значение баланса в датасете `0`, данные не подразумевают отрицательный баланс на счете. Однако заменить пропущенные значения баланса числом, например, `-1` также представляется невозможным, так как это может повлиять на среднее и медианное значения баланса. Пока что оставим эти пропуски как есть.\n",
    "\n",
    "Такое количество пропусков может быть вызвано **техническими неполадками** во время выгрузки или же **человеческим фактором**."
   ]
  },
  {
   "cell_type": "markdown",
   "metadata": {},
   "source": [
    "### Соответствие типов данных описанию данных"
   ]
  },
  {
   "cell_type": "markdown",
   "metadata": {},
   "source": [
    "Тыпы данных в некоторых столбцах не логичны: столбцы `score` и `age` должны содержать целочисленные значения. Также столбцы `credit_card`, `last_activity` и `churn` (теоретически) должны хранить булевы значения."
   ]
  },
  {
   "cell_type": "code",
   "execution_count": 14,
   "metadata": {},
   "outputs": [],
   "source": [
    "df[['score', 'age']] = df[['score', 'age']].astype(int)"
   ]
  },
  {
   "cell_type": "code",
   "execution_count": 15,
   "metadata": {},
   "outputs": [],
   "source": [
    "#df[['credit_card', 'last_activity', 'churn']] = df[['credit_card', 'last_activity', 'churn']].astype(bool)\n",
    "# оставим, как есть, для удобства вычислений и построения графиков"
   ]
  },
  {
   "cell_type": "markdown",
   "metadata": {},
   "source": [
    "### Проверка данных на наличие аномальных значений"
   ]
  },
  {
   "cell_type": "markdown",
   "metadata": {},
   "source": [
    "Посмотрим на гистограммы и другие характеристики по столбцам."
   ]
  },
  {
   "cell_type": "code",
   "execution_count": 16,
   "metadata": {},
   "outputs": [
    {
     "data": {
      "image/png": "[encoded data removed]",
      "text/plain": [
       "<Figure size 864x648 with 1 Axes>"
      ]
     },
     "metadata": {},
     "output_type": "display_data"
    }
   ],
   "source": [
    "sns.set(rc={'figure.figsize':(12,9)})\n",
    "fig=df['score'].hist(bins=100);\n",
    "fig.set(xlabel='Количество баллов скоринга', ylabel='Количество клиентов');"
   ]
  },
  {
   "cell_type": "code",
   "execution_count": 17,
   "metadata": {},
   "outputs": [
    {
     "data": {
      "text/plain": [
       "city\n",
       "Ростов       1416\n",
       "Рыбинск      2653\n",
       "Ярославль    5854\n",
       "Name: city, dtype: int64"
      ]
     },
     "execution_count": 17,
     "metadata": {},
     "output_type": "execute_result"
    }
   ],
   "source": [
    "df.groupby('city')['city'].count()"
   ]
  },
  {
   "cell_type": "code",
   "execution_count": 18,
   "metadata": {},
   "outputs": [
    {
     "data": {
      "text/plain": [
       "gender\n",
       "Ж    4953\n",
       "М    4970\n",
       "Name: gender, dtype: int64"
      ]
     },
     "execution_count": 18,
     "metadata": {},
     "output_type": "execute_result"
    }
   ],
   "source": [
    "df.groupby('gender')['gender'].count()"
   ]
  },
  {
   "cell_type": "code",
   "execution_count": 19,
   "metadata": {},
   "outputs": [
    {
     "data": {
      "image/png": "[encoded data removed]",
      "text/plain": [
       "<Figure size 864x648 with 1 Axes>"
      ]
     },
     "metadata": {},
     "output_type": "display_data"
    }
   ],
   "source": [
    "fig=df['age'].hist(bins=85);\n",
    "fig.set(xlabel='Возраст', ylabel='Количество клиентов');"
   ]
  },
  {
   "cell_type": "code",
   "execution_count": 20,
   "metadata": {},
   "outputs": [
    {
     "data": {
      "image/png": "[encoded data removed]",
      "text/plain": [
       "<Figure size 864x648 with 1 Axes>"
      ]
     },
     "metadata": {},
     "output_type": "display_data"
    }
   ],
   "source": [
    "fig=df['equity'].hist(bins=10);\n",
    "fig.set(xlabel='Баллы оценки собственности', ylabel='Количество клиентов', \n",
    "        title='Распределение клиентов в разрезе отточности');"
   ]
  },
  {
   "cell_type": "code",
   "execution_count": 21,
   "metadata": {},
   "outputs": [
    {
     "data": {
      "image/png": "[encoded data removed]",
      "text/plain": [
       "<Figure size 864x648 with 1 Axes>"
      ]
     },
     "metadata": {},
     "output_type": "display_data"
    }
   ],
   "source": [
    "fig=df['products'].hist(bins=6);\n",
    "fig.set(xlabel='Количество продуктов банка', ylabel='Количество клиентов');"
   ]
  },
  {
   "cell_type": "code",
   "execution_count": 22,
   "metadata": {},
   "outputs": [
    {
     "data": {
      "image/png": "[encoded data removed]",
      "text/plain": [
       "<Figure size 864x648 with 1 Axes>"
      ]
     },
     "metadata": {},
     "output_type": "display_data"
    }
   ],
   "source": [
    "fig=df['est_salary'].hist(bins=100);\n",
    "fig.set(xlabel='Заработная плата', ylabel='Количество клиентов');"
   ]
  },
  {
   "cell_type": "markdown",
   "metadata": {},
   "source": [
    "Изучение столбцов в отдельности при поиске аномальных значений **не дало результатов**. Были проверены средние, минимальные, медианные, максимальные и уникальные значения по столбцам. **Противоречивых данных найдено не было**."
   ]
  },
  {
   "cell_type": "markdown",
   "metadata": {},
   "source": [
    "## Исследовательский анализ данных"
   ]
  },
  {
   "cell_type": "markdown",
   "metadata": {},
   "source": [
    "### Добавление необходимых столбцов"
   ]
  },
  {
   "cell_type": "markdown",
   "metadata": {},
   "source": [
    "Для того, чтобы анализировать зависимости, необходимо закодировать категориальные данные с помощью `one-hot` кодирования. Это коснется столбцов `city` и `gender`."
   ]
  },
  {
   "cell_type": "code",
   "execution_count": 23,
   "metadata": {},
   "outputs": [],
   "source": [
    "# создаем копии столбцов, чтобы сохранить исходные данные\n",
    "df['city_copied']=df['city']\n",
    "df['gender_copied']=df['gender']"
   ]
  },
  {
   "cell_type": "code",
   "execution_count": 24,
   "metadata": {},
   "outputs": [],
   "source": [
    "# кодируем\n",
    "df = pd.get_dummies(df, columns=['city', 'gender'])"
   ]
  },
  {
   "cell_type": "code",
   "execution_count": 25,
   "metadata": {},
   "outputs": [
    {
     "data": {
      "text/html": [
       "<div>\n",
       "<style scoped>\n",
       "    .dataframe tbody tr th:only-of-type {\n",
       "        vertical-align: middle;\n",
       "    }\n",
       "\n",
       "    .dataframe tbody tr th {\n",
       "        vertical-align: top;\n",
       "    }\n",
       "\n",
       "    .dataframe thead th {\n",
       "        text-align: right;\n",
       "    }\n",
       "</style>\n",
       "<table border=\"1\" class=\"dataframe\">\n",
       "  <thead>\n",
       "    <tr style=\"text-align: right;\">\n",
       "      <th></th>\n",
       "      <th>user_id</th>\n",
       "      <th>score</th>\n",
       "      <th>age</th>\n",
       "      <th>equity</th>\n",
       "      <th>balance</th>\n",
       "      <th>products</th>\n",
       "      <th>credit_card</th>\n",
       "      <th>last_activity</th>\n",
       "      <th>est_salary</th>\n",
       "      <th>churn</th>\n",
       "      <th>city</th>\n",
       "      <th>gender</th>\n",
       "      <th>city_Ростов</th>\n",
       "      <th>city_Рыбинск</th>\n",
       "      <th>city_Ярославль</th>\n",
       "      <th>gender_Ж</th>\n",
       "      <th>gender_М</th>\n",
       "    </tr>\n",
       "  </thead>\n",
       "  <tbody>\n",
       "    <tr>\n",
       "      <th>0</th>\n",
       "      <td>183012</td>\n",
       "      <td>850</td>\n",
       "      <td>25</td>\n",
       "      <td>1</td>\n",
       "      <td>59214.82</td>\n",
       "      <td>2</td>\n",
       "      <td>0</td>\n",
       "      <td>1</td>\n",
       "      <td>75719.14</td>\n",
       "      <td>1</td>\n",
       "      <td>Рыбинск</td>\n",
       "      <td>Ж</td>\n",
       "      <td>0</td>\n",
       "      <td>1</td>\n",
       "      <td>0</td>\n",
       "      <td>1</td>\n",
       "      <td>0</td>\n",
       "    </tr>\n",
       "    <tr>\n",
       "      <th>1</th>\n",
       "      <td>146556</td>\n",
       "      <td>861</td>\n",
       "      <td>37</td>\n",
       "      <td>5</td>\n",
       "      <td>850594.33</td>\n",
       "      <td>3</td>\n",
       "      <td>1</td>\n",
       "      <td>0</td>\n",
       "      <td>86621.77</td>\n",
       "      <td>0</td>\n",
       "      <td>Рыбинск</td>\n",
       "      <td>Ж</td>\n",
       "      <td>0</td>\n",
       "      <td>1</td>\n",
       "      <td>0</td>\n",
       "      <td>1</td>\n",
       "      <td>0</td>\n",
       "    </tr>\n",
       "    <tr>\n",
       "      <th>2</th>\n",
       "      <td>120722</td>\n",
       "      <td>892</td>\n",
       "      <td>30</td>\n",
       "      <td>0</td>\n",
       "      <td>NaN</td>\n",
       "      <td>1</td>\n",
       "      <td>1</td>\n",
       "      <td>1</td>\n",
       "      <td>107683.34</td>\n",
       "      <td>0</td>\n",
       "      <td>Рыбинск</td>\n",
       "      <td>Ж</td>\n",
       "      <td>0</td>\n",
       "      <td>1</td>\n",
       "      <td>0</td>\n",
       "      <td>1</td>\n",
       "      <td>0</td>\n",
       "    </tr>\n",
       "    <tr>\n",
       "      <th>3</th>\n",
       "      <td>225363</td>\n",
       "      <td>866</td>\n",
       "      <td>51</td>\n",
       "      <td>5</td>\n",
       "      <td>1524746.26</td>\n",
       "      <td>2</td>\n",
       "      <td>0</td>\n",
       "      <td>1</td>\n",
       "      <td>174423.53</td>\n",
       "      <td>1</td>\n",
       "      <td>Ярославль</td>\n",
       "      <td>Ж</td>\n",
       "      <td>0</td>\n",
       "      <td>0</td>\n",
       "      <td>1</td>\n",
       "      <td>1</td>\n",
       "      <td>0</td>\n",
       "    </tr>\n",
       "    <tr>\n",
       "      <th>4</th>\n",
       "      <td>157978</td>\n",
       "      <td>730</td>\n",
       "      <td>34</td>\n",
       "      <td>5</td>\n",
       "      <td>174.00</td>\n",
       "      <td>1</td>\n",
       "      <td>1</td>\n",
       "      <td>0</td>\n",
       "      <td>67353.16</td>\n",
       "      <td>1</td>\n",
       "      <td>Ярославль</td>\n",
       "      <td>М</td>\n",
       "      <td>0</td>\n",
       "      <td>0</td>\n",
       "      <td>1</td>\n",
       "      <td>0</td>\n",
       "      <td>1</td>\n",
       "    </tr>\n",
       "  </tbody>\n",
       "</table>\n",
       "</div>"
      ],
      "text/plain": [
       "   user_id  score  age  equity     balance  products  credit_card  \\\n",
       "0   183012    850   25       1    59214.82         2            0   \n",
       "1   146556    861   37       5   850594.33         3            1   \n",
       "2   120722    892   30       0         NaN         1            1   \n",
       "3   225363    866   51       5  1524746.26         2            0   \n",
       "4   157978    730   34       5      174.00         1            1   \n",
       "\n",
       "   last_activity  est_salary  churn       city gender  city_Ростов  \\\n",
       "0              1    75719.14      1    Рыбинск      Ж            0   \n",
       "1              0    86621.77      0    Рыбинск      Ж            0   \n",
       "2              1   107683.34      0    Рыбинск      Ж            0   \n",
       "3              1   174423.53      1  Ярославль      Ж            0   \n",
       "4              0    67353.16      1  Ярославль      М            0   \n",
       "\n",
       "   city_Рыбинск  city_Ярославль  gender_Ж  gender_М  \n",
       "0             1               0         1         0  \n",
       "1             1               0         1         0  \n",
       "2             1               0         1         0  \n",
       "3             0               1         1         0  \n",
       "4             0               1         0         1  "
      ]
     },
     "execution_count": 25,
     "metadata": {},
     "output_type": "execute_result"
    }
   ],
   "source": [
    "# переименовываем исходные столбцы и выводим датасет\n",
    "df = df.rename(columns={'city_copied':'city','gender_copied':'gender'})\n",
    "df.head()"
   ]
  },
  {
   "cell_type": "markdown",
   "metadata": {},
   "source": [
    "### Анализ корелляций признаков с отточностью"
   ]
  },
  {
   "cell_type": "markdown",
   "metadata": {},
   "source": [
    "Для анализа взаимосвязей в данных построим матрицу корелляций."
   ]
  },
  {
   "cell_type": "code",
   "execution_count": 26,
   "metadata": {},
   "outputs": [
    {
     "data": {
      "text/html": [
       "<style  type=\"text/css\" >\n",
       "#T_957e7_row0_col0,#T_957e7_row1_col1,#T_957e7_row2_col2,#T_957e7_row3_col3,#T_957e7_row4_col4,#T_957e7_row5_col5,#T_957e7_row6_col6,#T_957e7_row7_col7,#T_957e7_row8_col8,#T_957e7_row9_col9,#T_957e7_row10_col10,#T_957e7_row11_col11,#T_957e7_row12_col12,#T_957e7_row13_col13,#T_957e7_row14_col14{\n",
       "            background-color:  #b40426;\n",
       "            color:  #f1f1f1;\n",
       "        }#T_957e7_row0_col1,#T_957e7_row9_col6,#T_957e7_row11_col7,#T_957e7_row14_col1{\n",
       "            background-color:  #5875e1;\n",
       "            color:  #000000;\n",
       "        }#T_957e7_row0_col2,#T_957e7_row5_col2{\n",
       "            background-color:  #779af7;\n",
       "            color:  #000000;\n",
       "        }#T_957e7_row0_col3{\n",
       "            background-color:  #6a8bef;\n",
       "            color:  #000000;\n",
       "        }#T_957e7_row0_col4,#T_957e7_row7_col1,#T_957e7_row13_col7,#T_957e7_row14_col0{\n",
       "            background-color:  #4c66d6;\n",
       "            color:  #000000;\n",
       "        }#T_957e7_row0_col5,#T_957e7_row1_col5,#T_957e7_row4_col9,#T_957e7_row10_col5,#T_957e7_row11_col2{\n",
       "            background-color:  #7a9df8;\n",
       "            color:  #000000;\n",
       "        }#T_957e7_row0_col6{\n",
       "            background-color:  #7da0f9;\n",
       "            color:  #000000;\n",
       "        }#T_957e7_row0_col7,#T_957e7_row1_col7{\n",
       "            background-color:  #3f53c6;\n",
       "            color:  #f1f1f1;\n",
       "        }#T_957e7_row0_col8,#T_957e7_row3_col1,#T_957e7_row7_col3,#T_957e7_row7_col8,#T_957e7_row9_col8{\n",
       "            background-color:  #688aef;\n",
       "            color:  #000000;\n",
       "        }#T_957e7_row0_col9{\n",
       "            background-color:  #5e7de7;\n",
       "            color:  #000000;\n",
       "        }#T_957e7_row0_col10{\n",
       "            background-color:  #a1c0ff;\n",
       "            color:  #000000;\n",
       "        }#T_957e7_row0_col11,#T_957e7_row0_col12,#T_957e7_row9_col13,#T_957e7_row13_col11{\n",
       "            background-color:  #c9d7f0;\n",
       "            color:  #000000;\n",
       "        }#T_957e7_row0_col13,#T_957e7_row6_col12{\n",
       "            background-color:  #d9dce1;\n",
       "            color:  #000000;\n",
       "        }#T_957e7_row0_col14,#T_957e7_row5_col3{\n",
       "            background-color:  #e0dbd8;\n",
       "            color:  #000000;\n",
       "        }#T_957e7_row1_col0,#T_957e7_row12_col0{\n",
       "            background-color:  #465ecf;\n",
       "            color:  #f1f1f1;\n",
       "        }#T_957e7_row1_col2,#T_957e7_row7_col2,#T_957e7_row11_col5,#T_957e7_row13_col3{\n",
       "            background-color:  #6f92f3;\n",
       "            color:  #000000;\n",
       "        }#T_957e7_row1_col3{\n",
       "            background-color:  #7b9ff9;\n",
       "            color:  #000000;\n",
       "        }#T_957e7_row1_col4{\n",
       "            background-color:  #97b8ff;\n",
       "            color:  #000000;\n",
       "        }#T_957e7_row1_col6,#T_957e7_row2_col4,#T_957e7_row10_col6{\n",
       "            background-color:  #6180e9;\n",
       "            color:  #000000;\n",
       "        }#T_957e7_row1_col8,#T_957e7_row4_col3{\n",
       "            background-color:  #9abbff;\n",
       "            color:  #000000;\n",
       "        }#T_957e7_row1_col9,#T_957e7_row13_col5,#T_957e7_row14_col8{\n",
       "            background-color:  #81a4fb;\n",
       "            color:  #000000;\n",
       "        }#T_957e7_row1_col10,#T_957e7_row4_col1,#T_957e7_row4_col10,#T_957e7_row14_col6{\n",
       "            background-color:  #9fbfff;\n",
       "            color:  #000000;\n",
       "        }#T_957e7_row1_col11,#T_957e7_row3_col11{\n",
       "            background-color:  #c6d6f1;\n",
       "            color:  #000000;\n",
       "        }#T_957e7_row1_col12,#T_957e7_row2_col11,#T_957e7_row4_col8,#T_957e7_row6_col13,#T_957e7_row9_col12{\n",
       "            background-color:  #cbd8ee;\n",
       "            color:  #000000;\n",
       "        }#T_957e7_row1_col13,#T_957e7_row7_col14,#T_957e7_row8_col12,#T_957e7_row10_col14,#T_957e7_row11_col14{\n",
       "            background-color:  #dbdcde;\n",
       "            color:  #000000;\n",
       "        }#T_957e7_row1_col14,#T_957e7_row7_col13,#T_957e7_row10_col13,#T_957e7_row11_col13{\n",
       "            background-color:  #dedcdb;\n",
       "            color:  #000000;\n",
       "        }#T_957e7_row2_col0,#T_957e7_row8_col7{\n",
       "            background-color:  #4961d2;\n",
       "            color:  #f1f1f1;\n",
       "        }#T_957e7_row2_col1,#T_957e7_row13_col1,#T_957e7_row13_col8{\n",
       "            background-color:  #516ddb;\n",
       "            color:  #000000;\n",
       "        }#T_957e7_row2_col3,#T_957e7_row11_col6,#T_957e7_row11_col10{\n",
       "            background-color:  #6e90f2;\n",
       "            color:  #000000;\n",
       "        }#T_957e7_row2_col5,#T_957e7_row3_col4,#T_957e7_row10_col2{\n",
       "            background-color:  #80a3fa;\n",
       "            color:  #000000;\n",
       "        }#T_957e7_row2_col6,#T_957e7_row14_col4{\n",
       "            background-color:  #5a78e4;\n",
       "            color:  #000000;\n",
       "        }#T_957e7_row2_col7,#T_957e7_row3_col0,#T_957e7_row4_col0,#T_957e7_row6_col0{\n",
       "            background-color:  #455cce;\n",
       "            color:  #f1f1f1;\n",
       "        }#T_957e7_row2_col8,#T_957e7_row12_col1,#T_957e7_row12_col4{\n",
       "            background-color:  #5d7ce6;\n",
       "            color:  #000000;\n",
       "        }#T_957e7_row2_col9,#T_957e7_row7_col4{\n",
       "            background-color:  #536edd;\n",
       "            color:  #000000;\n",
       "        }#T_957e7_row2_col10,#T_957e7_row3_col9{\n",
       "            background-color:  #b3cdfb;\n",
       "            color:  #000000;\n",
       "        }#T_957e7_row2_col12{\n",
       "            background-color:  #bbd1f8;\n",
       "            color:  #000000;\n",
       "        }#T_957e7_row2_col13{\n",
       "            background-color:  #f2c9b4;\n",
       "            color:  #000000;\n",
       "        }#T_957e7_row2_col14,#T_957e7_row5_col11,#T_957e7_row6_col11,#T_957e7_row7_col12{\n",
       "            background-color:  #bed2f6;\n",
       "            color:  #000000;\n",
       "        }#T_957e7_row3_col2{\n",
       "            background-color:  #799cf8;\n",
       "            color:  #000000;\n",
       "        }#T_957e7_row3_col5{\n",
       "            background-color:  #e8d6cc;\n",
       "            color:  #000000;\n",
       "        }#T_957e7_row3_col6{\n",
       "            background-color:  #4f69d9;\n",
       "            color:  #000000;\n",
       "        }#T_957e7_row3_col7,#T_957e7_row5_col8,#T_957e7_row11_col0{\n",
       "            background-color:  #485fd1;\n",
       "            color:  #f1f1f1;\n",
       "        }#T_957e7_row3_col8,#T_957e7_row5_col6,#T_957e7_row6_col1,#T_957e7_row6_col3,#T_957e7_row6_col4,#T_957e7_row6_col5,#T_957e7_row7_col0,#T_957e7_row8_col3,#T_957e7_row10_col0,#T_957e7_row11_col12,#T_957e7_row12_col7,#T_957e7_row12_col10,#T_957e7_row12_col11,#T_957e7_row13_col0,#T_957e7_row13_col9,#T_957e7_row13_col14,#T_957e7_row14_col2,#T_957e7_row14_col13{\n",
       "            background-color:  #3b4cc0;\n",
       "            color:  #f1f1f1;\n",
       "        }#T_957e7_row3_col10{\n",
       "            background-color:  #b1cbfc;\n",
       "            color:  #000000;\n",
       "        }#T_957e7_row3_col12,#T_957e7_row13_col12{\n",
       "            background-color:  #c3d5f4;\n",
       "            color:  #000000;\n",
       "        }#T_957e7_row3_col13,#T_957e7_row5_col13,#T_957e7_row12_col14{\n",
       "            background-color:  #dfdbd9;\n",
       "            color:  #000000;\n",
       "        }#T_957e7_row3_col14,#T_957e7_row5_col14,#T_957e7_row12_col13{\n",
       "            background-color:  #dadce0;\n",
       "            color:  #000000;\n",
       "        }#T_957e7_row4_col2,#T_957e7_row7_col5{\n",
       "            background-color:  #86a9fc;\n",
       "            color:  #000000;\n",
       "        }#T_957e7_row4_col5{\n",
       "            background-color:  #90b2fe;\n",
       "            color:  #000000;\n",
       "        }#T_957e7_row4_col6{\n",
       "            background-color:  #6b8df0;\n",
       "            color:  #000000;\n",
       "        }#T_957e7_row4_col7,#T_957e7_row6_col2{\n",
       "            background-color:  #506bda;\n",
       "            color:  #000000;\n",
       "        }#T_957e7_row4_col11{\n",
       "            background-color:  #c0d4f5;\n",
       "            color:  #000000;\n",
       "        }#T_957e7_row4_col12{\n",
       "            background-color:  #cfdaea;\n",
       "            color:  #000000;\n",
       "        }#T_957e7_row4_col13{\n",
       "            background-color:  #d6dce4;\n",
       "            color:  #000000;\n",
       "        }#T_957e7_row4_col14{\n",
       "            background-color:  #e3d9d3;\n",
       "            color:  #000000;\n",
       "        }#T_957e7_row5_col0,#T_957e7_row11_col4{\n",
       "            background-color:  #4257c9;\n",
       "            color:  #f1f1f1;\n",
       "        }#T_957e7_row5_col1,#T_957e7_row5_col7{\n",
       "            background-color:  #5470de;\n",
       "            color:  #000000;\n",
       "        }#T_957e7_row5_col4,#T_957e7_row8_col9,#T_957e7_row10_col9,#T_957e7_row12_col2,#T_957e7_row12_col3,#T_957e7_row14_col3{\n",
       "            background-color:  #6282ea;\n",
       "            color:  #000000;\n",
       "        }#T_957e7_row5_col9,#T_957e7_row8_col11{\n",
       "            background-color:  #bcd2f7;\n",
       "            color:  #000000;\n",
       "        }#T_957e7_row5_col10{\n",
       "            background-color:  #a6c4fe;\n",
       "            color:  #000000;\n",
       "        }#T_957e7_row5_col12,#T_957e7_row7_col11{\n",
       "            background-color:  #cedaeb;\n",
       "            color:  #000000;\n",
       "        }#T_957e7_row6_col7{\n",
       "            background-color:  #3e51c5;\n",
       "            color:  #f1f1f1;\n",
       "        }#T_957e7_row6_col8,#T_957e7_row10_col3{\n",
       "            background-color:  #7396f5;\n",
       "            color:  #000000;\n",
       "        }#T_957e7_row6_col9,#T_957e7_row13_col4{\n",
       "            background-color:  #3d50c3;\n",
       "            color:  #f1f1f1;\n",
       "        }#T_957e7_row6_col10{\n",
       "            background-color:  #92b4fe;\n",
       "            color:  #000000;\n",
       "        }#T_957e7_row6_col14{\n",
       "            background-color:  #ecd3c5;\n",
       "            color:  #000000;\n",
       "        }#T_957e7_row7_col6{\n",
       "            background-color:  #7295f4;\n",
       "            color:  #000000;\n",
       "        }#T_957e7_row7_col9{\n",
       "            background-color:  #94b6ff;\n",
       "            color:  #000000;\n",
       "        }#T_957e7_row7_col10{\n",
       "            background-color:  #aac7fd;\n",
       "            color:  #000000;\n",
       "        }#T_957e7_row8_col0{\n",
       "            background-color:  #4358cb;\n",
       "            color:  #f1f1f1;\n",
       "        }#T_957e7_row8_col1,#T_957e7_row12_col5{\n",
       "            background-color:  #88abfd;\n",
       "            color:  #000000;\n",
       "        }#T_957e7_row8_col2,#T_957e7_row11_col3,#T_957e7_row12_col9{\n",
       "            background-color:  #6788ee;\n",
       "            color:  #000000;\n",
       "        }#T_957e7_row8_col4,#T_957e7_row9_col3{\n",
       "            background-color:  #b9d0f9;\n",
       "            color:  #000000;\n",
       "        }#T_957e7_row8_col5{\n",
       "            background-color:  #5b7ae5;\n",
       "            color:  #000000;\n",
       "        }#T_957e7_row8_col6{\n",
       "            background-color:  #85a8fc;\n",
       "            color:  #000000;\n",
       "        }#T_957e7_row8_col10{\n",
       "            background-color:  #8fb1fe;\n",
       "            color:  #000000;\n",
       "        }#T_957e7_row8_col13{\n",
       "            background-color:  #d2dbe8;\n",
       "            color:  #000000;\n",
       "        }#T_957e7_row8_col14{\n",
       "            background-color:  #e7d7ce;\n",
       "            color:  #000000;\n",
       "        }#T_957e7_row9_col0,#T_957e7_row10_col4{\n",
       "            background-color:  #4055c8;\n",
       "            color:  #f1f1f1;\n",
       "        }#T_957e7_row9_col1{\n",
       "            background-color:  #7699f6;\n",
       "            color:  #000000;\n",
       "        }#T_957e7_row9_col2,#T_957e7_row10_col12{\n",
       "            background-color:  #6485ec;\n",
       "            color:  #000000;\n",
       "        }#T_957e7_row9_col4{\n",
       "            background-color:  #6687ed;\n",
       "            color:  #000000;\n",
       "        }#T_957e7_row9_col5{\n",
       "            background-color:  #cdd9ec;\n",
       "            color:  #000000;\n",
       "        }#T_957e7_row9_col7{\n",
       "            background-color:  #7ea1fa;\n",
       "            color:  #000000;\n",
       "        }#T_957e7_row9_col10{\n",
       "            background-color:  #a9c6fd;\n",
       "            color:  #000000;\n",
       "        }#T_957e7_row9_col11{\n",
       "            background-color:  #c1d4f4;\n",
       "            color:  #000000;\n",
       "        }#T_957e7_row9_col14{\n",
       "            background-color:  #edd1c2;\n",
       "            color:  #000000;\n",
       "        }#T_957e7_row10_col1,#T_957e7_row10_col7{\n",
       "            background-color:  #4a63d3;\n",
       "            color:  #f1f1f1;\n",
       "        }#T_957e7_row10_col8{\n",
       "            background-color:  #4b64d5;\n",
       "            color:  #f1f1f1;\n",
       "        }#T_957e7_row10_col11{\n",
       "            background-color:  #96b7ff;\n",
       "            color:  #000000;\n",
       "        }#T_957e7_row11_col1{\n",
       "            background-color:  #5572df;\n",
       "            color:  #000000;\n",
       "        }#T_957e7_row11_col8,#T_957e7_row11_col9,#T_957e7_row13_col6{\n",
       "            background-color:  #5977e3;\n",
       "            color:  #000000;\n",
       "        }#T_957e7_row12_col6{\n",
       "            background-color:  #9dbdff;\n",
       "            color:  #000000;\n",
       "        }#T_957e7_row12_col8{\n",
       "            background-color:  #8db0fe;\n",
       "            color:  #000000;\n",
       "        }#T_957e7_row13_col2{\n",
       "            background-color:  #afcafc;\n",
       "            color:  #000000;\n",
       "        }#T_957e7_row13_col10{\n",
       "            background-color:  #abc8fd;\n",
       "            color:  #000000;\n",
       "        }#T_957e7_row14_col5{\n",
       "            background-color:  #7597f6;\n",
       "            color:  #000000;\n",
       "        }#T_957e7_row14_col7{\n",
       "            background-color:  #445acc;\n",
       "            color:  #f1f1f1;\n",
       "        }#T_957e7_row14_col9{\n",
       "            background-color:  #8caffe;\n",
       "            color:  #000000;\n",
       "        }#T_957e7_row14_col10{\n",
       "            background-color:  #a5c3fe;\n",
       "            color:  #000000;\n",
       "        }#T_957e7_row14_col11{\n",
       "            background-color:  #c4d5f3;\n",
       "            color:  #000000;\n",
       "        }#T_957e7_row14_col12{\n",
       "            background-color:  #cad8ef;\n",
       "            color:  #000000;\n",
       "        }</style><table id=\"T_957e7_\" ><thead>    <tr>        <th class=\"blank level0\" ></th>        <th class=\"col_heading level0 col0\" >user_id</th>        <th class=\"col_heading level0 col1\" >score</th>        <th class=\"col_heading level0 col2\" >age</th>        <th class=\"col_heading level0 col3\" >equity</th>        <th class=\"col_heading level0 col4\" >balance</th>        <th class=\"col_heading level0 col5\" >products</th>        <th class=\"col_heading level0 col6\" >credit_card</th>        <th class=\"col_heading level0 col7\" >last_activity</th>        <th class=\"col_heading level0 col8\" >est_salary</th>        <th class=\"col_heading level0 col9\" >churn</th>        <th class=\"col_heading level0 col10\" >city_Ростов</th>        <th class=\"col_heading level0 col11\" >city_Рыбинск</th>        <th class=\"col_heading level0 col12\" >city_Ярославль</th>        <th class=\"col_heading level0 col13\" >gender_Ж</th>        <th class=\"col_heading level0 col14\" >gender_М</th>    </tr></thead><tbody>\n",
       "                <tr>\n",
       "                        <th id=\"T_957e7_level0_row0\" class=\"row_heading level0 row0\" >user_id</th>\n",
       "                        <td id=\"T_957e7_row0_col0\" class=\"data row0 col0\" >1.000000</td>\n",
       "                        <td id=\"T_957e7_row0_col1\" class=\"data row0 col1\" >0.009128</td>\n",
       "                        <td id=\"T_957e7_row0_col2\" class=\"data row0 col2\" >0.016432</td>\n",
       "                        <td id=\"T_957e7_row0_col3\" class=\"data row0 col3\" >0.004451</td>\n",
       "                        <td id=\"T_957e7_row0_col4\" class=\"data row0 col4\" >0.005697</td>\n",
       "                        <td id=\"T_957e7_row0_col5\" class=\"data row0 col5\" >-0.004377</td>\n",
       "                        <td id=\"T_957e7_row0_col6\" class=\"data row0 col6\" >0.004045</td>\n",
       "                        <td id=\"T_957e7_row0_col7\" class=\"data row0 col7\" >-0.031956</td>\n",
       "                        <td id=\"T_957e7_row0_col8\" class=\"data row0 col8\" >-0.000975</td>\n",
       "                        <td id=\"T_957e7_row0_col9\" class=\"data row0 col9\" >-0.010565</td>\n",
       "                        <td id=\"T_957e7_row0_col10\" class=\"data row0 col10\" >-0.032541</td>\n",
       "                        <td id=\"T_957e7_row0_col11\" class=\"data row0 col11\" >0.013026</td>\n",
       "                        <td id=\"T_957e7_row0_col12\" class=\"data row0 col12\" >0.011419</td>\n",
       "                        <td id=\"T_957e7_row0_col13\" class=\"data row0 col13\" >-0.029848</td>\n",
       "                        <td id=\"T_957e7_row0_col14\" class=\"data row0 col14\" >0.029848</td>\n",
       "            </tr>\n",
       "            <tr>\n",
       "                        <th id=\"T_957e7_level0_row1\" class=\"row_heading level0 row1\" >score</th>\n",
       "                        <td id=\"T_957e7_row1_col0\" class=\"data row1 col0\" >0.009128</td>\n",
       "                        <td id=\"T_957e7_row1_col1\" class=\"data row1 col1\" >1.000000</td>\n",
       "                        <td id=\"T_957e7_row1_col2\" class=\"data row1 col2\" >-0.011542</td>\n",
       "                        <td id=\"T_957e7_row1_col3\" class=\"data row1 col3\" >0.065586</td>\n",
       "                        <td id=\"T_957e7_row1_col4\" class=\"data row1 col4\" >0.235191</td>\n",
       "                        <td id=\"T_957e7_row1_col5\" class=\"data row1 col5\" >-0.003873</td>\n",
       "                        <td id=\"T_957e7_row1_col6\" class=\"data row1 col6\" >-0.095938</td>\n",
       "                        <td id=\"T_957e7_row1_col7\" class=\"data row1 col7\" >-0.030659</td>\n",
       "                        <td id=\"T_957e7_row1_col8\" class=\"data row1 col8\" >0.164474</td>\n",
       "                        <td id=\"T_957e7_row1_col9\" class=\"data row1 col9\" >0.106377</td>\n",
       "                        <td id=\"T_957e7_row1_col10\" class=\"data row1 col10\" >-0.037995</td>\n",
       "                        <td id=\"T_957e7_row1_col11\" class=\"data row1 col11\" >-0.000334</td>\n",
       "                        <td id=\"T_957e7_row1_col12\" class=\"data row1 col12\" >0.027320</td>\n",
       "                        <td id=\"T_957e7_row1_col13\" class=\"data row1 col13\" >-0.010566</td>\n",
       "                        <td id=\"T_957e7_row1_col14\" class=\"data row1 col14\" >0.010566</td>\n",
       "            </tr>\n",
       "            <tr>\n",
       "                        <th id=\"T_957e7_level0_row2\" class=\"row_heading level0 row2\" >age</th>\n",
       "                        <td id=\"T_957e7_row2_col0\" class=\"data row2 col0\" >0.016432</td>\n",
       "                        <td id=\"T_957e7_row2_col1\" class=\"data row2 col1\" >-0.011542</td>\n",
       "                        <td id=\"T_957e7_row2_col2\" class=\"data row2 col2\" >1.000000</td>\n",
       "                        <td id=\"T_957e7_row2_col3\" class=\"data row2 col3\" >0.019764</td>\n",
       "                        <td id=\"T_957e7_row2_col4\" class=\"data row2 col4\" >0.070075</td>\n",
       "                        <td id=\"T_957e7_row2_col5\" class=\"data row2 col5\" >0.016862</td>\n",
       "                        <td id=\"T_957e7_row2_col6\" class=\"data row2 col6\" >-0.123113</td>\n",
       "                        <td id=\"T_957e7_row2_col7\" class=\"data row2 col7\" >-0.008697</td>\n",
       "                        <td id=\"T_957e7_row2_col8\" class=\"data row2 col8\" >-0.039372</td>\n",
       "                        <td id=\"T_957e7_row2_col9\" class=\"data row2 col9\" >-0.049763</td>\n",
       "                        <td id=\"T_957e7_row2_col10\" class=\"data row2 col10\" >0.047312</td>\n",
       "                        <td id=\"T_957e7_row2_col11\" class=\"data row2 col11\" >0.028506</td>\n",
       "                        <td id=\"T_957e7_row2_col12\" class=\"data row2 col12\" >-0.059296</td>\n",
       "                        <td id=\"T_957e7_row2_col13\" class=\"data row2 col13\" >0.212308</td>\n",
       "                        <td id=\"T_957e7_row2_col14\" class=\"data row2 col14\" >-0.212308</td>\n",
       "            </tr>\n",
       "            <tr>\n",
       "                        <th id=\"T_957e7_level0_row3\" class=\"row_heading level0 row3\" >equity</th>\n",
       "                        <td id=\"T_957e7_row3_col0\" class=\"data row3 col0\" >0.004451</td>\n",
       "                        <td id=\"T_957e7_row3_col1\" class=\"data row3 col1\" >0.065586</td>\n",
       "                        <td id=\"T_957e7_row3_col2\" class=\"data row3 col2\" >0.019764</td>\n",
       "                        <td id=\"T_957e7_row3_col3\" class=\"data row3 col3\" >1.000000</td>\n",
       "                        <td id=\"T_957e7_row3_col4\" class=\"data row3 col4\" >0.163711</td>\n",
       "                        <td id=\"T_957e7_row3_col5\" class=\"data row3 col5\" >0.431099</td>\n",
       "                        <td id=\"T_957e7_row3_col6\" class=\"data row3 col6\" >-0.167460</td>\n",
       "                        <td id=\"T_957e7_row3_col7\" class=\"data row3 col7\" >-0.001513</td>\n",
       "                        <td id=\"T_957e7_row3_col8\" class=\"data row3 col8\" >-0.171375</td>\n",
       "                        <td id=\"T_957e7_row3_col9\" class=\"data row3 col9\" >0.270195</td>\n",
       "                        <td id=\"T_957e7_row3_col10\" class=\"data row3 col10\" >0.034771</td>\n",
       "                        <td id=\"T_957e7_row3_col11\" class=\"data row3 col11\" >-0.003538</td>\n",
       "                        <td id=\"T_957e7_row3_col12\" class=\"data row3 col12\" >-0.021543</td>\n",
       "                        <td id=\"T_957e7_row3_col13\" class=\"data row3 col13\" >0.021018</td>\n",
       "                        <td id=\"T_957e7_row3_col14\" class=\"data row3 col14\" >-0.021018</td>\n",
       "            </tr>\n",
       "            <tr>\n",
       "                        <th id=\"T_957e7_level0_row4\" class=\"row_heading level0 row4\" >balance</th>\n",
       "                        <td id=\"T_957e7_row4_col0\" class=\"data row4 col0\" >0.005697</td>\n",
       "                        <td id=\"T_957e7_row4_col1\" class=\"data row4 col1\" >0.235191</td>\n",
       "                        <td id=\"T_957e7_row4_col2\" class=\"data row4 col2\" >0.070075</td>\n",
       "                        <td id=\"T_957e7_row4_col3\" class=\"data row4 col3\" >0.163711</td>\n",
       "                        <td id=\"T_957e7_row4_col4\" class=\"data row4 col4\" >1.000000</td>\n",
       "                        <td id=\"T_957e7_row4_col5\" class=\"data row4 col5\" >0.075829</td>\n",
       "                        <td id=\"T_957e7_row4_col6\" class=\"data row4 col6\" >-0.059870</td>\n",
       "                        <td id=\"T_957e7_row4_col7\" class=\"data row4 col7\" >0.024767</td>\n",
       "                        <td id=\"T_957e7_row4_col8\" class=\"data row4 col8\" >0.338839</td>\n",
       "                        <td id=\"T_957e7_row4_col9\" class=\"data row4 col9\" >0.085698</td>\n",
       "                        <td id=\"T_957e7_row4_col10\" class=\"data row4 col10\" >-0.035868</td>\n",
       "                        <td id=\"T_957e7_row4_col11\" class=\"data row4 col11\" >-0.034056</td>\n",
       "                        <td id=\"T_957e7_row4_col12\" class=\"data row4 col12\" >0.056816</td>\n",
       "                        <td id=\"T_957e7_row4_col13\" class=\"data row4 col13\" >-0.051473</td>\n",
       "                        <td id=\"T_957e7_row4_col14\" class=\"data row4 col14\" >0.051473</td>\n",
       "            </tr>\n",
       "            <tr>\n",
       "                        <th id=\"T_957e7_level0_row5\" class=\"row_heading level0 row5\" >products</th>\n",
       "                        <td id=\"T_957e7_row5_col0\" class=\"data row5 col0\" >-0.004377</td>\n",
       "                        <td id=\"T_957e7_row5_col1\" class=\"data row5 col1\" >-0.003873</td>\n",
       "                        <td id=\"T_957e7_row5_col2\" class=\"data row5 col2\" >0.016862</td>\n",
       "                        <td id=\"T_957e7_row5_col3\" class=\"data row5 col3\" >0.431099</td>\n",
       "                        <td id=\"T_957e7_row5_col4\" class=\"data row5 col4\" >0.075829</td>\n",
       "                        <td id=\"T_957e7_row5_col5\" class=\"data row5 col5\" >1.000000</td>\n",
       "                        <td id=\"T_957e7_row5_col6\" class=\"data row5 col6\" >-0.251698</td>\n",
       "                        <td id=\"T_957e7_row5_col7\" class=\"data row5 col7\" >0.038480</td>\n",
       "                        <td id=\"T_957e7_row5_col8\" class=\"data row5 col8\" >-0.117074</td>\n",
       "                        <td id=\"T_957e7_row5_col9\" class=\"data row5 col9\" >0.301393</td>\n",
       "                        <td id=\"T_957e7_row5_col10\" class=\"data row5 col10\" >-0.006924</td>\n",
       "                        <td id=\"T_957e7_row5_col11\" class=\"data row5 col11\" >-0.044249</td>\n",
       "                        <td id=\"T_957e7_row5_col12\" class=\"data row5 col12\" >0.044741</td>\n",
       "                        <td id=\"T_957e7_row5_col13\" class=\"data row5 col13\" >0.021960</td>\n",
       "                        <td id=\"T_957e7_row5_col14\" class=\"data row5 col14\" >-0.021960</td>\n",
       "            </tr>\n",
       "            <tr>\n",
       "                        <th id=\"T_957e7_level0_row6\" class=\"row_heading level0 row6\" >credit_card</th>\n",
       "                        <td id=\"T_957e7_row6_col0\" class=\"data row6 col0\" >0.004045</td>\n",
       "                        <td id=\"T_957e7_row6_col1\" class=\"data row6 col1\" >-0.095938</td>\n",
       "                        <td id=\"T_957e7_row6_col2\" class=\"data row6 col2\" >-0.123113</td>\n",
       "                        <td id=\"T_957e7_row6_col3\" class=\"data row6 col3\" >-0.167460</td>\n",
       "                        <td id=\"T_957e7_row6_col4\" class=\"data row6 col4\" >-0.059870</td>\n",
       "                        <td id=\"T_957e7_row6_col5\" class=\"data row6 col5\" >-0.251698</td>\n",
       "                        <td id=\"T_957e7_row6_col6\" class=\"data row6 col6\" >1.000000</td>\n",
       "                        <td id=\"T_957e7_row6_col7\" class=\"data row6 col7\" >-0.033492</td>\n",
       "                        <td id=\"T_957e7_row6_col8\" class=\"data row6 col8\" >0.036183</td>\n",
       "                        <td id=\"T_957e7_row6_col9\" class=\"data row6 col9\" >-0.130649</td>\n",
       "                        <td id=\"T_957e7_row6_col10\" class=\"data row6 col10\" >-0.098169</td>\n",
       "                        <td id=\"T_957e7_row6_col11\" class=\"data row6 col11\" >-0.050833</td>\n",
       "                        <td id=\"T_957e7_row6_col12\" class=\"data row6 col12\" >0.115553</td>\n",
       "                        <td id=\"T_957e7_row6_col13\" class=\"data row6 col13\" >-0.126264</td>\n",
       "                        <td id=\"T_957e7_row6_col14\" class=\"data row6 col14\" >0.126264</td>\n",
       "            </tr>\n",
       "            <tr>\n",
       "                        <th id=\"T_957e7_level0_row7\" class=\"row_heading level0 row7\" >last_activity</th>\n",
       "                        <td id=\"T_957e7_row7_col0\" class=\"data row7 col0\" >-0.031956</td>\n",
       "                        <td id=\"T_957e7_row7_col1\" class=\"data row7 col1\" >-0.030659</td>\n",
       "                        <td id=\"T_957e7_row7_col2\" class=\"data row7 col2\" >-0.008697</td>\n",
       "                        <td id=\"T_957e7_row7_col3\" class=\"data row7 col3\" >-0.001513</td>\n",
       "                        <td id=\"T_957e7_row7_col4\" class=\"data row7 col4\" >0.024767</td>\n",
       "                        <td id=\"T_957e7_row7_col5\" class=\"data row7 col5\" >0.038480</td>\n",
       "                        <td id=\"T_957e7_row7_col6\" class=\"data row7 col6\" >-0.033492</td>\n",
       "                        <td id=\"T_957e7_row7_col7\" class=\"data row7 col7\" >1.000000</td>\n",
       "                        <td id=\"T_957e7_row7_col8\" class=\"data row7 col8\" >0.002307</td>\n",
       "                        <td id=\"T_957e7_row7_col9\" class=\"data row7 col9\" >0.169514</td>\n",
       "                        <td id=\"T_957e7_row7_col10\" class=\"data row7 col10\" >0.006902</td>\n",
       "                        <td id=\"T_957e7_row7_col11\" class=\"data row7 col11\" >0.049513</td>\n",
       "                        <td id=\"T_957e7_row7_col12\" class=\"data row7 col12\" >-0.049463</td>\n",
       "                        <td id=\"T_957e7_row7_col13\" class=\"data row7 col13\" >0.013296</td>\n",
       "                        <td id=\"T_957e7_row7_col14\" class=\"data row7 col14\" >-0.013296</td>\n",
       "            </tr>\n",
       "            <tr>\n",
       "                        <th id=\"T_957e7_level0_row8\" class=\"row_heading level0 row8\" >est_salary</th>\n",
       "                        <td id=\"T_957e7_row8_col0\" class=\"data row8 col0\" >-0.000975</td>\n",
       "                        <td id=\"T_957e7_row8_col1\" class=\"data row8 col1\" >0.164474</td>\n",
       "                        <td id=\"T_957e7_row8_col2\" class=\"data row8 col2\" >-0.039372</td>\n",
       "                        <td id=\"T_957e7_row8_col3\" class=\"data row8 col3\" >-0.171375</td>\n",
       "                        <td id=\"T_957e7_row8_col4\" class=\"data row8 col4\" >0.338839</td>\n",
       "                        <td id=\"T_957e7_row8_col5\" class=\"data row8 col5\" >-0.117074</td>\n",
       "                        <td id=\"T_957e7_row8_col6\" class=\"data row8 col6\" >0.036183</td>\n",
       "                        <td id=\"T_957e7_row8_col7\" class=\"data row8 col7\" >0.002307</td>\n",
       "                        <td id=\"T_957e7_row8_col8\" class=\"data row8 col8\" >1.000000</td>\n",
       "                        <td id=\"T_957e7_row8_col9\" class=\"data row8 col9\" >0.001371</td>\n",
       "                        <td id=\"T_957e7_row8_col10\" class=\"data row8 col10\" >-0.106472</td>\n",
       "                        <td id=\"T_957e7_row8_col11\" class=\"data row8 col11\" >-0.055390</td>\n",
       "                        <td id=\"T_957e7_row8_col12\" class=\"data row8 col12\" >0.125558</td>\n",
       "                        <td id=\"T_957e7_row8_col13\" class=\"data row8 col13\" >-0.081323</td>\n",
       "                        <td id=\"T_957e7_row8_col14\" class=\"data row8 col14\" >0.081323</td>\n",
       "            </tr>\n",
       "            <tr>\n",
       "                        <th id=\"T_957e7_level0_row9\" class=\"row_heading level0 row9\" >churn</th>\n",
       "                        <td id=\"T_957e7_row9_col0\" class=\"data row9 col0\" >-0.010565</td>\n",
       "                        <td id=\"T_957e7_row9_col1\" class=\"data row9 col1\" >0.106377</td>\n",
       "                        <td id=\"T_957e7_row9_col2\" class=\"data row9 col2\" >-0.049763</td>\n",
       "                        <td id=\"T_957e7_row9_col3\" class=\"data row9 col3\" >0.270195</td>\n",
       "                        <td id=\"T_957e7_row9_col4\" class=\"data row9 col4\" >0.085698</td>\n",
       "                        <td id=\"T_957e7_row9_col5\" class=\"data row9 col5\" >0.301393</td>\n",
       "                        <td id=\"T_957e7_row9_col6\" class=\"data row9 col6\" >-0.130649</td>\n",
       "                        <td id=\"T_957e7_row9_col7\" class=\"data row9 col7\" >0.169514</td>\n",
       "                        <td id=\"T_957e7_row9_col8\" class=\"data row9 col8\" >0.001371</td>\n",
       "                        <td id=\"T_957e7_row9_col9\" class=\"data row9 col9\" >1.000000</td>\n",
       "                        <td id=\"T_957e7_row9_col10\" class=\"data row9 col10\" >0.004044</td>\n",
       "                        <td id=\"T_957e7_row9_col11\" class=\"data row9 col11\" >-0.029028</td>\n",
       "                        <td id=\"T_957e7_row9_col12\" class=\"data row9 col12\" >0.023244</td>\n",
       "                        <td id=\"T_957e7_row9_col13\" class=\"data row9 col13\" >-0.141658</td>\n",
       "                        <td id=\"T_957e7_row9_col14\" class=\"data row9 col14\" >0.141658</td>\n",
       "            </tr>\n",
       "            <tr>\n",
       "                        <th id=\"T_957e7_level0_row10\" class=\"row_heading level0 row10\" >city_Ростов</th>\n",
       "                        <td id=\"T_957e7_row10_col0\" class=\"data row10 col0\" >-0.032541</td>\n",
       "                        <td id=\"T_957e7_row10_col1\" class=\"data row10 col1\" >-0.037995</td>\n",
       "                        <td id=\"T_957e7_row10_col2\" class=\"data row10 col2\" >0.047312</td>\n",
       "                        <td id=\"T_957e7_row10_col3\" class=\"data row10 col3\" >0.034771</td>\n",
       "                        <td id=\"T_957e7_row10_col4\" class=\"data row10 col4\" >-0.035868</td>\n",
       "                        <td id=\"T_957e7_row10_col5\" class=\"data row10 col5\" >-0.006924</td>\n",
       "                        <td id=\"T_957e7_row10_col6\" class=\"data row10 col6\" >-0.098169</td>\n",
       "                        <td id=\"T_957e7_row10_col7\" class=\"data row10 col7\" >0.006902</td>\n",
       "                        <td id=\"T_957e7_row10_col8\" class=\"data row10 col8\" >-0.106472</td>\n",
       "                        <td id=\"T_957e7_row10_col9\" class=\"data row10 col9\" >0.004044</td>\n",
       "                        <td id=\"T_957e7_row10_col10\" class=\"data row10 col10\" >1.000000</td>\n",
       "                        <td id=\"T_957e7_row10_col11\" class=\"data row10 col11\" >-0.246459</td>\n",
       "                        <td id=\"T_957e7_row10_col12\" class=\"data row10 col12\" >-0.489357</td>\n",
       "                        <td id=\"T_957e7_row10_col13\" class=\"data row10 col13\" >0.015105</td>\n",
       "                        <td id=\"T_957e7_row10_col14\" class=\"data row10 col14\" >-0.015105</td>\n",
       "            </tr>\n",
       "            <tr>\n",
       "                        <th id=\"T_957e7_level0_row11\" class=\"row_heading level0 row11\" >city_Рыбинск</th>\n",
       "                        <td id=\"T_957e7_row11_col0\" class=\"data row11 col0\" >0.013026</td>\n",
       "                        <td id=\"T_957e7_row11_col1\" class=\"data row11 col1\" >-0.000334</td>\n",
       "                        <td id=\"T_957e7_row11_col2\" class=\"data row11 col2\" >0.028506</td>\n",
       "                        <td id=\"T_957e7_row11_col3\" class=\"data row11 col3\" >-0.003538</td>\n",
       "                        <td id=\"T_957e7_row11_col4\" class=\"data row11 col4\" >-0.034056</td>\n",
       "                        <td id=\"T_957e7_row11_col5\" class=\"data row11 col5\" >-0.044249</td>\n",
       "                        <td id=\"T_957e7_row11_col6\" class=\"data row11 col6\" >-0.050833</td>\n",
       "                        <td id=\"T_957e7_row11_col7\" class=\"data row11 col7\" >0.049513</td>\n",
       "                        <td id=\"T_957e7_row11_col8\" class=\"data row11 col8\" >-0.055390</td>\n",
       "                        <td id=\"T_957e7_row11_col9\" class=\"data row11 col9\" >-0.029028</td>\n",
       "                        <td id=\"T_957e7_row11_col10\" class=\"data row11 col10\" >-0.246459</td>\n",
       "                        <td id=\"T_957e7_row11_col11\" class=\"data row11 col11\" >1.000000</td>\n",
       "                        <td id=\"T_957e7_row11_col12\" class=\"data row11 col12\" >-0.724576</td>\n",
       "                        <td id=\"T_957e7_row11_col13\" class=\"data row11 col13\" >0.012192</td>\n",
       "                        <td id=\"T_957e7_row11_col14\" class=\"data row11 col14\" >-0.012192</td>\n",
       "            </tr>\n",
       "            <tr>\n",
       "                        <th id=\"T_957e7_level0_row12\" class=\"row_heading level0 row12\" >city_Ярославль</th>\n",
       "                        <td id=\"T_957e7_row12_col0\" class=\"data row12 col0\" >0.011419</td>\n",
       "                        <td id=\"T_957e7_row12_col1\" class=\"data row12 col1\" >0.027320</td>\n",
       "                        <td id=\"T_957e7_row12_col2\" class=\"data row12 col2\" >-0.059296</td>\n",
       "                        <td id=\"T_957e7_row12_col3\" class=\"data row12 col3\" >-0.021543</td>\n",
       "                        <td id=\"T_957e7_row12_col4\" class=\"data row12 col4\" >0.056816</td>\n",
       "                        <td id=\"T_957e7_row12_col5\" class=\"data row12 col5\" >0.044741</td>\n",
       "                        <td id=\"T_957e7_row12_col6\" class=\"data row12 col6\" >0.115553</td>\n",
       "                        <td id=\"T_957e7_row12_col7\" class=\"data row12 col7\" >-0.049463</td>\n",
       "                        <td id=\"T_957e7_row12_col8\" class=\"data row12 col8\" >0.125558</td>\n",
       "                        <td id=\"T_957e7_row12_col9\" class=\"data row12 col9\" >0.023244</td>\n",
       "                        <td id=\"T_957e7_row12_col10\" class=\"data row12 col10\" >-0.489357</td>\n",
       "                        <td id=\"T_957e7_row12_col11\" class=\"data row12 col11\" >-0.724576</td>\n",
       "                        <td id=\"T_957e7_row12_col12\" class=\"data row12 col12\" >1.000000</td>\n",
       "                        <td id=\"T_957e7_row12_col13\" class=\"data row12 col13\" >-0.021713</td>\n",
       "                        <td id=\"T_957e7_row12_col14\" class=\"data row12 col14\" >0.021713</td>\n",
       "            </tr>\n",
       "            <tr>\n",
       "                        <th id=\"T_957e7_level0_row13\" class=\"row_heading level0 row13\" >gender_Ж</th>\n",
       "                        <td id=\"T_957e7_row13_col0\" class=\"data row13 col0\" >-0.029848</td>\n",
       "                        <td id=\"T_957e7_row13_col1\" class=\"data row13 col1\" >-0.010566</td>\n",
       "                        <td id=\"T_957e7_row13_col2\" class=\"data row13 col2\" >0.212308</td>\n",
       "                        <td id=\"T_957e7_row13_col3\" class=\"data row13 col3\" >0.021018</td>\n",
       "                        <td id=\"T_957e7_row13_col4\" class=\"data row13 col4\" >-0.051473</td>\n",
       "                        <td id=\"T_957e7_row13_col5\" class=\"data row13 col5\" >0.021960</td>\n",
       "                        <td id=\"T_957e7_row13_col6\" class=\"data row13 col6\" >-0.126264</td>\n",
       "                        <td id=\"T_957e7_row13_col7\" class=\"data row13 col7\" >0.013296</td>\n",
       "                        <td id=\"T_957e7_row13_col8\" class=\"data row13 col8\" >-0.081323</td>\n",
       "                        <td id=\"T_957e7_row13_col9\" class=\"data row13 col9\" >-0.141658</td>\n",
       "                        <td id=\"T_957e7_row13_col10\" class=\"data row13 col10\" >0.015105</td>\n",
       "                        <td id=\"T_957e7_row13_col11\" class=\"data row13 col11\" >0.012192</td>\n",
       "                        <td id=\"T_957e7_row13_col12\" class=\"data row13 col12\" >-0.021713</td>\n",
       "                        <td id=\"T_957e7_row13_col13\" class=\"data row13 col13\" >1.000000</td>\n",
       "                        <td id=\"T_957e7_row13_col14\" class=\"data row13 col14\" >-1.000000</td>\n",
       "            </tr>\n",
       "            <tr>\n",
       "                        <th id=\"T_957e7_level0_row14\" class=\"row_heading level0 row14\" >gender_М</th>\n",
       "                        <td id=\"T_957e7_row14_col0\" class=\"data row14 col0\" >0.029848</td>\n",
       "                        <td id=\"T_957e7_row14_col1\" class=\"data row14 col1\" >0.010566</td>\n",
       "                        <td id=\"T_957e7_row14_col2\" class=\"data row14 col2\" >-0.212308</td>\n",
       "                        <td id=\"T_957e7_row14_col3\" class=\"data row14 col3\" >-0.021018</td>\n",
       "                        <td id=\"T_957e7_row14_col4\" class=\"data row14 col4\" >0.051473</td>\n",
       "                        <td id=\"T_957e7_row14_col5\" class=\"data row14 col5\" >-0.021960</td>\n",
       "                        <td id=\"T_957e7_row14_col6\" class=\"data row14 col6\" >0.126264</td>\n",
       "                        <td id=\"T_957e7_row14_col7\" class=\"data row14 col7\" >-0.013296</td>\n",
       "                        <td id=\"T_957e7_row14_col8\" class=\"data row14 col8\" >0.081323</td>\n",
       "                        <td id=\"T_957e7_row14_col9\" class=\"data row14 col9\" >0.141658</td>\n",
       "                        <td id=\"T_957e7_row14_col10\" class=\"data row14 col10\" >-0.015105</td>\n",
       "                        <td id=\"T_957e7_row14_col11\" class=\"data row14 col11\" >-0.012192</td>\n",
       "                        <td id=\"T_957e7_row14_col12\" class=\"data row14 col12\" >0.021713</td>\n",
       "                        <td id=\"T_957e7_row14_col13\" class=\"data row14 col13\" >-1.000000</td>\n",
       "                        <td id=\"T_957e7_row14_col14\" class=\"data row14 col14\" >1.000000</td>\n",
       "            </tr>\n",
       "    </tbody></table>"
      ],
      "text/plain": [
       "<pandas.io.formats.style.Styler at 0x7f5e3b00f820>"
      ]
     },
     "execution_count": 26,
     "metadata": {},
     "output_type": "execute_result"
    }
   ],
   "source": [
    "corr = df.corr()\n",
    "\n",
    "corr.style.background_gradient(cmap='coolwarm')"
   ]
  },
  {
   "cell_type": "markdown",
   "metadata": {},
   "source": [
    "Наиболее корреллирующие с `churn` столбцы - `products`, `equity`, `last_activity` и `gender_М`. Вооружившись этой информацией, изучим распределения по данным параметрам в разрезе отточности."
   ]
  },
  {
   "cell_type": "markdown",
   "metadata": {},
   "source": [
    "### Распределения в разрезе отточности"
   ]
  },
  {
   "cell_type": "code",
   "execution_count": 27,
   "metadata": {},
   "outputs": [
    {
     "data": {
      "image/png": "[encoded data removed]",
      "text/plain": [
       "<Figure size 864x648 with 1 Axes>"
      ]
     },
     "metadata": {},
     "output_type": "display_data"
    }
   ],
   "source": [
    "sns.set(rc={'figure.figsize':(12,9)})\n",
    "fig = sns.histplot(data=df, x=\"products\", hue=\"churn\", bins=4, stat=\"density\", common_norm=False);\n",
    "fig.set(xlabel='Количество продуктов банка', ylabel='Количество клиентов', \n",
    "        title='Распределение клиентов в разрезе отточности');"
   ]
  },
  {
   "cell_type": "markdown",
   "metadata": {},
   "source": [
    "Наиболее высокая отточность наблюдается среди клиентов с **2 - 4 продуктами**."
   ]
  },
  {
   "cell_type": "code",
   "execution_count": 28,
   "metadata": {},
   "outputs": [
    {
     "data": {
      "image/png": "[encoded data removed]",
      "text/plain": [
       "<Figure size 864x648 with 1 Axes>"
      ]
     },
     "metadata": {},
     "output_type": "display_data"
    }
   ],
   "source": [
    "fig = sns.histplot(data=df, x=\"equity\", hue=\"churn\", bins=10, stat=\"density\", common_norm=False);\n",
    "fig.set(xlabel='Оценка собственности', ylabel='Количество клиентов',\n",
    "        title='Распределение клиентов в разрезе отточности');"
   ]
  },
  {
   "cell_type": "markdown",
   "metadata": {},
   "source": [
    "Наиболее высок отток среди клиентов с оценкой собственности **от 3 баллов**."
   ]
  },
  {
   "cell_type": "code",
   "execution_count": 29,
   "metadata": {},
   "outputs": [
    {
     "data": {
      "image/png": "[encoded data removed]",
      "text/plain": [
       "<Figure size 864x648 with 1 Axes>"
      ]
     },
     "metadata": {},
     "output_type": "display_data"
    }
   ],
   "source": [
    "fig = sns.histplot(data=df, x=\"gender\", hue=\"churn\", stat=\"density\", common_norm=False);\n",
    "fig.set(xlabel='Пол', ylabel='Количество клиентов', title='Распределение клиентов в разрезе отточности');"
   ]
  },
  {
   "cell_type": "markdown",
   "metadata": {},
   "source": [
    "Среди **мужчин** доля отточных клиентов **выше**, чем среди женщин."
   ]
  },
  {
   "cell_type": "code",
   "execution_count": 30,
   "metadata": {},
   "outputs": [
    {
     "data": {
      "image/png": "[encoded data removed]",
      "text/plain": [
       "<Figure size 864x648 with 1 Axes>"
      ]
     },
     "metadata": {},
     "output_type": "display_data"
    }
   ],
   "source": [
    "fig = sns.histplot(data=df, x=\"last_activity\", hue=\"churn\", bins=10, stat=\"density\", common_norm=False);\n",
    "fig.set(xlabel='Активный клиент?', ylabel='Количество клиентов', \n",
    "        title='Распределение клиентов в разрезе отточности');"
   ]
  },
  {
   "cell_type": "markdown",
   "metadata": {},
   "source": [
    "Доля отточных клиентов выше среди **активных клиентов**."
   ]
  },
  {
   "cell_type": "code",
   "execution_count": 31,
   "metadata": {},
   "outputs": [
    {
     "data": {
      "image/png": "[encoded data removed]",
      "text/plain": [
       "<Figure size 864x648 with 1 Axes>"
      ]
     },
     "metadata": {},
     "output_type": "display_data"
    }
   ],
   "source": [
    "fig = sns.histplot(data=df.query('balance < 3000000'), x=\"balance\", hue=\"churn\",\n",
    "                   stat=\"density\", common_norm=False);\n",
    "fig.set(xlabel='Баланс', ylabel='Количество клиентов', title='Распределение клиентов в разрезе отточности');"
   ]
  },
  {
   "cell_type": "markdown",
   "metadata": {},
   "source": [
    "Процент отточных среди клиентов **с балансом более 750 тыс.** очень велик."
   ]
  },
  {
   "cell_type": "code",
   "execution_count": 32,
   "metadata": {},
   "outputs": [
    {
     "data": {
      "image/png": "[encoded data removed]",
      "text/plain": [
       "<Figure size 864x648 with 1 Axes>"
      ]
     },
     "metadata": {},
     "output_type": "display_data"
    }
   ],
   "source": [
    "fig = sns.histplot(data=df, x=\"score\", hue=\"churn\", stat=\"density\", common_norm=False);\n",
    "fig.set(xlabel='Баллы скоринга', ylabel='Количество клиентов', \n",
    "        title='Распределение клиентов в разрезе отточности');"
   ]
  },
  {
   "cell_type": "markdown",
   "metadata": {},
   "source": [
    "Наблюдается повышенная отточность среди клиентов со скорингом **от 825 до 940 баллов**."
   ]
  },
  {
   "cell_type": "code",
   "execution_count": 33,
   "metadata": {},
   "outputs": [
    {
     "data": {
      "image/png": "[encoded data removed]",
      "text/plain": [
       "<Figure size 864x648 with 1 Axes>"
      ]
     },
     "metadata": {},
     "output_type": "display_data"
    }
   ],
   "source": [
    "fig = sns.histplot(data=df, x=\"age\", hue=\"churn\", stat=\"density\", common_norm=False);\n",
    "fig.set(xlabel='Возраст', ylabel='Количество клиентов', \n",
    "        title='Распределение клиентов в разрезе отточности');"
   ]
  },
  {
   "cell_type": "markdown",
   "metadata": {},
   "source": [
    "В распределении по возрасту в разрезе отточности выделяются категории **с 25 до 35 лет** и с **50 до 60 лет**."
   ]
  },
  {
   "cell_type": "code",
   "execution_count": 34,
   "metadata": {},
   "outputs": [
    {
     "data": {
      "image/png": "[encoded data removed]",
      "text/plain": [
       "<Figure size 864x648 with 1 Axes>"
      ]
     },
     "metadata": {},
     "output_type": "display_data"
    }
   ],
   "source": [
    "fig = sns.histplot(data=df.query('est_salary<600000'), x=\"est_salary\", hue=\"churn\",\n",
    "                   stat=\"density\", common_norm=False);\n",
    "fig.set(xlabel='Зарплата', ylabel='Количество клиентов', \n",
    "        title='Распределение клиентов в разрезе отточности');"
   ]
  },
  {
   "cell_type": "markdown",
   "metadata": {},
   "source": [
    "В распределении заработной платы в разрезе отточности не наблюдается ничего необычного."
   ]
  },
  {
   "cell_type": "markdown",
   "metadata": {},
   "source": [
    "**Промежуточный вывод**: \n",
    "\n",
    "Наиболее высокая отточность наблюдается среди клиентов \n",
    "* с **2 - 4 продуктами**, \n",
    "* с оценкой собственности **от 3 баллов**, \n",
    "* среди **активных клиентов**, \n",
    "* среди клиентов **с балансом более 500 тыс.**, \n",
    "* со скорингом **от 825 до 940 баллов**. \n",
    "\n",
    "В распределении по возрасту в разрезе отточности выделяются категории **с 25 до 35 лет** и с **50 до 60 лет**. Среди **мужчин** доля отточных клиентов **выше**, чем среди женщин."
   ]
  },
  {
   "cell_type": "markdown",
   "metadata": {},
   "source": [
    "### Выделение сегментов"
   ]
  },
  {
   "cell_type": "markdown",
   "metadata": {},
   "source": [
    "Посчитаем % оттока по всему датасету, это пригодится, так как наши сегменты обязательно должны иметь % выше данного:"
   ]
  },
  {
   "cell_type": "code",
   "execution_count": 35,
   "metadata": {},
   "outputs": [
    {
     "data": {
      "text/plain": [
       "18.33"
      ]
     },
     "execution_count": 35,
     "metadata": {},
     "output_type": "execute_result"
    }
   ],
   "source": [
    "(df['churn'].sum()/df['churn'].count()*100).round(2)"
   ]
  },
  {
   "cell_type": "markdown",
   "metadata": {},
   "source": [
    "После изучения корелляций и распределений, для выделения сегментов в качестве приоритетных признаков были выбраны:\n",
    "- количество продуктов,\n",
    "- оценка собственности,\n",
    "- активность клиента,\n",
    "- скоринг.\n",
    "\n",
    "Были предложены следующие сегменты:\n",
    "- **Сегмент 1**:\n",
    "    - 2 и более продуктов,\n",
    "    - мужчины,\n",
    "    - баллов оценки собственности от 3.\n",
    "    \n",
    "- **Сегмент 2**:\n",
    "    - баланс от 500 тыс.,\n",
    "    - активные клиенты,\n",
    "    - город Ярославль.\n",
    "    \n",
    "- **Сегмент 3**:\n",
    "    - скоринг от 850 до 940,\n",
    "    - активные клиенты,\n",
    "    - 2 и более продуктов.\n",
    "\n",
    "- **Сегмент 4**:\n",
    "    - возраст от 50 до 60,\n",
    "    - 2 и более продуктов.\n",
    "    \n",
    "- **Сегмент 5**:\n",
    "    - возраст от 25 до 35,\n",
    "    - 2 и более продуктов."
   ]
  },
  {
   "cell_type": "markdown",
   "metadata": {},
   "source": [
    "Запишем в переменную первый сегмент, посчитаем его величину и отток."
   ]
  },
  {
   "cell_type": "code",
   "execution_count": 36,
   "metadata": {},
   "outputs": [],
   "source": [
    "segment1 = df.query('products >= 2 & gender==\"М\" & equity >=3')\n",
    "segment2 = df.query('city_Ярославль==1 & last_activity==1 & balance >=500000 ')\n",
    "segment3 = df.query('products >= 2 & last_activity==1 & score >=825 & score < 940')\n",
    "segment4 = df.query('age >= 50 & age <= 60 & products >=2')\n",
    "segment5 = df.query('age >= 25 & age <= 35 & products >=2')"
   ]
  },
  {
   "cell_type": "markdown",
   "metadata": {},
   "source": [
    "Запишем для удобства полученные данные в отдельный фрейм."
   ]
  },
  {
   "cell_type": "code",
   "execution_count": 37,
   "metadata": {},
   "outputs": [
    {
     "data": {
      "text/html": [
       "<div>\n",
       "<style scoped>\n",
       "    .dataframe tbody tr th:only-of-type {\n",
       "        vertical-align: middle;\n",
       "    }\n",
       "\n",
       "    .dataframe tbody tr th {\n",
       "        vertical-align: top;\n",
       "    }\n",
       "\n",
       "    .dataframe thead th {\n",
       "        text-align: right;\n",
       "    }\n",
       "</style>\n",
       "<table border=\"1\" class=\"dataframe\">\n",
       "  <thead>\n",
       "    <tr style=\"text-align: right;\">\n",
       "      <th></th>\n",
       "      <th>Номер сегмента</th>\n",
       "      <th>Количество клиентов</th>\n",
       "      <th>Отток сегмента</th>\n",
       "      <th>Описание сегмента</th>\n",
       "      <th>% оттока</th>\n",
       "    </tr>\n",
       "  </thead>\n",
       "  <tbody>\n",
       "    <tr>\n",
       "      <th>1</th>\n",
       "      <td>2</td>\n",
       "      <td>1178</td>\n",
       "      <td>552</td>\n",
       "      <td>500K&lt;=balance&lt;=3M, active, город Ярославль</td>\n",
       "      <td>46.86</td>\n",
       "    </tr>\n",
       "    <tr>\n",
       "      <th>2</th>\n",
       "      <td>3</td>\n",
       "      <td>1910</td>\n",
       "      <td>889</td>\n",
       "      <td>825&lt;=score&lt;=940, active, products&gt;=2</td>\n",
       "      <td>46.54</td>\n",
       "    </tr>\n",
       "    <tr>\n",
       "      <th>0</th>\n",
       "      <td>1</td>\n",
       "      <td>2240</td>\n",
       "      <td>854</td>\n",
       "      <td>products&gt;=2, мужчины, 5&lt;=equity</td>\n",
       "      <td>38.12</td>\n",
       "    </tr>\n",
       "    <tr>\n",
       "      <th>3</th>\n",
       "      <td>4</td>\n",
       "      <td>1252</td>\n",
       "      <td>415</td>\n",
       "      <td>возраст от 50 до 60, products&gt;=2</td>\n",
       "      <td>33.15</td>\n",
       "    </tr>\n",
       "    <tr>\n",
       "      <th>4</th>\n",
       "      <td>5</td>\n",
       "      <td>1999</td>\n",
       "      <td>578</td>\n",
       "      <td>возраст от 25 до 35, products&gt;=2</td>\n",
       "      <td>28.91</td>\n",
       "    </tr>\n",
       "  </tbody>\n",
       "</table>\n",
       "</div>"
      ],
      "text/plain": [
       "   Номер сегмента  Количество клиентов  Отток сегмента  \\\n",
       "1               2                 1178             552   \n",
       "2               3                 1910             889   \n",
       "0               1                 2240             854   \n",
       "3               4                 1252             415   \n",
       "4               5                 1999             578   \n",
       "\n",
       "                            Описание сегмента  % оттока  \n",
       "1  500K<=balance<=3M, active, город Ярославль     46.86  \n",
       "2        825<=score<=940, active, products>=2     46.54  \n",
       "0             products>=2, мужчины, 5<=equity     38.12  \n",
       "3            возраст от 50 до 60, products>=2     33.15  \n",
       "4            возраст от 25 до 35, products>=2     28.91  "
      ]
     },
     "execution_count": 37,
     "metadata": {},
     "output_type": "execute_result"
    }
   ],
   "source": [
    "s = {'Номер сегмента':[1,2,3,4,5],\n",
    "     'Количество клиентов':[segment1['churn'].count(),\n",
    "                            segment2['churn'].count(),\n",
    "                            segment3['churn'].count(),\n",
    "                            segment4['churn'].count(),\n",
    "                            segment5['churn'].count()\n",
    "                           ],\n",
    "     'Отток сегмента':[segment1['churn'].sum(),\n",
    "                            segment2['churn'].sum(),\n",
    "                            segment3['churn'].sum(),\n",
    "                            segment4['churn'].sum(),\n",
    "                            segment5['churn'].sum()\n",
    "                           ],\n",
    "    \n",
    "     'Описание сегмента':['products>=2, мужчины, 5<=equity',\n",
    "                         '500K<=balance<=3M, active, город Ярославль',\n",
    "                         '825<=score<=940, active, products>=2',\n",
    "                         'возраст от 50 до 60, products>=2',\n",
    "                         'возраст от 25 до 35, products>=2']\n",
    "    }\n",
    "segments = pd.DataFrame(data=s)\n",
    "segments['% оттока'] = (segments['Отток сегмента'] * 100 / segments['Количество клиентов']).round(2)\n",
    "segments.sort_values(by='% оттока', ascending=False)"
   ]
  },
  {
   "cell_type": "markdown",
   "metadata": {},
   "source": [
    "Как видно, по проценту оттока **лидирует сегмент 3**, за ним следует **сегмент 2**, затем сегмент 1 и т.д."
   ]
  },
  {
   "cell_type": "markdown",
   "metadata": {},
   "source": [
    "Соединим полученные сегменты в одну таблицу и отбросим дубликаты:"
   ]
  },
  {
   "cell_type": "code",
   "execution_count": 38,
   "metadata": {},
   "outputs": [],
   "source": [
    "res = pd.concat([segment1, segment2, segment3, segment4, segment5])\n",
    "res = res.drop_duplicates()"
   ]
  },
  {
   "cell_type": "markdown",
   "metadata": {},
   "source": [
    "Посчитаем количество уникальных клиентов, попавших в сегментацию:"
   ]
  },
  {
   "cell_type": "code",
   "execution_count": 39,
   "metadata": {},
   "outputs": [
    {
     "data": {
      "text/plain": [
       "5147"
      ]
     },
     "execution_count": 39,
     "metadata": {},
     "output_type": "execute_result"
    }
   ],
   "source": [
    "res['churn'].count()"
   ]
  },
  {
   "cell_type": "markdown",
   "metadata": {},
   "source": [
    "Также посчитаем общий отток по сегментам и в датасете."
   ]
  },
  {
   "cell_type": "code",
   "execution_count": 40,
   "metadata": {},
   "outputs": [
    {
     "data": {
      "text/plain": [
       "83.01"
      ]
     },
     "execution_count": 40,
     "metadata": {},
     "output_type": "execute_result"
    }
   ],
   "source": [
    "(res['churn'].sum()/df['churn'].sum()*100).round(2)"
   ]
  },
  {
   "cell_type": "markdown",
   "metadata": {},
   "source": [
    "**Вывод:** данная сегментация покрывает более 83% общего оттока, по оттоку лидирует **сегмент 2**, за ним следует **сегмент 3**, затем сегмент 1.\n",
    "\n",
    "**Рекомендация отделу маркетинга**\n",
    "\n",
    "При составлении антикризисного плана по уменьшению оттока клиентов обратить особое внимание на следующие категории клиентов:\n",
    "\n",
    "- активные клиенты с балансом от 500 тыс. из Ярославля,\n",
    "- активные клиенты со скорингом от 825 до 940 с 2 и более продуктами банка;\n",
    "- мужчины с оценкой собственности от 5 баллов и выше."
   ]
  },
  {
   "cell_type": "markdown",
   "metadata": {},
   "source": [
    "### Портрет отточного клиента"
   ]
  },
  {
   "cell_type": "markdown",
   "metadata": {},
   "source": [
    "Отточный пользователь представляет из себя:\n",
    "- мужчину,\n",
    "- с 2 продуктами банка и более,\n",
    "- с балансом более 500 тыс.,\n",
    "- со скорингом между 825 и 940,\n",
    "- с оценкой собственности от 5 баллов,\n",
    "- с индексом активности `1`,\n",
    "- от 50 до 60 лет."
   ]
  },
  {
   "cell_type": "markdown",
   "metadata": {},
   "source": [
    "## Проверка статистических гипотез"
   ]
  },
  {
   "cell_type": "markdown",
   "metadata": {},
   "source": [
    "Для проверки статистических гипотез был выбран **t-критерий Стьюдента**. \n",
    "\n",
    "Критерий Стьюдента используется, чтобы определить, являются ли средние значения двух групп статистически различными или нет. Стьюдент-критерий является параметрическим критерием, что означает, что он предполагает **нормальное распределение данных** и что точки данных **независимы** друг от друга."
   ]
  },
  {
   "cell_type": "markdown",
   "metadata": {},
   "source": [
    "### Гипотеза о различии дохода"
   ]
  },
  {
   "cell_type": "markdown",
   "metadata": {},
   "source": [
    "**Нулевая гипотеза:** между доходами оставшихся и ушедших клиентов есть статистически значимая разница.\n",
    "\n",
    "**Альтернативная гипотеза:** между доходами оставшихся и ушедших клиентов нет статистически значимой разницы.\n",
    "\n",
    "**alpha = 0,05**\n",
    "\n",
    "Используемый метод проверки: t-критерий Стьюдента"
   ]
  },
  {
   "cell_type": "code",
   "execution_count": 41,
   "metadata": {},
   "outputs": [
    {
     "name": "stdout",
     "output_type": "stream",
     "text": [
      "p-значение: 0.8807251940220459\n",
      "Не получилось отвергнуть нулевую гипотезу\n"
     ]
    }
   ],
   "source": [
    "alpha = .05 # критический уровень статистической значимости\n",
    "\n",
    "results = st.ttest_ind(\n",
    "    df.query('churn == 1')['est_salary'], \n",
    "    df.query('churn == 0')['est_salary'],\n",
    "    equal_var=False)\n",
    "\n",
    "print('p-значение:', results.pvalue)\n",
    "\n",
    "if results.pvalue < alpha:\n",
    "    print(\"Отвергаем нулевую гипотезу\")\n",
    "else:\n",
    "    print(\"Не получилось отвергнуть нулевую гипотезу\") "
   ]
  },
  {
   "cell_type": "markdown",
   "metadata": {},
   "source": [
    "**Вывод:** между доходами оставшихся и ушедших клиентов **есть статистически значимая разница**."
   ]
  },
  {
   "cell_type": "markdown",
   "metadata": {},
   "source": [
    "### Гипотеза о различии возраста"
   ]
  },
  {
   "cell_type": "markdown",
   "metadata": {},
   "source": [
    "**Нулевая гипотеза:** между возрастами оставшихся и ушедших клиентов есть статистически значимая разница.\n",
    "\n",
    "**Альтернативная гипотеза:** между возрастами оставшихся и ушедших клиентов нет статистически значимой разницы.\n",
    "\n",
    "**alpha = 0,05**\n",
    "\n",
    "Используемый метод проверки: t-критерий Стьюдента"
   ]
  },
  {
   "cell_type": "code",
   "execution_count": 42,
   "metadata": {},
   "outputs": [
    {
     "name": "stdout",
     "output_type": "stream",
     "text": [
      "p-значение: 1.2977165735936639e-07\n",
      "Отвергаем нулевую гипотезу\n"
     ]
    }
   ],
   "source": [
    "alpha = .05 # критический уровень статистической значимости\n",
    "\n",
    "results = st.ttest_ind(\n",
    "    df.query('churn == 1')['age'], \n",
    "    df.query('churn == 0')['age'],\n",
    "    equal_var=False)\n",
    "\n",
    "print('p-значение:', results.pvalue)\n",
    "\n",
    "if results.pvalue < alpha:\n",
    "    print(\"Отвергаем нулевую гипотезу\")\n",
    "else:\n",
    "    print(\"Не получилось отвергнуть нулевую гипотезу\") "
   ]
  },
  {
   "cell_type": "markdown",
   "metadata": {},
   "source": [
    "**Вывод:** между возрастами оставшихся и ушедших клиентов **нет статистически значимой разницы**."
   ]
  },
  {
   "cell_type": "markdown",
   "metadata": {},
   "source": [
    "## Общий вывод"
   ]
  },
  {
   "cell_type": "markdown",
   "metadata": {},
   "source": [
    "В ходе исследования была поизведена предобработка данных, исследовательский анализ, сегментация клиентов и проверка статистических гипотез относительно **оттока клиентов** банка **\"Метанпром\"**.\n",
    "\n",
    "Наиболее корреллирующие с `churn` столбцы - `products`, `equity`, `last_activity` и `gender_М`. \n",
    "\n",
    "Наиболее высокая отточность наблюдается среди клиентов \n",
    "* с **2 - 4 продуктами**, \n",
    "* с оценкой собственности **от 5 баллов**, \n",
    "* среди **активных клиентов**, \n",
    "* среди клиентов **с балансом более 500 тыс.**, \n",
    "* со скорингом **от 825 до 940 баллов**. \n",
    "\n",
    "В распределении по возрасту в разрезе отточности выделяются категории **с 25 до 35 лет** и с **50 до 60 лет**. Среди **мужчин** доля отточных клиентов **выше**, чем среди женщин.\n",
    "\n",
    "После изучения корелляций и распределений, для выделения сегментов в качестве приоритетных признаков были выбраны:\n",
    "- количество продуктов,\n",
    "- оценка собственности,\n",
    "- активность клиента,\n",
    "- скоринг.\n",
    "\n",
    "Были предложены следующие сегменты:\n",
    "- **Сегмент 1**:\n",
    "    - 2 и более продуктов,\n",
    "    - мужчины,\n",
    "    - баллов оценки собственности от 5.\n",
    "    \n",
    "- **Сегмент 2**:\n",
    "    - баланс от 500 тыс.,\n",
    "    - активные клиенты,\n",
    "    - город Ярославль.\n",
    "    \n",
    "- **Сегмент 3**:\n",
    "    - скоринг от 850 до 940,\n",
    "    - активные клиенты,\n",
    "    - 2 и более продуктов.\n",
    "\n",
    "- **Сегмент 4**:\n",
    "    - возраст от 50 до 60,\n",
    "    - 2 и более продуктов.\n",
    "    \n",
    "- **Сегмент 5**:\n",
    "    - возраст от 25 до 35,\n",
    "    - 2 и более продуктов.\n",
    "    \n",
    "В результате выяснилось, что данная сегментация покрывает более 83% общего оттока, по оттоку лидирует **сегмент 2**, за ним следует **сегмент 3**, затем сегмент 1.\n",
    "\n",
    "Также была составлена следующая **рекомендация отделу маркетинга**:\n",
    "\n",
    "При составлении антикризисного плана по уменьшению оттока клиентов обратить особое внимание на следующие категории клиентов:\n",
    "\n",
    "- активные клиенты с балансом от 500 тыс. из Ярославля,\n",
    "- активные клиенты со скорингом от 825 до 940 с 2 и более продуктами банка;\n",
    "- мужчины с оценкой собственности от 5 баллов и выше.\n",
    "\n",
    "Был составлен **портрет отточного пользователя**:\n",
    "\n",
    "Отточный пользователь представляет из себя:\n",
    "- мужчину,\n",
    "- с 2 продуктами банка и более,\n",
    "- с балансом более 500 тыс.,\n",
    "- со скорингом между 825 и 940,\n",
    "- с оценкой собственности от 5 баллов,\n",
    "- с индексом активности `1`,\n",
    "- от 50 до 60 лет.\n",
    "\n",
    "В результате **проверки статистических гипотез** выяснилось, что \n",
    "- между доходами оставшихся и ушедших клиентов **есть статистически значимая разница**, \n",
    "- между возрастами оставшихся и ушедших клиентов **нет статистически значимой разницы**."
   ]
  },
  {
   "cell_type": "markdown",
   "metadata": {},
   "source": [
    "# Дополнительные материалы"
   ]
  },
  {
   "cell_type": "markdown",
   "metadata": {},
   "source": [
    "<font size=4>[Презентация](https://disk.yandex.ru/i/rWCX3BjBQ0dlbw)</font>"
   ]
  }
 ],
 "metadata": {
  "ExecuteTimeLog": [
   {
    "duration": 102,
    "start_time": "2023-06-21T18:31:57.496Z"
   },
   {
    "duration": 1578,
    "start_time": "2023-06-21T18:44:29.044Z"
   },
   {
    "duration": 35,
    "start_time": "2023-06-21T18:44:40.954Z"
   },
   {
    "duration": 3,
    "start_time": "2023-06-21T18:52:24.401Z"
   },
   {
    "duration": 1026,
    "start_time": "2023-06-21T18:55:16.499Z"
   },
   {
    "duration": 909,
    "start_time": "2023-06-21T18:55:18.377Z"
   },
   {
    "duration": 22,
    "start_time": "2023-06-21T18:55:20.434Z"
   },
   {
    "duration": 12,
    "start_time": "2023-06-21T18:55:37.139Z"
   },
   {
    "duration": 13,
    "start_time": "2023-06-21T18:55:47.315Z"
   },
   {
    "duration": 3,
    "start_time": "2023-06-21T18:58:40.696Z"
   },
   {
    "duration": 1107,
    "start_time": "2023-06-21T18:58:53.248Z"
   },
   {
    "duration": 12,
    "start_time": "2023-06-21T18:58:56.031Z"
   },
   {
    "duration": 4,
    "start_time": "2023-06-21T19:04:54.603Z"
   },
   {
    "duration": 37,
    "start_time": "2023-06-21T19:04:57.835Z"
   },
   {
    "duration": 118,
    "start_time": "2023-06-21T19:09:10.135Z"
   },
   {
    "duration": 8,
    "start_time": "2023-06-21T19:09:18.698Z"
   },
   {
    "duration": 8,
    "start_time": "2023-06-21T19:16:41.767Z"
   },
   {
    "duration": 7,
    "start_time": "2023-06-21T19:16:48.435Z"
   },
   {
    "duration": 12,
    "start_time": "2023-06-21T19:21:08.987Z"
   },
   {
    "duration": 8,
    "start_time": "2023-06-21T19:21:14.802Z"
   },
   {
    "duration": 5,
    "start_time": "2023-06-21T19:23:12.543Z"
   },
   {
    "duration": 7,
    "start_time": "2023-06-21T19:23:27.938Z"
   },
   {
    "duration": 5,
    "start_time": "2023-06-21T19:23:37.991Z"
   },
   {
    "duration": 73,
    "start_time": "2023-06-21T19:24:28.354Z"
   },
   {
    "duration": 24,
    "start_time": "2023-06-21T19:24:32.294Z"
   },
   {
    "duration": 27,
    "start_time": "2023-06-21T19:24:59.297Z"
   },
   {
    "duration": 16,
    "start_time": "2023-06-21T19:26:33.087Z"
   },
   {
    "duration": 23,
    "start_time": "2023-06-21T19:28:58.238Z"
   },
   {
    "duration": 16,
    "start_time": "2023-06-21T19:29:10.398Z"
   },
   {
    "duration": 21,
    "start_time": "2023-06-21T19:30:24.289Z"
   },
   {
    "duration": 13,
    "start_time": "2023-06-21T19:30:34.729Z"
   },
   {
    "duration": 18,
    "start_time": "2023-06-21T19:32:48.941Z"
   },
   {
    "duration": 12,
    "start_time": "2023-06-21T19:33:16.785Z"
   },
   {
    "duration": 12,
    "start_time": "2023-06-21T19:33:51.470Z"
   },
   {
    "duration": 21,
    "start_time": "2023-06-21T19:39:17.693Z"
   },
   {
    "duration": 25,
    "start_time": "2023-06-21T19:40:17.184Z"
   },
   {
    "duration": 21,
    "start_time": "2023-06-21T19:40:25.487Z"
   },
   {
    "duration": 5,
    "start_time": "2023-06-21T19:40:31.242Z"
   },
   {
    "duration": 9,
    "start_time": "2023-06-21T19:40:41.196Z"
   },
   {
    "duration": 12,
    "start_time": "2023-06-21T19:52:03.530Z"
   },
   {
    "duration": 11,
    "start_time": "2023-06-21T19:52:11.298Z"
   },
   {
    "duration": 13,
    "start_time": "2023-06-21T19:52:14.418Z"
   },
   {
    "duration": 5,
    "start_time": "2023-06-21T19:52:21.868Z"
   },
   {
    "duration": 8,
    "start_time": "2023-06-21T19:52:25.618Z"
   },
   {
    "duration": 8181,
    "start_time": "2023-06-23T14:50:18.304Z"
   },
   {
    "duration": 1550,
    "start_time": "2023-06-23T15:04:18.546Z"
   },
   {
    "duration": 5853,
    "start_time": "2023-06-23T15:04:20.099Z"
   },
   {
    "duration": 25,
    "start_time": "2023-06-23T15:04:25.954Z"
   },
   {
    "duration": 42,
    "start_time": "2023-06-23T15:04:25.981Z"
   },
   {
    "duration": 8,
    "start_time": "2023-06-23T15:04:26.027Z"
   },
   {
    "duration": 48,
    "start_time": "2023-06-23T15:04:26.037Z"
   },
   {
    "duration": 47,
    "start_time": "2023-06-23T15:04:26.087Z"
   },
   {
    "duration": 24,
    "start_time": "2023-06-23T15:04:26.136Z"
   },
   {
    "duration": 30,
    "start_time": "2023-06-23T15:04:26.162Z"
   },
   {
    "duration": 37,
    "start_time": "2023-06-23T15:04:26.193Z"
   },
   {
    "duration": 11,
    "start_time": "2023-06-23T15:04:26.235Z"
   },
   {
    "duration": 24,
    "start_time": "2023-06-23T15:04:26.248Z"
   },
   {
    "duration": 29,
    "start_time": "2023-06-23T15:04:26.273Z"
   },
   {
    "duration": 18,
    "start_time": "2023-06-23T15:04:26.304Z"
   },
   {
    "duration": 1302,
    "start_time": "2023-06-23T15:08:10.054Z"
   },
   {
    "duration": 1138,
    "start_time": "2023-06-23T15:08:11.359Z"
   },
   {
    "duration": 17,
    "start_time": "2023-06-23T15:08:12.499Z"
   },
   {
    "duration": 22,
    "start_time": "2023-06-23T15:08:12.519Z"
   },
   {
    "duration": 4,
    "start_time": "2023-06-23T15:08:12.544Z"
   },
   {
    "duration": 38,
    "start_time": "2023-06-23T15:08:12.550Z"
   },
   {
    "duration": 33,
    "start_time": "2023-06-23T15:08:12.590Z"
   },
   {
    "duration": 22,
    "start_time": "2023-06-23T15:08:12.625Z"
   },
   {
    "duration": 6,
    "start_time": "2023-06-23T15:08:12.649Z"
   },
   {
    "duration": 9,
    "start_time": "2023-06-23T15:08:12.658Z"
   },
   {
    "duration": 6,
    "start_time": "2023-06-23T15:08:12.668Z"
   },
   {
    "duration": 41,
    "start_time": "2023-06-23T15:08:12.676Z"
   },
   {
    "duration": 15,
    "start_time": "2023-06-23T15:08:12.719Z"
   },
   {
    "duration": 8,
    "start_time": "2023-06-23T15:08:12.741Z"
   },
   {
    "duration": 13,
    "start_time": "2023-06-23T15:08:22.944Z"
   },
   {
    "duration": 178,
    "start_time": "2023-06-23T15:43:44.930Z"
   },
   {
    "duration": 164,
    "start_time": "2023-06-23T15:43:49.209Z"
   },
   {
    "duration": 8,
    "start_time": "2023-06-23T15:45:10.912Z"
   },
   {
    "duration": 130,
    "start_time": "2023-06-23T15:45:13.935Z"
   },
   {
    "duration": 7,
    "start_time": "2023-06-23T15:45:25.006Z"
   },
   {
    "duration": 138,
    "start_time": "2023-06-23T15:45:57.330Z"
   },
   {
    "duration": 114,
    "start_time": "2023-06-23T15:46:04.349Z"
   },
   {
    "duration": 97,
    "start_time": "2023-06-23T15:46:12.352Z"
   },
   {
    "duration": 5,
    "start_time": "2023-06-23T15:46:14.644Z"
   },
   {
    "duration": 7,
    "start_time": "2023-06-23T15:46:16.513Z"
   },
   {
    "duration": 87,
    "start_time": "2023-06-23T15:46:25.412Z"
   },
   {
    "duration": 7,
    "start_time": "2023-06-23T15:46:49.152Z"
   },
   {
    "duration": 152,
    "start_time": "2023-06-23T15:47:03.848Z"
   },
   {
    "duration": 137,
    "start_time": "2023-06-23T15:47:07.614Z"
   },
   {
    "duration": 316,
    "start_time": "2023-06-23T15:47:38.107Z"
   },
   {
    "duration": 132,
    "start_time": "2023-06-23T15:47:50.258Z"
   },
   {
    "duration": 148,
    "start_time": "2023-06-23T15:49:10.954Z"
   },
   {
    "duration": 176,
    "start_time": "2023-06-23T15:49:32.474Z"
   },
   {
    "duration": 156,
    "start_time": "2023-06-23T15:49:38.321Z"
   },
   {
    "duration": 150,
    "start_time": "2023-06-23T15:49:48.664Z"
   },
   {
    "duration": 155,
    "start_time": "2023-06-23T15:50:26.130Z"
   },
   {
    "duration": 155,
    "start_time": "2023-06-23T15:50:34.084Z"
   },
   {
    "duration": 131,
    "start_time": "2023-06-23T15:51:57.110Z"
   },
   {
    "duration": 142,
    "start_time": "2023-06-23T15:52:09.512Z"
   },
   {
    "duration": 129,
    "start_time": "2023-06-23T15:52:54.910Z"
   },
   {
    "duration": 229,
    "start_time": "2023-06-23T15:53:04.713Z"
   },
   {
    "duration": 126,
    "start_time": "2023-06-23T15:55:55.605Z"
   },
   {
    "duration": 11,
    "start_time": "2023-06-23T15:55:59.757Z"
   },
   {
    "duration": 16,
    "start_time": "2023-06-23T15:56:46.656Z"
   },
   {
    "duration": 71,
    "start_time": "2023-06-23T15:56:54.262Z"
   },
   {
    "duration": 15,
    "start_time": "2023-06-23T15:57:15.633Z"
   },
   {
    "duration": 14,
    "start_time": "2023-06-23T15:58:53.612Z"
   },
   {
    "duration": 12,
    "start_time": "2023-06-23T16:11:10.764Z"
   },
   {
    "duration": 52,
    "start_time": "2023-06-23T16:11:26.608Z"
   },
   {
    "duration": 28,
    "start_time": "2023-06-23T16:11:39.226Z"
   },
   {
    "duration": 4,
    "start_time": "2023-06-23T16:13:07.533Z"
   },
   {
    "duration": 1271,
    "start_time": "2023-06-23T16:13:13.036Z"
   },
   {
    "duration": 1046,
    "start_time": "2023-06-23T16:13:14.309Z"
   },
   {
    "duration": 25,
    "start_time": "2023-06-23T16:13:15.357Z"
   },
   {
    "duration": 14,
    "start_time": "2023-06-23T16:13:15.384Z"
   },
   {
    "duration": 19,
    "start_time": "2023-06-23T16:13:15.400Z"
   },
   {
    "duration": 22,
    "start_time": "2023-06-23T16:13:15.421Z"
   },
   {
    "duration": 44,
    "start_time": "2023-06-23T16:13:15.445Z"
   },
   {
    "duration": 17,
    "start_time": "2023-06-23T16:13:15.491Z"
   },
   {
    "duration": 35,
    "start_time": "2023-06-23T16:13:15.510Z"
   },
   {
    "duration": 23,
    "start_time": "2023-06-23T16:13:15.548Z"
   },
   {
    "duration": 17,
    "start_time": "2023-06-23T16:13:15.572Z"
   },
   {
    "duration": 18,
    "start_time": "2023-06-23T16:13:15.591Z"
   },
   {
    "duration": 21,
    "start_time": "2023-06-23T16:13:15.611Z"
   },
   {
    "duration": 19,
    "start_time": "2023-06-23T16:13:15.635Z"
   },
   {
    "duration": 43,
    "start_time": "2023-06-23T16:13:15.659Z"
   },
   {
    "duration": 258,
    "start_time": "2023-06-23T16:13:15.704Z"
   },
   {
    "duration": 8,
    "start_time": "2023-06-23T16:13:15.964Z"
   },
   {
    "duration": 9,
    "start_time": "2023-06-23T16:13:15.974Z"
   },
   {
    "duration": 170,
    "start_time": "2023-06-23T16:13:15.984Z"
   },
   {
    "duration": 134,
    "start_time": "2023-06-23T16:13:16.155Z"
   },
   {
    "duration": 152,
    "start_time": "2023-06-23T16:13:16.291Z"
   },
   {
    "duration": 4,
    "start_time": "2023-06-23T16:13:16.445Z"
   },
   {
    "duration": 100,
    "start_time": "2023-06-23T16:13:16.451Z"
   },
   {
    "duration": 10,
    "start_time": "2023-06-23T16:13:52.533Z"
   },
   {
    "duration": 132,
    "start_time": "2023-06-23T16:14:26.031Z"
   },
   {
    "duration": 1282,
    "start_time": "2023-06-23T16:14:31.009Z"
   },
   {
    "duration": 1217,
    "start_time": "2023-06-23T16:14:32.294Z"
   },
   {
    "duration": 22,
    "start_time": "2023-06-23T16:14:33.513Z"
   },
   {
    "duration": 57,
    "start_time": "2023-06-23T16:14:33.537Z"
   },
   {
    "duration": 27,
    "start_time": "2023-06-23T16:14:33.597Z"
   },
   {
    "duration": 34,
    "start_time": "2023-06-23T16:14:33.626Z"
   },
   {
    "duration": 37,
    "start_time": "2023-06-23T16:14:33.662Z"
   },
   {
    "duration": 16,
    "start_time": "2023-06-23T16:14:33.701Z"
   },
   {
    "duration": 30,
    "start_time": "2023-06-23T16:14:33.719Z"
   },
   {
    "duration": 30,
    "start_time": "2023-06-23T16:14:33.751Z"
   },
   {
    "duration": 35,
    "start_time": "2023-06-23T16:14:33.783Z"
   },
   {
    "duration": 25,
    "start_time": "2023-06-23T16:14:33.820Z"
   },
   {
    "duration": 30,
    "start_time": "2023-06-23T16:14:33.847Z"
   },
   {
    "duration": 22,
    "start_time": "2023-06-23T16:14:33.881Z"
   },
   {
    "duration": 24,
    "start_time": "2023-06-23T16:14:33.905Z"
   },
   {
    "duration": 211,
    "start_time": "2023-06-23T16:14:33.932Z"
   },
   {
    "duration": 9,
    "start_time": "2023-06-23T16:14:34.145Z"
   },
   {
    "duration": 34,
    "start_time": "2023-06-23T16:14:34.156Z"
   },
   {
    "duration": 166,
    "start_time": "2023-06-23T16:14:34.191Z"
   },
   {
    "duration": 136,
    "start_time": "2023-06-23T16:14:34.359Z"
   },
   {
    "duration": 138,
    "start_time": "2023-06-23T16:14:34.497Z"
   },
   {
    "duration": 8,
    "start_time": "2023-06-23T16:14:34.637Z"
   },
   {
    "duration": 32,
    "start_time": "2023-06-23T16:14:34.646Z"
   },
   {
    "duration": 132,
    "start_time": "2023-06-23T16:14:39.438Z"
   },
   {
    "duration": 23,
    "start_time": "2023-06-23T16:14:53.245Z"
   },
   {
    "duration": 1293,
    "start_time": "2023-06-23T16:17:36.303Z"
   },
   {
    "duration": 14,
    "start_time": "2023-06-23T16:18:41.549Z"
   },
   {
    "duration": 21,
    "start_time": "2023-06-23T16:19:59.868Z"
   },
   {
    "duration": 1114,
    "start_time": "2023-06-23T16:20:34.656Z"
   },
   {
    "duration": 939,
    "start_time": "2023-06-23T16:20:35.772Z"
   },
   {
    "duration": 19,
    "start_time": "2023-06-23T16:20:36.712Z"
   },
   {
    "duration": 20,
    "start_time": "2023-06-23T16:20:36.733Z"
   },
   {
    "duration": 4,
    "start_time": "2023-06-23T16:20:36.755Z"
   },
   {
    "duration": 21,
    "start_time": "2023-06-23T16:20:36.760Z"
   },
   {
    "duration": 51,
    "start_time": "2023-06-23T16:20:36.783Z"
   },
   {
    "duration": 13,
    "start_time": "2023-06-23T16:20:36.835Z"
   },
   {
    "duration": 17,
    "start_time": "2023-06-23T16:20:36.849Z"
   },
   {
    "duration": 15,
    "start_time": "2023-06-23T16:20:36.868Z"
   },
   {
    "duration": 14,
    "start_time": "2023-06-23T16:20:36.885Z"
   },
   {
    "duration": 19,
    "start_time": "2023-06-23T16:20:36.900Z"
   },
   {
    "duration": 8,
    "start_time": "2023-06-23T16:20:36.921Z"
   },
   {
    "duration": 11,
    "start_time": "2023-06-23T16:20:36.931Z"
   },
   {
    "duration": 15,
    "start_time": "2023-06-23T16:20:36.944Z"
   },
   {
    "duration": 183,
    "start_time": "2023-06-23T16:20:36.961Z"
   },
   {
    "duration": 8,
    "start_time": "2023-06-23T16:20:37.145Z"
   },
   {
    "duration": 8,
    "start_time": "2023-06-23T16:20:37.155Z"
   },
   {
    "duration": 148,
    "start_time": "2023-06-23T16:20:37.165Z"
   },
   {
    "duration": 140,
    "start_time": "2023-06-23T16:20:37.315Z"
   },
   {
    "duration": 120,
    "start_time": "2023-06-23T16:20:37.457Z"
   },
   {
    "duration": 6,
    "start_time": "2023-06-23T16:20:37.579Z"
   },
   {
    "duration": 28,
    "start_time": "2023-06-23T16:20:37.586Z"
   },
   {
    "duration": 19,
    "start_time": "2023-06-23T16:20:37.616Z"
   },
   {
    "duration": 118,
    "start_time": "2023-06-23T16:22:53.136Z"
   },
   {
    "duration": 127,
    "start_time": "2023-06-23T16:23:26.019Z"
   },
   {
    "duration": 62,
    "start_time": "2023-06-23T16:23:35.912Z"
   },
   {
    "duration": 21,
    "start_time": "2023-06-23T16:23:46.711Z"
   },
   {
    "duration": 32,
    "start_time": "2023-06-23T16:24:07.914Z"
   },
   {
    "duration": 49,
    "start_time": "2023-06-23T16:24:12.430Z"
   },
   {
    "duration": 99,
    "start_time": "2023-06-23T16:36:24.753Z"
   },
   {
    "duration": 658,
    "start_time": "2023-06-23T16:39:20.402Z"
   },
   {
    "duration": 179,
    "start_time": "2023-06-23T16:40:06.410Z"
   },
   {
    "duration": 173,
    "start_time": "2023-06-23T16:40:13.332Z"
   },
   {
    "duration": 216,
    "start_time": "2023-06-23T16:40:25.029Z"
   },
   {
    "duration": 105,
    "start_time": "2023-06-23T16:42:08.531Z"
   },
   {
    "duration": 102,
    "start_time": "2023-06-23T16:43:05.577Z"
   },
   {
    "duration": 128,
    "start_time": "2023-06-23T16:44:32.522Z"
   },
   {
    "duration": 106,
    "start_time": "2023-06-23T16:44:49.273Z"
   },
   {
    "duration": 122,
    "start_time": "2023-06-23T16:45:46.031Z"
   },
   {
    "duration": 189,
    "start_time": "2023-06-23T16:48:25.355Z"
   },
   {
    "duration": 71,
    "start_time": "2023-06-23T16:53:44.135Z"
   },
   {
    "duration": 9545,
    "start_time": "2023-06-23T16:56:13.756Z"
   },
   {
    "duration": 72,
    "start_time": "2023-06-23T16:57:07.238Z"
   },
   {
    "duration": 476,
    "start_time": "2023-06-23T16:57:17.207Z"
   },
   {
    "duration": 396,
    "start_time": "2023-06-23T16:57:27.706Z"
   },
   {
    "duration": 80,
    "start_time": "2023-06-23T16:57:54.637Z"
   },
   {
    "duration": 123,
    "start_time": "2023-06-23T16:58:25.248Z"
   },
   {
    "duration": 346,
    "start_time": "2023-06-23T16:58:38.108Z"
   },
   {
    "duration": 364,
    "start_time": "2023-06-23T16:59:29.154Z"
   },
   {
    "duration": 486,
    "start_time": "2023-06-23T17:00:17.277Z"
   },
   {
    "duration": 234,
    "start_time": "2023-06-23T17:01:46.677Z"
   },
   {
    "duration": 162,
    "start_time": "2023-06-23T17:03:04.056Z"
   },
   {
    "duration": 207,
    "start_time": "2023-06-23T17:03:14.838Z"
   },
   {
    "duration": 382,
    "start_time": "2023-06-23T17:03:21.795Z"
   },
   {
    "duration": 443,
    "start_time": "2023-06-23T17:04:04.643Z"
   },
   {
    "duration": 417,
    "start_time": "2023-06-23T17:04:22.094Z"
   },
   {
    "duration": 484,
    "start_time": "2023-06-23T17:05:18.552Z"
   },
   {
    "duration": 351,
    "start_time": "2023-06-23T17:05:53.137Z"
   },
   {
    "duration": 500,
    "start_time": "2023-06-23T17:08:11.040Z"
   },
   {
    "duration": 417,
    "start_time": "2023-06-23T17:09:11.609Z"
   },
   {
    "duration": 443,
    "start_time": "2023-06-23T17:09:40.556Z"
   },
   {
    "duration": 452,
    "start_time": "2023-06-23T17:11:02.841Z"
   },
   {
    "duration": 282,
    "start_time": "2023-06-23T17:13:31.796Z"
   },
   {
    "duration": 365,
    "start_time": "2023-06-23T17:19:20.856Z"
   },
   {
    "duration": 265,
    "start_time": "2023-06-23T17:19:46.203Z"
   },
   {
    "duration": 512,
    "start_time": "2023-06-23T17:19:57.365Z"
   },
   {
    "duration": 11,
    "start_time": "2023-06-23T17:34:35.699Z"
   },
   {
    "duration": 12,
    "start_time": "2023-06-23T17:35:08.039Z"
   },
   {
    "duration": 107,
    "start_time": "2023-06-23T17:35:17.036Z"
   },
   {
    "duration": 143,
    "start_time": "2023-06-23T17:35:26.810Z"
   },
   {
    "duration": 217,
    "start_time": "2023-06-23T17:43:07.407Z"
   },
   {
    "duration": 89,
    "start_time": "2023-06-23T17:45:17.485Z"
   },
   {
    "duration": 263,
    "start_time": "2023-06-23T17:45:29.734Z"
   },
   {
    "duration": 357,
    "start_time": "2023-06-23T17:46:07.918Z"
   },
   {
    "duration": 333,
    "start_time": "2023-06-23T17:46:16.245Z"
   },
   {
    "duration": 213,
    "start_time": "2023-06-23T17:46:20.994Z"
   },
   {
    "duration": 490,
    "start_time": "2023-06-23T17:46:38.158Z"
   },
   {
    "duration": 765,
    "start_time": "2023-06-23T17:47:17.497Z"
   },
   {
    "duration": 435,
    "start_time": "2023-06-23T17:47:24.851Z"
   },
   {
    "duration": 512,
    "start_time": "2023-06-23T17:47:54.026Z"
   },
   {
    "duration": 561,
    "start_time": "2023-06-23T17:48:01.703Z"
   },
   {
    "duration": 498,
    "start_time": "2023-06-23T17:48:06.278Z"
   },
   {
    "duration": 506,
    "start_time": "2023-06-23T17:48:11.123Z"
   },
   {
    "duration": 569,
    "start_time": "2023-06-23T17:48:19.468Z"
   },
   {
    "duration": 24,
    "start_time": "2023-06-23T18:16:43.584Z"
   },
   {
    "duration": 18,
    "start_time": "2023-06-23T18:17:13.109Z"
   },
   {
    "duration": 11,
    "start_time": "2023-06-23T18:20:22.267Z"
   },
   {
    "duration": 12,
    "start_time": "2023-06-23T18:25:45.058Z"
   },
   {
    "duration": 126,
    "start_time": "2023-06-23T18:27:59.623Z"
   },
   {
    "duration": 46,
    "start_time": "2023-06-23T18:28:07.139Z"
   },
   {
    "duration": 15,
    "start_time": "2023-06-23T18:28:25.200Z"
   },
   {
    "duration": 18,
    "start_time": "2023-06-23T18:28:42.140Z"
   },
   {
    "duration": 28,
    "start_time": "2023-06-23T18:28:53.008Z"
   },
   {
    "duration": 13,
    "start_time": "2023-06-23T18:28:58.561Z"
   },
   {
    "duration": 19,
    "start_time": "2023-06-23T18:29:21.512Z"
   },
   {
    "duration": 12,
    "start_time": "2023-06-23T18:30:56.053Z"
   },
   {
    "duration": 12,
    "start_time": "2023-06-23T18:31:09.764Z"
   },
   {
    "duration": 16,
    "start_time": "2023-06-23T18:31:26.136Z"
   },
   {
    "duration": 9,
    "start_time": "2023-06-23T18:31:28.856Z"
   },
   {
    "duration": 10,
    "start_time": "2023-06-23T18:38:02.840Z"
   },
   {
    "duration": 12,
    "start_time": "2023-06-23T18:38:04.257Z"
   },
   {
    "duration": 22,
    "start_time": "2023-06-23T18:38:43.814Z"
   },
   {
    "duration": 10,
    "start_time": "2023-06-23T18:38:44.560Z"
   },
   {
    "duration": 230,
    "start_time": "2023-06-23T18:41:29.110Z"
   },
   {
    "duration": 332,
    "start_time": "2023-06-23T18:41:51.662Z"
   },
   {
    "duration": 343,
    "start_time": "2023-06-23T18:42:34.941Z"
   },
   {
    "duration": 1335,
    "start_time": "2023-06-23T18:43:21.270Z"
   },
   {
    "duration": 1205,
    "start_time": "2023-06-23T18:43:22.607Z"
   },
   {
    "duration": 31,
    "start_time": "2023-06-23T18:43:23.818Z"
   },
   {
    "duration": 16,
    "start_time": "2023-06-23T18:43:23.851Z"
   },
   {
    "duration": 4,
    "start_time": "2023-06-23T18:43:23.869Z"
   },
   {
    "duration": 25,
    "start_time": "2023-06-23T18:43:23.875Z"
   },
   {
    "duration": 49,
    "start_time": "2023-06-23T18:43:23.902Z"
   },
   {
    "duration": 17,
    "start_time": "2023-06-23T18:43:23.956Z"
   },
   {
    "duration": 12,
    "start_time": "2023-06-23T18:43:23.976Z"
   },
   {
    "duration": 10,
    "start_time": "2023-06-23T18:43:23.992Z"
   },
   {
    "duration": 22,
    "start_time": "2023-06-23T18:43:24.004Z"
   },
   {
    "duration": 18,
    "start_time": "2023-06-23T18:43:24.033Z"
   },
   {
    "duration": 8,
    "start_time": "2023-06-23T18:43:24.055Z"
   },
   {
    "duration": 17,
    "start_time": "2023-06-23T18:43:24.065Z"
   },
   {
    "duration": 4,
    "start_time": "2023-06-23T18:43:24.084Z"
   },
   {
    "duration": 221,
    "start_time": "2023-06-23T18:43:24.090Z"
   },
   {
    "duration": 18,
    "start_time": "2023-06-23T18:43:24.318Z"
   },
   {
    "duration": 16,
    "start_time": "2023-06-23T18:43:24.337Z"
   },
   {
    "duration": 185,
    "start_time": "2023-06-23T18:43:24.355Z"
   },
   {
    "duration": 150,
    "start_time": "2023-06-23T18:43:24.542Z"
   },
   {
    "duration": 154,
    "start_time": "2023-06-23T18:43:24.695Z"
   },
   {
    "duration": 4,
    "start_time": "2023-06-23T18:43:24.851Z"
   },
   {
    "duration": 13,
    "start_time": "2023-06-23T18:43:24.857Z"
   },
   {
    "duration": 14,
    "start_time": "2023-06-23T18:43:24.872Z"
   },
   {
    "duration": 116,
    "start_time": "2023-06-23T18:43:24.888Z"
   },
   {
    "duration": 480,
    "start_time": "2023-06-23T18:43:25.006Z"
   },
   {
    "duration": 413,
    "start_time": "2023-06-23T18:43:25.487Z"
   },
   {
    "duration": 328,
    "start_time": "2023-06-23T18:43:25.903Z"
   },
   {
    "duration": 341,
    "start_time": "2023-06-23T18:43:26.233Z"
   },
   {
    "duration": 445,
    "start_time": "2023-06-23T18:43:26.576Z"
   },
   {
    "duration": 395,
    "start_time": "2023-06-23T18:43:27.032Z"
   },
   {
    "duration": 16,
    "start_time": "2023-06-23T18:43:27.433Z"
   },
   {
    "duration": 11,
    "start_time": "2023-06-23T18:43:27.450Z"
   },
   {
    "duration": 17,
    "start_time": "2023-06-23T18:43:27.462Z"
   },
   {
    "duration": 8,
    "start_time": "2023-06-23T18:43:27.481Z"
   },
   {
    "duration": 23,
    "start_time": "2023-06-23T18:43:27.491Z"
   },
   {
    "duration": 25,
    "start_time": "2023-06-23T18:43:27.520Z"
   },
   {
    "duration": 8,
    "start_time": "2023-06-23T18:45:06.879Z"
   },
   {
    "duration": 15,
    "start_time": "2023-06-23T18:45:21.336Z"
   },
   {
    "duration": 11,
    "start_time": "2023-06-23T18:48:41.536Z"
   },
   {
    "duration": 8,
    "start_time": "2023-06-23T18:48:56.172Z"
   },
   {
    "duration": 411,
    "start_time": "2023-06-23T18:51:25.673Z"
   },
   {
    "duration": 420,
    "start_time": "2023-06-23T18:52:04.610Z"
   },
   {
    "duration": 21,
    "start_time": "2023-06-23T18:53:12.448Z"
   },
   {
    "duration": 12,
    "start_time": "2023-06-23T18:53:21.141Z"
   },
   {
    "duration": 13,
    "start_time": "2023-06-23T18:53:46.233Z"
   },
   {
    "duration": 9,
    "start_time": "2023-06-23T18:53:56.698Z"
   },
   {
    "duration": 16,
    "start_time": "2023-06-23T18:53:59.718Z"
   },
   {
    "duration": 7,
    "start_time": "2023-06-23T18:56:49.059Z"
   },
   {
    "duration": 20,
    "start_time": "2023-06-23T18:57:12.336Z"
   },
   {
    "duration": 13,
    "start_time": "2023-06-23T18:57:29.137Z"
   },
   {
    "duration": 12,
    "start_time": "2023-06-23T18:58:13.680Z"
   },
   {
    "duration": 12,
    "start_time": "2023-06-23T18:58:59.898Z"
   },
   {
    "duration": 14,
    "start_time": "2023-06-23T18:59:06.432Z"
   },
   {
    "duration": 150,
    "start_time": "2023-06-23T19:06:01.825Z"
   },
   {
    "duration": 7,
    "start_time": "2023-06-23T19:06:13.210Z"
   },
   {
    "duration": 26,
    "start_time": "2023-06-23T19:06:21.810Z"
   },
   {
    "duration": 7,
    "start_time": "2023-06-23T19:07:48.734Z"
   },
   {
    "duration": 10,
    "start_time": "2023-06-23T19:07:55.342Z"
   },
   {
    "duration": 49694,
    "start_time": "2023-06-23T19:13:07.198Z"
   },
   {
    "duration": 8,
    "start_time": "2023-06-23T19:19:38.353Z"
   },
   {
    "duration": 8,
    "start_time": "2023-06-23T19:20:04.090Z"
   },
   {
    "duration": 7,
    "start_time": "2023-06-23T19:20:32.862Z"
   },
   {
    "duration": 13,
    "start_time": "2023-06-23T19:22:05.864Z"
   },
   {
    "duration": 6,
    "start_time": "2023-06-23T19:22:27.165Z"
   },
   {
    "duration": 26,
    "start_time": "2023-06-23T19:22:31.134Z"
   },
   {
    "duration": 6,
    "start_time": "2023-06-23T19:22:45.596Z"
   },
   {
    "duration": 402,
    "start_time": "2023-06-23T19:25:25.439Z"
   },
   {
    "duration": 10,
    "start_time": "2023-06-23T19:25:37.238Z"
   },
   {
    "duration": 85,
    "start_time": "2023-06-23T19:28:10.999Z"
   },
   {
    "duration": 9,
    "start_time": "2023-06-23T19:28:17.141Z"
   },
   {
    "duration": 12,
    "start_time": "2023-06-23T19:28:27.441Z"
   },
   {
    "duration": 8,
    "start_time": "2023-06-23T19:28:35.895Z"
   },
   {
    "duration": 13,
    "start_time": "2023-06-23T19:28:43.711Z"
   },
   {
    "duration": 13,
    "start_time": "2023-06-23T19:29:38.355Z"
   },
   {
    "duration": 12,
    "start_time": "2023-06-23T19:29:44.838Z"
   },
   {
    "duration": 30,
    "start_time": "2023-06-23T19:29:48.995Z"
   },
   {
    "duration": 17,
    "start_time": "2023-06-23T19:30:22.618Z"
   },
   {
    "duration": 14,
    "start_time": "2023-06-23T19:30:29.130Z"
   },
   {
    "duration": 19,
    "start_time": "2023-06-23T19:31:41.139Z"
   },
   {
    "duration": 7,
    "start_time": "2023-06-23T19:32:03.958Z"
   },
   {
    "duration": 15,
    "start_time": "2023-06-23T19:37:09.550Z"
   },
   {
    "duration": 10,
    "start_time": "2023-06-23T19:37:11.229Z"
   },
   {
    "duration": 5,
    "start_time": "2023-06-23T19:37:12.498Z"
   },
   {
    "duration": 6,
    "start_time": "2023-06-23T19:38:05.058Z"
   },
   {
    "duration": 5,
    "start_time": "2023-06-23T19:41:17.847Z"
   },
   {
    "duration": 7,
    "start_time": "2023-06-23T19:41:35.184Z"
   },
   {
    "duration": 293,
    "start_time": "2023-06-23T19:47:13.118Z"
   },
   {
    "duration": 274,
    "start_time": "2023-06-23T19:47:19.624Z"
   },
   {
    "duration": 247,
    "start_time": "2023-06-23T19:47:26.028Z"
   },
   {
    "duration": 272,
    "start_time": "2023-06-23T19:47:30.876Z"
   },
   {
    "duration": 7,
    "start_time": "2023-06-23T19:47:36.449Z"
   },
   {
    "duration": 7,
    "start_time": "2023-06-23T19:47:39.270Z"
   },
   {
    "duration": 8,
    "start_time": "2023-06-23T19:47:42.363Z"
   },
   {
    "duration": 307,
    "start_time": "2023-06-23T19:47:45.407Z"
   },
   {
    "duration": 1430,
    "start_time": "2023-06-23T19:48:32.771Z"
   },
   {
    "duration": 1226,
    "start_time": "2023-06-23T19:48:34.204Z"
   },
   {
    "duration": 20,
    "start_time": "2023-06-23T19:48:35.436Z"
   },
   {
    "duration": 26,
    "start_time": "2023-06-23T19:48:35.458Z"
   },
   {
    "duration": 4,
    "start_time": "2023-06-23T19:48:35.486Z"
   },
   {
    "duration": 47,
    "start_time": "2023-06-23T19:48:35.492Z"
   },
   {
    "duration": 110,
    "start_time": "2023-06-23T19:48:35.543Z"
   },
   {
    "duration": 14,
    "start_time": "2023-06-23T19:48:35.657Z"
   },
   {
    "duration": 55,
    "start_time": "2023-06-23T19:48:35.674Z"
   },
   {
    "duration": 37,
    "start_time": "2023-06-23T19:48:35.739Z"
   },
   {
    "duration": 5,
    "start_time": "2023-06-23T19:48:35.778Z"
   },
   {
    "duration": 21,
    "start_time": "2023-06-23T19:48:35.816Z"
   },
   {
    "duration": 33,
    "start_time": "2023-06-23T19:48:35.839Z"
   },
   {
    "duration": 50,
    "start_time": "2023-06-23T19:48:35.874Z"
   },
   {
    "duration": 17,
    "start_time": "2023-06-23T19:48:35.926Z"
   },
   {
    "duration": 716,
    "start_time": "2023-06-23T19:48:35.945Z"
   },
   {
    "duration": 55,
    "start_time": "2023-06-23T19:48:36.664Z"
   },
   {
    "duration": 26,
    "start_time": "2023-06-23T19:48:36.721Z"
   },
   {
    "duration": 494,
    "start_time": "2023-06-23T19:48:36.759Z"
   },
   {
    "duration": 464,
    "start_time": "2023-06-23T19:48:37.255Z"
   },
   {
    "duration": 438,
    "start_time": "2023-06-23T19:48:37.729Z"
   },
   {
    "duration": 5,
    "start_time": "2023-06-23T19:48:38.214Z"
   },
   {
    "duration": 36,
    "start_time": "2023-06-23T19:48:38.221Z"
   },
   {
    "duration": 65,
    "start_time": "2023-06-23T19:48:38.260Z"
   },
   {
    "duration": 293,
    "start_time": "2023-06-23T19:48:38.327Z"
   },
   {
    "duration": 1114,
    "start_time": "2023-06-23T19:48:38.622Z"
   },
   {
    "duration": 689,
    "start_time": "2023-06-23T19:48:39.738Z"
   },
   {
    "duration": 626,
    "start_time": "2023-06-23T19:48:40.434Z"
   },
   {
    "duration": 808,
    "start_time": "2023-06-23T19:48:41.116Z"
   },
   {
    "duration": 1036,
    "start_time": "2023-06-23T19:48:41.926Z"
   },
   {
    "duration": 889,
    "start_time": "2023-06-23T19:48:42.964Z"
   },
   {
    "duration": 1095,
    "start_time": "2023-06-23T19:48:43.856Z"
   },
   {
    "duration": 9,
    "start_time": "2023-06-23T19:48:44.953Z"
   },
   {
    "duration": 16,
    "start_time": "2023-06-23T19:48:45.023Z"
   },
   {
    "duration": 191,
    "start_time": "2023-06-23T19:48:45.042Z"
   },
   {
    "duration": 12,
    "start_time": "2023-06-23T19:48:45.235Z"
   },
   {
    "duration": 13,
    "start_time": "2023-06-23T19:48:45.251Z"
   },
   {
    "duration": 67,
    "start_time": "2023-06-23T19:48:45.266Z"
   },
   {
    "duration": 18,
    "start_time": "2023-06-23T19:48:45.337Z"
   },
   {
    "duration": 74,
    "start_time": "2023-06-23T19:48:45.357Z"
   },
   {
    "duration": 21,
    "start_time": "2023-06-23T19:48:45.433Z"
   },
   {
    "duration": 91,
    "start_time": "2023-06-23T19:48:45.458Z"
   },
   {
    "duration": 15,
    "start_time": "2023-06-23T19:48:45.551Z"
   },
   {
    "duration": 8,
    "start_time": "2023-06-23T19:48:45.568Z"
   },
   {
    "duration": 10,
    "start_time": "2023-06-23T19:48:45.616Z"
   },
   {
    "duration": 3,
    "start_time": "2023-06-23T21:09:53.629Z"
   },
   {
    "duration": 906,
    "start_time": "2023-06-23T21:12:50.175Z"
   },
   {
    "duration": 576,
    "start_time": "2023-06-23T21:13:29.306Z"
   },
   {
    "duration": 311,
    "start_time": "2023-06-23T21:15:45.540Z"
   },
   {
    "duration": 254,
    "start_time": "2023-06-23T21:16:40.538Z"
   },
   {
    "duration": 286,
    "start_time": "2023-06-23T21:17:10.982Z"
   },
   {
    "duration": 13,
    "start_time": "2023-06-23T21:19:13.840Z"
   },
   {
    "duration": 12,
    "start_time": "2023-06-23T21:19:20.896Z"
   },
   {
    "duration": 22,
    "start_time": "2023-06-23T21:19:44.604Z"
   },
   {
    "duration": 10,
    "start_time": "2023-06-23T21:21:28.896Z"
   },
   {
    "duration": 22,
    "start_time": "2023-06-23T21:21:36.719Z"
   },
   {
    "duration": 10,
    "start_time": "2023-06-23T21:24:30.546Z"
   },
   {
    "duration": 9,
    "start_time": "2023-06-23T21:24:44.603Z"
   },
   {
    "duration": 11,
    "start_time": "2023-06-23T21:25:32.168Z"
   },
   {
    "duration": 8,
    "start_time": "2023-06-23T21:25:36.344Z"
   },
   {
    "duration": 10,
    "start_time": "2023-06-23T21:26:04.799Z"
   },
   {
    "duration": 13,
    "start_time": "2023-06-23T21:26:15.629Z"
   },
   {
    "duration": 8,
    "start_time": "2023-06-23T21:26:37.134Z"
   },
   {
    "duration": 176,
    "start_time": "2023-06-23T21:26:47.603Z"
   },
   {
    "duration": 8,
    "start_time": "2023-06-23T21:27:11.339Z"
   },
   {
    "duration": 17,
    "start_time": "2023-06-23T21:27:14.233Z"
   },
   {
    "duration": 5,
    "start_time": "2023-06-23T21:27:17.799Z"
   },
   {
    "duration": 5,
    "start_time": "2023-06-23T21:27:25.899Z"
   },
   {
    "duration": 9,
    "start_time": "2023-06-23T21:30:08.350Z"
   },
   {
    "duration": 9,
    "start_time": "2023-06-23T21:30:25.694Z"
   },
   {
    "duration": 15,
    "start_time": "2023-06-23T21:30:51.825Z"
   },
   {
    "duration": 9,
    "start_time": "2023-06-23T21:30:55.669Z"
   },
   {
    "duration": 18,
    "start_time": "2023-06-23T21:32:17.207Z"
   },
   {
    "duration": 9,
    "start_time": "2023-06-23T21:32:19.615Z"
   },
   {
    "duration": 7,
    "start_time": "2023-06-23T21:32:36.550Z"
   },
   {
    "duration": 13,
    "start_time": "2023-06-23T21:32:46.170Z"
   },
   {
    "duration": 8,
    "start_time": "2023-06-23T21:32:47.929Z"
   },
   {
    "duration": 7,
    "start_time": "2023-06-23T21:32:49.599Z"
   },
   {
    "duration": 24,
    "start_time": "2023-06-23T21:33:59.811Z"
   },
   {
    "duration": 14,
    "start_time": "2023-06-23T21:34:00.331Z"
   },
   {
    "duration": 13,
    "start_time": "2023-06-23T21:34:08.032Z"
   },
   {
    "duration": 17,
    "start_time": "2023-06-23T21:34:19.209Z"
   },
   {
    "duration": 13,
    "start_time": "2023-06-23T21:35:06.133Z"
   },
   {
    "duration": 9,
    "start_time": "2023-06-23T21:35:11.289Z"
   },
   {
    "duration": 8,
    "start_time": "2023-06-23T21:35:54.159Z"
   },
   {
    "duration": 11,
    "start_time": "2023-06-23T21:35:57.545Z"
   },
   {
    "duration": 9,
    "start_time": "2023-06-23T21:36:24.358Z"
   },
   {
    "duration": 15,
    "start_time": "2023-06-23T21:36:32.346Z"
   },
   {
    "duration": 5,
    "start_time": "2023-06-23T21:36:35.758Z"
   },
   {
    "duration": 6,
    "start_time": "2023-06-23T21:36:37.645Z"
   },
   {
    "duration": 5,
    "start_time": "2023-06-23T21:37:33.292Z"
   },
   {
    "duration": 5,
    "start_time": "2023-06-23T21:37:41.357Z"
   },
   {
    "duration": 9,
    "start_time": "2023-06-23T21:40:00.152Z"
   },
   {
    "duration": 15,
    "start_time": "2023-06-23T21:40:04.952Z"
   },
   {
    "duration": 5,
    "start_time": "2023-06-23T21:40:06.942Z"
   },
   {
    "duration": 6,
    "start_time": "2023-06-23T21:40:09.112Z"
   },
   {
    "duration": 9,
    "start_time": "2023-06-23T21:41:37.942Z"
   },
   {
    "duration": 14,
    "start_time": "2023-06-23T21:41:42.832Z"
   },
   {
    "duration": 12,
    "start_time": "2023-06-23T21:41:46.885Z"
   },
   {
    "duration": 16,
    "start_time": "2023-06-23T21:41:53.343Z"
   },
   {
    "duration": 8,
    "start_time": "2023-06-23T21:41:57.690Z"
   },
   {
    "duration": 8,
    "start_time": "2023-06-23T21:42:07.552Z"
   },
   {
    "duration": 10,
    "start_time": "2023-06-23T21:42:50.193Z"
   },
   {
    "duration": 10,
    "start_time": "2023-06-23T21:43:20.255Z"
   },
   {
    "duration": 11,
    "start_time": "2023-06-23T21:43:44.888Z"
   },
   {
    "duration": 16,
    "start_time": "2023-06-23T21:43:46.132Z"
   },
   {
    "duration": 11,
    "start_time": "2023-06-23T21:43:52.006Z"
   },
   {
    "duration": 18,
    "start_time": "2023-06-23T21:43:57.543Z"
   },
   {
    "duration": 5,
    "start_time": "2023-06-23T21:43:58.690Z"
   },
   {
    "duration": 9,
    "start_time": "2023-06-23T21:44:00.233Z"
   },
   {
    "duration": 10,
    "start_time": "2023-06-23T21:47:27.539Z"
   },
   {
    "duration": 19,
    "start_time": "2023-06-23T21:47:32.541Z"
   },
   {
    "duration": 12,
    "start_time": "2023-06-23T21:47:37.393Z"
   },
   {
    "duration": 16,
    "start_time": "2023-06-23T21:48:15.954Z"
   },
   {
    "duration": 5,
    "start_time": "2023-06-23T21:48:22.406Z"
   },
   {
    "duration": 7,
    "start_time": "2023-06-23T21:48:25.147Z"
   },
   {
    "duration": 70,
    "start_time": "2023-06-23T21:50:03.849Z"
   },
   {
    "duration": 21,
    "start_time": "2023-06-23T21:51:55.844Z"
   },
   {
    "duration": 31,
    "start_time": "2023-06-23T21:52:12.810Z"
   },
   {
    "duration": 13,
    "start_time": "2023-06-23T21:53:16.994Z"
   },
   {
    "duration": 19,
    "start_time": "2023-06-23T21:54:10.606Z"
   },
   {
    "duration": 15,
    "start_time": "2023-06-23T21:54:22.342Z"
   },
   {
    "duration": 5,
    "start_time": "2023-06-23T21:54:24.042Z"
   },
   {
    "duration": 6,
    "start_time": "2023-06-23T21:54:25.688Z"
   },
   {
    "duration": 14,
    "start_time": "2023-06-23T21:55:22.897Z"
   },
   {
    "duration": 15,
    "start_time": "2023-06-23T21:56:00.757Z"
   },
   {
    "duration": 5,
    "start_time": "2023-06-23T21:56:22.346Z"
   },
   {
    "duration": 6,
    "start_time": "2023-06-23T21:56:41.242Z"
   },
   {
    "duration": 22,
    "start_time": "2023-06-23T21:57:59.086Z"
   },
   {
    "duration": 16,
    "start_time": "2023-06-23T21:58:00.868Z"
   },
   {
    "duration": 23,
    "start_time": "2023-06-23T21:58:09.698Z"
   },
   {
    "duration": 6,
    "start_time": "2023-06-23T21:58:10.843Z"
   },
   {
    "duration": 12,
    "start_time": "2023-06-23T21:58:12.737Z"
   },
   {
    "duration": 9,
    "start_time": "2023-06-23T22:00:20.560Z"
   },
   {
    "duration": 10,
    "start_time": "2023-06-23T22:00:23.546Z"
   },
   {
    "duration": 9,
    "start_time": "2023-06-23T22:00:32.061Z"
   },
   {
    "duration": 8,
    "start_time": "2023-06-23T22:00:48.578Z"
   },
   {
    "duration": 9,
    "start_time": "2023-06-23T22:00:49.346Z"
   },
   {
    "duration": 9,
    "start_time": "2023-06-23T22:01:00.860Z"
   },
   {
    "duration": 10,
    "start_time": "2023-06-23T22:01:09.096Z"
   },
   {
    "duration": 9,
    "start_time": "2023-06-23T22:01:12.298Z"
   },
   {
    "duration": 10,
    "start_time": "2023-06-23T22:01:33.589Z"
   },
   {
    "duration": 9,
    "start_time": "2023-06-23T22:01:44.972Z"
   },
   {
    "duration": 9,
    "start_time": "2023-06-23T22:01:52.437Z"
   },
   {
    "duration": 13,
    "start_time": "2023-06-23T22:02:19.130Z"
   },
   {
    "duration": 8,
    "start_time": "2023-06-23T22:02:25.688Z"
   },
   {
    "duration": 11,
    "start_time": "2023-06-23T22:02:38.194Z"
   },
   {
    "duration": 8,
    "start_time": "2023-06-23T22:02:48.244Z"
   },
   {
    "duration": 9,
    "start_time": "2023-06-23T22:02:51.395Z"
   },
   {
    "duration": 10,
    "start_time": "2023-06-23T22:03:16.235Z"
   },
   {
    "duration": 11,
    "start_time": "2023-06-23T22:03:20.504Z"
   },
   {
    "duration": 21,
    "start_time": "2023-06-23T22:03:51.785Z"
   },
   {
    "duration": 15,
    "start_time": "2023-06-23T22:04:03.145Z"
   },
   {
    "duration": 5,
    "start_time": "2023-06-23T22:04:06.660Z"
   },
   {
    "duration": 6,
    "start_time": "2023-06-23T22:04:08.152Z"
   },
   {
    "duration": 8,
    "start_time": "2023-06-23T22:04:58.373Z"
   },
   {
    "duration": 8,
    "start_time": "2023-06-23T22:05:07.360Z"
   },
   {
    "duration": 9,
    "start_time": "2023-06-23T22:05:20.554Z"
   },
   {
    "duration": 13,
    "start_time": "2023-06-23T22:05:26.006Z"
   },
   {
    "duration": 9,
    "start_time": "2023-06-23T22:05:31.646Z"
   },
   {
    "duration": 7,
    "start_time": "2023-06-23T22:05:36.585Z"
   },
   {
    "duration": 59,
    "start_time": "2023-06-23T22:05:43.213Z"
   },
   {
    "duration": 8,
    "start_time": "2023-06-23T22:05:50.060Z"
   },
   {
    "duration": 10,
    "start_time": "2023-06-23T22:05:53.872Z"
   },
   {
    "duration": 22,
    "start_time": "2023-06-23T22:06:40.897Z"
   },
   {
    "duration": 4,
    "start_time": "2023-06-23T22:06:42.044Z"
   },
   {
    "duration": 5,
    "start_time": "2023-06-23T22:06:43.965Z"
   },
   {
    "duration": 16,
    "start_time": "2023-06-23T22:09:39.364Z"
   },
   {
    "duration": 19,
    "start_time": "2023-06-23T22:13:04.792Z"
   },
   {
    "duration": 15,
    "start_time": "2023-06-23T22:14:02.047Z"
   },
   {
    "duration": 9,
    "start_time": "2023-06-23T22:14:03.126Z"
   },
   {
    "duration": 10,
    "start_time": "2023-06-23T22:14:07.426Z"
   },
   {
    "duration": 17,
    "start_time": "2023-06-23T22:29:27.345Z"
   },
   {
    "duration": 21,
    "start_time": "2023-06-23T22:30:22.706Z"
   },
   {
    "duration": 33,
    "start_time": "2023-06-23T22:30:29.904Z"
   },
   {
    "duration": 28,
    "start_time": "2023-06-23T22:30:38.236Z"
   },
   {
    "duration": 21,
    "start_time": "2023-06-23T22:30:41.407Z"
   },
   {
    "duration": 14,
    "start_time": "2023-06-23T22:30:45.970Z"
   },
   {
    "duration": 8,
    "start_time": "2023-06-23T22:30:46.810Z"
   },
   {
    "duration": 5,
    "start_time": "2023-06-23T22:30:48.170Z"
   },
   {
    "duration": 26,
    "start_time": "2023-06-23T22:31:33.505Z"
   },
   {
    "duration": 16,
    "start_time": "2023-06-23T22:31:36.464Z"
   },
   {
    "duration": 20,
    "start_time": "2023-06-23T22:31:48.072Z"
   },
   {
    "duration": 30,
    "start_time": "2023-06-23T22:32:14.409Z"
   },
   {
    "duration": 5,
    "start_time": "2023-06-23T22:32:15.192Z"
   },
   {
    "duration": 6,
    "start_time": "2023-06-23T22:32:16.094Z"
   },
   {
    "duration": 28,
    "start_time": "2023-06-23T22:32:45.913Z"
   },
   {
    "duration": 16,
    "start_time": "2023-06-23T22:33:00.175Z"
   },
   {
    "duration": 15,
    "start_time": "2023-06-23T22:33:01.953Z"
   },
   {
    "duration": 5,
    "start_time": "2023-06-23T22:33:03.401Z"
   },
   {
    "duration": 5,
    "start_time": "2023-06-23T22:33:04.962Z"
   },
   {
    "duration": 1256,
    "start_time": "2023-06-23T22:36:36.250Z"
   },
   {
    "duration": 1530,
    "start_time": "2023-06-23T22:36:37.508Z"
   },
   {
    "duration": 20,
    "start_time": "2023-06-23T22:36:39.040Z"
   },
   {
    "duration": 13,
    "start_time": "2023-06-23T22:36:39.062Z"
   },
   {
    "duration": 10,
    "start_time": "2023-06-23T22:36:39.078Z"
   },
   {
    "duration": 50,
    "start_time": "2023-06-23T22:36:39.090Z"
   },
   {
    "duration": 23,
    "start_time": "2023-06-23T22:36:39.142Z"
   },
   {
    "duration": 14,
    "start_time": "2023-06-23T22:36:39.167Z"
   },
   {
    "duration": 10,
    "start_time": "2023-06-23T22:36:39.183Z"
   },
   {
    "duration": 10,
    "start_time": "2023-06-23T22:36:39.195Z"
   },
   {
    "duration": 22,
    "start_time": "2023-06-23T22:36:39.207Z"
   },
   {
    "duration": 14,
    "start_time": "2023-06-23T22:36:39.231Z"
   },
   {
    "duration": 46,
    "start_time": "2023-06-23T22:36:39.247Z"
   },
   {
    "duration": 45,
    "start_time": "2023-06-23T22:36:39.296Z"
   },
   {
    "duration": 27,
    "start_time": "2023-06-23T22:36:39.346Z"
   },
   {
    "duration": 282,
    "start_time": "2023-06-23T22:36:39.375Z"
   },
   {
    "duration": 12,
    "start_time": "2023-06-23T22:36:39.660Z"
   },
   {
    "duration": 11,
    "start_time": "2023-06-23T22:36:39.675Z"
   },
   {
    "duration": 256,
    "start_time": "2023-06-23T22:36:39.689Z"
   },
   {
    "duration": 209,
    "start_time": "2023-06-23T22:36:39.947Z"
   },
   {
    "duration": 205,
    "start_time": "2023-06-23T22:36:40.157Z"
   },
   {
    "duration": 5,
    "start_time": "2023-06-23T22:36:40.364Z"
   },
   {
    "duration": 65,
    "start_time": "2023-06-23T22:36:40.371Z"
   },
   {
    "duration": 27,
    "start_time": "2023-06-23T22:36:40.439Z"
   },
   {
    "duration": 124,
    "start_time": "2023-06-23T22:36:40.468Z"
   },
   {
    "duration": 494,
    "start_time": "2023-06-23T22:36:40.594Z"
   },
   {
    "duration": 394,
    "start_time": "2023-06-23T22:36:41.090Z"
   },
   {
    "duration": 317,
    "start_time": "2023-06-23T22:36:41.486Z"
   },
   {
    "duration": 293,
    "start_time": "2023-06-23T22:36:41.805Z"
   },
   {
    "duration": 457,
    "start_time": "2023-06-23T22:36:42.100Z"
   },
   {
    "duration": 429,
    "start_time": "2023-06-23T22:36:42.559Z"
   },
   {
    "duration": 436,
    "start_time": "2023-06-23T22:36:42.990Z"
   },
   {
    "duration": 539,
    "start_time": "2023-06-23T22:36:43.427Z"
   },
   {
    "duration": 5,
    "start_time": "2023-06-23T22:36:43.968Z"
   },
   {
    "duration": 25,
    "start_time": "2023-06-23T22:36:43.975Z"
   },
   {
    "duration": 143,
    "start_time": "2023-06-23T22:36:44.001Z"
   },
   {
    "duration": 29,
    "start_time": "2023-06-23T22:36:44.146Z"
   },
   {
    "duration": 15,
    "start_time": "2023-06-23T22:36:44.177Z"
   },
   {
    "duration": 13,
    "start_time": "2023-06-23T22:36:44.194Z"
   },
   {
    "duration": 1320,
    "start_time": "2023-06-23T22:47:16.961Z"
   },
   {
    "duration": 1123,
    "start_time": "2023-06-23T22:47:18.283Z"
   },
   {
    "duration": 31,
    "start_time": "2023-06-23T22:47:19.407Z"
   },
   {
    "duration": 13,
    "start_time": "2023-06-23T22:47:19.440Z"
   },
   {
    "duration": 11,
    "start_time": "2023-06-23T22:47:19.456Z"
   },
   {
    "duration": 18,
    "start_time": "2023-06-23T22:47:19.468Z"
   },
   {
    "duration": 57,
    "start_time": "2023-06-23T22:47:19.488Z"
   },
   {
    "duration": 13,
    "start_time": "2023-06-23T22:47:19.546Z"
   },
   {
    "duration": 29,
    "start_time": "2023-06-23T22:47:19.561Z"
   },
   {
    "duration": 27,
    "start_time": "2023-06-23T22:47:19.592Z"
   },
   {
    "duration": 18,
    "start_time": "2023-06-23T22:47:19.623Z"
   },
   {
    "duration": 25,
    "start_time": "2023-06-23T22:47:19.643Z"
   },
   {
    "duration": 9,
    "start_time": "2023-06-23T22:47:19.671Z"
   },
   {
    "duration": 29,
    "start_time": "2023-06-23T22:47:19.684Z"
   },
   {
    "duration": 40,
    "start_time": "2023-06-23T22:47:19.715Z"
   },
   {
    "duration": 291,
    "start_time": "2023-06-23T22:47:19.758Z"
   },
   {
    "duration": 7,
    "start_time": "2023-06-23T22:47:20.051Z"
   },
   {
    "duration": 37,
    "start_time": "2023-06-23T22:47:20.060Z"
   },
   {
    "duration": 271,
    "start_time": "2023-06-23T22:47:20.099Z"
   },
   {
    "duration": 208,
    "start_time": "2023-06-23T22:47:20.372Z"
   },
   {
    "duration": 211,
    "start_time": "2023-06-23T22:47:20.581Z"
   },
   {
    "duration": 5,
    "start_time": "2023-06-23T22:47:20.793Z"
   },
   {
    "duration": 35,
    "start_time": "2023-06-23T22:47:20.827Z"
   },
   {
    "duration": 43,
    "start_time": "2023-06-23T22:47:20.864Z"
   },
   {
    "duration": 136,
    "start_time": "2023-06-23T22:47:20.908Z"
   },
   {
    "duration": 476,
    "start_time": "2023-06-23T22:47:21.046Z"
   },
   {
    "duration": 354,
    "start_time": "2023-06-23T22:47:21.524Z"
   },
   {
    "duration": 335,
    "start_time": "2023-06-23T22:47:21.880Z"
   },
   {
    "duration": 286,
    "start_time": "2023-06-23T22:47:22.218Z"
   },
   {
    "duration": 465,
    "start_time": "2023-06-23T22:47:22.506Z"
   },
   {
    "duration": 436,
    "start_time": "2023-06-23T22:47:22.973Z"
   },
   {
    "duration": 456,
    "start_time": "2023-06-23T22:47:23.413Z"
   },
   {
    "duration": 538,
    "start_time": "2023-06-23T22:47:23.871Z"
   },
   {
    "duration": 14,
    "start_time": "2023-06-23T22:47:24.413Z"
   },
   {
    "duration": 39,
    "start_time": "2023-06-23T22:47:24.429Z"
   },
   {
    "duration": 117,
    "start_time": "2023-06-23T22:47:24.469Z"
   },
   {
    "duration": 114,
    "start_time": "2023-06-23T22:47:24.588Z"
   },
   {
    "duration": 57,
    "start_time": "2023-06-23T22:47:24.704Z"
   },
   {
    "duration": 69,
    "start_time": "2023-06-23T22:47:24.763Z"
   },
   {
    "duration": 1309,
    "start_time": "2023-06-23T22:59:39.228Z"
   },
   {
    "duration": 12,
    "start_time": "2023-06-23T23:00:06.830Z"
   },
   {
    "duration": 11,
    "start_time": "2023-06-23T23:04:03.584Z"
   },
   {
    "duration": 1334,
    "start_time": "2023-06-23T23:19:59.122Z"
   },
   {
    "duration": 1340,
    "start_time": "2023-06-23T23:20:00.459Z"
   },
   {
    "duration": 24,
    "start_time": "2023-06-23T23:20:01.801Z"
   },
   {
    "duration": 169,
    "start_time": "2023-06-23T23:20:01.827Z"
   },
   {
    "duration": 20,
    "start_time": "2023-06-23T23:20:01.999Z"
   },
   {
    "duration": 106,
    "start_time": "2023-06-23T23:20:02.021Z"
   },
   {
    "duration": 72,
    "start_time": "2023-06-23T23:20:02.129Z"
   },
   {
    "duration": 84,
    "start_time": "2023-06-23T23:20:02.203Z"
   },
   {
    "duration": 53,
    "start_time": "2023-06-23T23:20:02.290Z"
   },
   {
    "duration": 48,
    "start_time": "2023-06-23T23:20:02.345Z"
   },
   {
    "duration": 37,
    "start_time": "2023-06-23T23:20:02.395Z"
   },
   {
    "duration": 40,
    "start_time": "2023-06-23T23:20:02.435Z"
   },
   {
    "duration": 52,
    "start_time": "2023-06-23T23:20:02.477Z"
   },
   {
    "duration": 5,
    "start_time": "2023-06-23T23:20:02.535Z"
   },
   {
    "duration": 100,
    "start_time": "2023-06-23T23:20:02.542Z"
   },
   {
    "duration": 263,
    "start_time": "2023-06-23T23:20:02.644Z"
   },
   {
    "duration": 18,
    "start_time": "2023-06-23T23:20:02.909Z"
   },
   {
    "duration": 15,
    "start_time": "2023-06-23T23:20:02.930Z"
   },
   {
    "duration": 229,
    "start_time": "2023-06-23T23:20:02.947Z"
   },
   {
    "duration": 193,
    "start_time": "2023-06-23T23:20:03.178Z"
   },
   {
    "duration": 194,
    "start_time": "2023-06-23T23:20:03.373Z"
   },
   {
    "duration": 4,
    "start_time": "2023-06-23T23:20:03.569Z"
   },
   {
    "duration": 34,
    "start_time": "2023-06-23T23:20:03.575Z"
   },
   {
    "duration": 34,
    "start_time": "2023-06-23T23:20:03.611Z"
   },
   {
    "duration": 92,
    "start_time": "2023-06-23T23:20:03.647Z"
   },
   {
    "duration": 449,
    "start_time": "2023-06-23T23:20:03.741Z"
   },
   {
    "duration": 333,
    "start_time": "2023-06-23T23:20:04.192Z"
   },
   {
    "duration": 300,
    "start_time": "2023-06-23T23:20:04.527Z"
   },
   {
    "duration": 275,
    "start_time": "2023-06-23T23:20:04.829Z"
   },
   {
    "duration": 416,
    "start_time": "2023-06-23T23:20:05.113Z"
   },
   {
    "duration": 396,
    "start_time": "2023-06-23T23:20:05.531Z"
   },
   {
    "duration": 377,
    "start_time": "2023-06-23T23:20:05.931Z"
   },
   {
    "duration": 472,
    "start_time": "2023-06-23T23:20:06.313Z"
   },
   {
    "duration": 5,
    "start_time": "2023-06-23T23:20:06.787Z"
   },
   {
    "duration": 36,
    "start_time": "2023-06-23T23:20:06.794Z"
   },
   {
    "duration": 119,
    "start_time": "2023-06-23T23:20:06.832Z"
   },
   {
    "duration": 24,
    "start_time": "2023-06-23T23:20:06.953Z"
   },
   {
    "duration": 17,
    "start_time": "2023-06-23T23:20:06.979Z"
   },
   {
    "duration": 10,
    "start_time": "2023-06-23T23:20:06.998Z"
   },
   {
    "duration": 50,
    "start_time": "2023-06-23T23:20:07.010Z"
   },
   {
    "duration": 38,
    "start_time": "2023-06-23T23:20:07.063Z"
   },
   {
    "duration": 225,
    "start_time": "2023-06-23T23:23:17.322Z"
   },
   {
    "duration": 324,
    "start_time": "2023-06-23T23:23:25.586Z"
   },
   {
    "duration": 300,
    "start_time": "2023-06-23T23:23:44.416Z"
   },
   {
    "duration": 297,
    "start_time": "2023-06-23T23:23:49.928Z"
   },
   {
    "duration": 300,
    "start_time": "2023-06-23T23:23:55.128Z"
   },
   {
    "duration": 325,
    "start_time": "2023-06-23T23:24:01.929Z"
   },
   {
    "duration": 455,
    "start_time": "2023-06-23T23:24:13.795Z"
   },
   {
    "duration": 1655,
    "start_time": "2023-06-23T23:24:36.385Z"
   },
   {
    "duration": 328,
    "start_time": "2023-06-23T23:24:44.021Z"
   },
   {
    "duration": 329,
    "start_time": "2023-06-23T23:25:37.535Z"
   },
   {
    "duration": 346,
    "start_time": "2023-06-23T23:25:56.696Z"
   },
   {
    "duration": 318,
    "start_time": "2023-06-23T23:26:26.195Z"
   },
   {
    "duration": 401,
    "start_time": "2023-06-23T23:26:56.723Z"
   },
   {
    "duration": 191,
    "start_time": "2023-06-23T23:27:12.259Z"
   },
   {
    "duration": 390,
    "start_time": "2023-06-23T23:27:39.410Z"
   },
   {
    "duration": 298,
    "start_time": "2023-06-23T23:28:13.009Z"
   },
   {
    "duration": 281,
    "start_time": "2023-06-23T23:28:27.705Z"
   },
   {
    "duration": 1380,
    "start_time": "2023-06-24T12:25:09.574Z"
   },
   {
    "duration": 1365,
    "start_time": "2023-06-24T12:25:10.956Z"
   },
   {
    "duration": 24,
    "start_time": "2023-06-24T12:25:12.323Z"
   },
   {
    "duration": 18,
    "start_time": "2023-06-24T12:25:12.350Z"
   },
   {
    "duration": 5,
    "start_time": "2023-06-24T12:25:12.372Z"
   },
   {
    "duration": 33,
    "start_time": "2023-06-24T12:25:12.378Z"
   },
   {
    "duration": 28,
    "start_time": "2023-06-24T12:25:12.413Z"
   },
   {
    "duration": 30,
    "start_time": "2023-06-24T12:25:12.443Z"
   },
   {
    "duration": 8,
    "start_time": "2023-06-24T12:25:12.475Z"
   },
   {
    "duration": 11,
    "start_time": "2023-06-24T12:25:12.485Z"
   },
   {
    "duration": 6,
    "start_time": "2023-06-24T12:25:12.499Z"
   },
   {
    "duration": 18,
    "start_time": "2023-06-24T12:25:12.507Z"
   },
   {
    "duration": 5,
    "start_time": "2023-06-24T12:25:12.527Z"
   },
   {
    "duration": 35,
    "start_time": "2023-06-24T12:25:12.536Z"
   },
   {
    "duration": 11,
    "start_time": "2023-06-24T12:25:12.572Z"
   },
   {
    "duration": 420,
    "start_time": "2023-06-24T12:25:12.585Z"
   },
   {
    "duration": 9,
    "start_time": "2023-06-24T12:25:13.007Z"
   },
   {
    "duration": 28,
    "start_time": "2023-06-24T12:25:13.019Z"
   },
   {
    "duration": 348,
    "start_time": "2023-06-24T12:25:13.049Z"
   },
   {
    "duration": 213,
    "start_time": "2023-06-24T12:25:13.399Z"
   },
   {
    "duration": 202,
    "start_time": "2023-06-24T12:25:13.614Z"
   },
   {
    "duration": 445,
    "start_time": "2023-06-24T12:25:13.818Z"
   },
   {
    "duration": 6,
    "start_time": "2023-06-24T12:25:14.267Z"
   },
   {
    "duration": 17,
    "start_time": "2023-06-24T12:25:14.275Z"
   },
   {
    "duration": 26,
    "start_time": "2023-06-24T12:25:14.294Z"
   },
   {
    "duration": 201,
    "start_time": "2023-06-24T12:25:14.321Z"
   },
   {
    "duration": 283,
    "start_time": "2023-06-24T12:25:14.524Z"
   },
   {
    "duration": 283,
    "start_time": "2023-06-24T12:25:14.809Z"
   },
   {
    "duration": 209,
    "start_time": "2023-06-24T12:25:15.094Z"
   },
   {
    "duration": 270,
    "start_time": "2023-06-24T12:25:15.304Z"
   },
   {
    "duration": 420,
    "start_time": "2023-06-24T12:25:15.576Z"
   },
   {
    "duration": 391,
    "start_time": "2023-06-24T12:25:15.998Z"
   },
   {
    "duration": 408,
    "start_time": "2023-06-24T12:25:16.391Z"
   },
   {
    "duration": 592,
    "start_time": "2023-06-24T12:25:16.801Z"
   },
   {
    "duration": 4,
    "start_time": "2023-06-24T12:25:17.395Z"
   },
   {
    "duration": 28,
    "start_time": "2023-06-24T12:25:17.400Z"
   },
   {
    "duration": 20,
    "start_time": "2023-06-24T12:25:17.430Z"
   },
   {
    "duration": 29,
    "start_time": "2023-06-24T12:25:17.452Z"
   },
   {
    "duration": 5,
    "start_time": "2023-06-24T12:25:17.482Z"
   },
   {
    "duration": 18,
    "start_time": "2023-06-24T12:25:17.488Z"
   },
   {
    "duration": 41,
    "start_time": "2023-06-24T12:25:17.510Z"
   },
   {
    "duration": 20,
    "start_time": "2023-06-24T12:25:17.553Z"
   },
   {
    "duration": 1599,
    "start_time": "2023-06-24T13:27:43.249Z"
   },
   {
    "duration": 915,
    "start_time": "2023-06-24T13:27:44.851Z"
   },
   {
    "duration": 20,
    "start_time": "2023-06-24T13:27:45.768Z"
   },
   {
    "duration": 16,
    "start_time": "2023-06-24T13:27:45.790Z"
   },
   {
    "duration": 12,
    "start_time": "2023-06-24T13:27:45.808Z"
   },
   {
    "duration": 17,
    "start_time": "2023-06-24T13:27:45.822Z"
   },
   {
    "duration": 25,
    "start_time": "2023-06-24T13:27:45.851Z"
   },
   {
    "duration": 14,
    "start_time": "2023-06-24T13:27:45.878Z"
   },
   {
    "duration": 14,
    "start_time": "2023-06-24T13:27:45.895Z"
   },
   {
    "duration": 22,
    "start_time": "2023-06-24T13:27:45.912Z"
   },
   {
    "duration": 20,
    "start_time": "2023-06-24T13:27:45.936Z"
   },
   {
    "duration": 14,
    "start_time": "2023-06-24T13:27:45.958Z"
   },
   {
    "duration": 5,
    "start_time": "2023-06-24T13:27:45.974Z"
   },
   {
    "duration": 9,
    "start_time": "2023-06-24T13:27:45.980Z"
   },
   {
    "duration": 6,
    "start_time": "2023-06-24T13:27:45.991Z"
   },
   {
    "duration": 393,
    "start_time": "2023-06-24T13:27:45.998Z"
   },
   {
    "duration": 10,
    "start_time": "2023-06-24T13:27:46.393Z"
   },
   {
    "duration": 40,
    "start_time": "2023-06-24T13:27:46.405Z"
   },
   {
    "duration": 440,
    "start_time": "2023-06-24T13:27:46.447Z"
   },
   {
    "duration": 227,
    "start_time": "2023-06-24T13:27:46.890Z"
   },
   {
    "duration": 225,
    "start_time": "2023-06-24T13:27:47.119Z"
   },
   {
    "duration": 387,
    "start_time": "2023-06-24T13:27:47.347Z"
   },
   {
    "duration": 4,
    "start_time": "2023-06-24T13:27:47.736Z"
   },
   {
    "duration": 12,
    "start_time": "2023-06-24T13:27:47.752Z"
   },
   {
    "duration": 21,
    "start_time": "2023-06-24T13:27:47.766Z"
   },
   {
    "duration": 375,
    "start_time": "2023-06-24T13:27:47.789Z"
   },
   {
    "duration": 720,
    "start_time": "2023-06-24T13:27:48.166Z"
   },
   {
    "duration": 881,
    "start_time": "2023-06-24T13:27:48.890Z"
   },
   {
    "duration": 357,
    "start_time": "2023-06-24T13:27:49.773Z"
   },
   {
    "duration": 286,
    "start_time": "2023-06-24T13:27:50.132Z"
   },
   {
    "duration": 454,
    "start_time": "2023-06-24T13:27:50.421Z"
   },
   {
    "duration": 429,
    "start_time": "2023-06-24T13:27:50.877Z"
   },
   {
    "duration": 430,
    "start_time": "2023-06-24T13:27:51.308Z"
   },
   {
    "duration": 627,
    "start_time": "2023-06-24T13:27:51.741Z"
   },
   {
    "duration": 7,
    "start_time": "2023-06-24T13:27:52.371Z"
   },
   {
    "duration": 50,
    "start_time": "2023-06-24T13:27:52.380Z"
   },
   {
    "duration": 20,
    "start_time": "2023-06-24T13:27:52.432Z"
   },
   {
    "duration": 71,
    "start_time": "2023-06-24T13:27:52.454Z"
   },
   {
    "duration": 33,
    "start_time": "2023-06-24T13:27:52.527Z"
   },
   {
    "duration": 30,
    "start_time": "2023-06-24T13:27:52.562Z"
   },
   {
    "duration": 22,
    "start_time": "2023-06-24T13:27:52.595Z"
   },
   {
    "duration": 15,
    "start_time": "2023-06-24T13:27:52.619Z"
   },
   {
    "duration": 534,
    "start_time": "2023-06-24T13:28:10.920Z"
   },
   {
    "duration": 414,
    "start_time": "2023-06-24T13:29:15.641Z"
   },
   {
    "duration": 413,
    "start_time": "2023-06-24T13:29:42.259Z"
   },
   {
    "duration": 452,
    "start_time": "2023-06-24T13:30:04.524Z"
   },
   {
    "duration": 551,
    "start_time": "2023-06-24T13:30:42.050Z"
   },
   {
    "duration": 16,
    "start_time": "2023-06-24T13:30:47.795Z"
   },
   {
    "duration": 293,
    "start_time": "2023-06-24T13:30:53.853Z"
   },
   {
    "duration": 275,
    "start_time": "2023-06-24T13:31:20.733Z"
   },
   {
    "duration": 252,
    "start_time": "2023-06-24T13:31:31.641Z"
   },
   {
    "duration": 281,
    "start_time": "2023-06-24T13:32:21.045Z"
   },
   {
    "duration": 301,
    "start_time": "2023-06-24T13:32:33.451Z"
   },
   {
    "duration": 280,
    "start_time": "2023-06-24T13:32:54.104Z"
   },
   {
    "duration": 294,
    "start_time": "2023-06-24T13:33:11.619Z"
   },
   {
    "duration": 239,
    "start_time": "2023-06-24T13:39:59.717Z"
   },
   {
    "duration": 403,
    "start_time": "2023-06-24T13:41:17.353Z"
   },
   {
    "duration": 243,
    "start_time": "2023-06-24T13:42:45.211Z"
   },
   {
    "duration": 15,
    "start_time": "2023-06-24T13:43:09.238Z"
   },
   {
    "duration": 329,
    "start_time": "2023-06-24T13:43:47.106Z"
   },
   {
    "duration": 315,
    "start_time": "2023-06-24T13:44:42.805Z"
   },
   {
    "duration": 394,
    "start_time": "2023-06-24T13:45:08.968Z"
   },
   {
    "duration": 299,
    "start_time": "2023-06-24T13:45:15.745Z"
   },
   {
    "duration": 431,
    "start_time": "2023-06-24T13:47:25.300Z"
   },
   {
    "duration": 266,
    "start_time": "2023-06-24T13:47:31.768Z"
   },
   {
    "duration": 19,
    "start_time": "2023-06-24T13:48:17.976Z"
   },
   {
    "duration": 259,
    "start_time": "2023-06-24T13:49:59.636Z"
   },
   {
    "duration": 300,
    "start_time": "2023-06-24T13:50:06.664Z"
   },
   {
    "duration": 327,
    "start_time": "2023-06-24T14:02:50.253Z"
   },
   {
    "duration": 1385,
    "start_time": "2023-06-24T15:01:28.641Z"
   },
   {
    "duration": 1033,
    "start_time": "2023-06-24T15:01:30.029Z"
   },
   {
    "duration": 18,
    "start_time": "2023-06-24T15:01:31.064Z"
   },
   {
    "duration": 73,
    "start_time": "2023-06-24T15:01:31.085Z"
   },
   {
    "duration": 67,
    "start_time": "2023-06-24T15:01:31.161Z"
   },
   {
    "duration": 41,
    "start_time": "2023-06-24T15:01:31.230Z"
   },
   {
    "duration": 94,
    "start_time": "2023-06-24T15:01:31.273Z"
   },
   {
    "duration": 353,
    "start_time": "2023-06-24T15:01:31.369Z"
   },
   {
    "duration": 152,
    "start_time": "2023-06-24T15:01:31.724Z"
   },
   {
    "duration": 148,
    "start_time": "2023-06-24T15:01:31.879Z"
   },
   {
    "duration": 116,
    "start_time": "2023-06-24T15:01:32.029Z"
   },
   {
    "duration": 35,
    "start_time": "2023-06-24T15:01:32.147Z"
   },
   {
    "duration": 15,
    "start_time": "2023-06-24T15:01:32.183Z"
   },
   {
    "duration": 11,
    "start_time": "2023-06-24T15:01:32.203Z"
   },
   {
    "duration": 44,
    "start_time": "2023-06-24T15:01:32.216Z"
   },
   {
    "duration": 378,
    "start_time": "2023-06-24T15:01:32.262Z"
   },
   {
    "duration": 13,
    "start_time": "2023-06-24T15:01:32.643Z"
   },
   {
    "duration": 26,
    "start_time": "2023-06-24T15:01:32.658Z"
   },
   {
    "duration": 347,
    "start_time": "2023-06-24T15:01:32.687Z"
   },
   {
    "duration": 226,
    "start_time": "2023-06-24T15:01:33.036Z"
   },
   {
    "duration": 219,
    "start_time": "2023-06-24T15:01:33.265Z"
   },
   {
    "duration": 352,
    "start_time": "2023-06-24T15:01:33.486Z"
   },
   {
    "duration": 11,
    "start_time": "2023-06-24T15:01:33.841Z"
   },
   {
    "duration": 19,
    "start_time": "2023-06-24T15:01:33.854Z"
   },
   {
    "duration": 17,
    "start_time": "2023-06-24T15:01:33.876Z"
   },
   {
    "duration": 208,
    "start_time": "2023-06-24T15:01:33.895Z"
   },
   {
    "duration": 341,
    "start_time": "2023-06-24T15:01:34.106Z"
   },
   {
    "duration": 302,
    "start_time": "2023-06-24T15:01:34.449Z"
   },
   {
    "duration": 217,
    "start_time": "2023-06-24T15:01:34.753Z"
   },
   {
    "duration": 295,
    "start_time": "2023-06-24T15:01:34.972Z"
   },
   {
    "duration": 440,
    "start_time": "2023-06-24T15:01:35.269Z"
   },
   {
    "duration": 382,
    "start_time": "2023-06-24T15:01:35.710Z"
   },
   {
    "duration": 382,
    "start_time": "2023-06-24T15:01:36.094Z"
   },
   {
    "duration": 594,
    "start_time": "2023-06-24T15:01:36.478Z"
   },
   {
    "duration": 5,
    "start_time": "2023-06-24T15:01:37.074Z"
   },
   {
    "duration": 2012,
    "start_time": "2023-06-24T15:01:37.081Z"
   },
   {
    "duration": 1855,
    "start_time": "2023-06-24T15:01:39.095Z"
   },
   {
    "duration": 16,
    "start_time": "2023-06-24T15:01:40.951Z"
   },
   {
    "duration": 5,
    "start_time": "2023-06-24T15:01:40.969Z"
   },
   {
    "duration": 8,
    "start_time": "2023-06-24T15:01:40.975Z"
   },
   {
    "duration": 11,
    "start_time": "2023-06-24T15:01:40.987Z"
   },
   {
    "duration": 11,
    "start_time": "2023-06-24T15:01:41.000Z"
   },
   {
    "duration": 1448,
    "start_time": "2023-06-25T13:15:56.339Z"
   },
   {
    "duration": 1253,
    "start_time": "2023-06-25T13:15:57.791Z"
   },
   {
    "duration": 19,
    "start_time": "2023-06-25T13:15:59.046Z"
   },
   {
    "duration": 16,
    "start_time": "2023-06-25T13:15:59.067Z"
   },
   {
    "duration": 6,
    "start_time": "2023-06-25T13:15:59.085Z"
   },
   {
    "duration": 13,
    "start_time": "2023-06-25T13:15:59.092Z"
   },
   {
    "duration": 23,
    "start_time": "2023-06-25T13:15:59.106Z"
   },
   {
    "duration": 25,
    "start_time": "2023-06-25T13:15:59.163Z"
   },
   {
    "duration": 7,
    "start_time": "2023-06-25T13:15:59.190Z"
   },
   {
    "duration": 9,
    "start_time": "2023-06-25T13:15:59.201Z"
   },
   {
    "duration": 8,
    "start_time": "2023-06-25T13:15:59.212Z"
   },
   {
    "duration": 10,
    "start_time": "2023-06-25T13:15:59.222Z"
   },
   {
    "duration": 23,
    "start_time": "2023-06-25T13:15:59.234Z"
   },
   {
    "duration": 9,
    "start_time": "2023-06-25T13:15:59.258Z"
   },
   {
    "duration": 3,
    "start_time": "2023-06-25T13:15:59.268Z"
   },
   {
    "duration": 374,
    "start_time": "2023-06-25T13:15:59.272Z"
   },
   {
    "duration": 20,
    "start_time": "2023-06-25T13:15:59.648Z"
   },
   {
    "duration": 9,
    "start_time": "2023-06-25T13:15:59.670Z"
   },
   {
    "duration": 345,
    "start_time": "2023-06-25T13:15:59.684Z"
   },
   {
    "duration": 224,
    "start_time": "2023-06-25T13:16:00.031Z"
   },
   {
    "duration": 243,
    "start_time": "2023-06-25T13:16:00.257Z"
   },
   {
    "duration": 391,
    "start_time": "2023-06-25T13:16:00.502Z"
   },
   {
    "duration": 5,
    "start_time": "2023-06-25T13:16:00.895Z"
   },
   {
    "duration": 73,
    "start_time": "2023-06-25T13:16:00.901Z"
   },
   {
    "duration": 54,
    "start_time": "2023-06-25T13:16:00.976Z"
   },
   {
    "duration": 213,
    "start_time": "2023-06-25T13:16:01.032Z"
   },
   {
    "duration": 278,
    "start_time": "2023-06-25T13:16:01.247Z"
   },
   {
    "duration": 305,
    "start_time": "2023-06-25T13:16:01.529Z"
   },
   {
    "duration": 236,
    "start_time": "2023-06-25T13:16:01.835Z"
   },
   {
    "duration": 370,
    "start_time": "2023-06-25T13:16:02.073Z"
   },
   {
    "duration": 488,
    "start_time": "2023-06-25T13:16:02.445Z"
   },
   {
    "duration": 437,
    "start_time": "2023-06-25T13:16:02.934Z"
   },
   {
    "duration": 425,
    "start_time": "2023-06-25T13:16:03.373Z"
   },
   {
    "duration": 626,
    "start_time": "2023-06-25T13:16:03.799Z"
   },
   {
    "duration": 5,
    "start_time": "2023-06-25T13:16:04.427Z"
   },
   {
    "duration": 28,
    "start_time": "2023-06-25T13:16:04.434Z"
   },
   {
    "duration": 29,
    "start_time": "2023-06-25T13:16:04.465Z"
   },
   {
    "duration": 16,
    "start_time": "2023-06-25T13:16:04.496Z"
   },
   {
    "duration": 4,
    "start_time": "2023-06-25T13:16:04.514Z"
   },
   {
    "duration": 5,
    "start_time": "2023-06-25T13:16:04.520Z"
   },
   {
    "duration": 58,
    "start_time": "2023-06-25T13:16:04.527Z"
   },
   {
    "duration": 12,
    "start_time": "2023-06-25T13:16:04.591Z"
   }
  ],
  "kernelspec": {
   "display_name": "Python 3 (ipykernel)",
   "language": "python",
   "name": "python3"
  },
  "language_info": {
   "codemirror_mode": {
    "name": "ipython",
    "version": 3
   },
   "file_extension": ".py",
   "mimetype": "text/x-python",
   "name": "python",
   "nbconvert_exporter": "python",
   "pygments_lexer": "ipython3",
   "version": "3.9.19"
  },
  "toc": {
   "base_numbering": 1,
   "nav_menu": {},
   "number_sections": true,
   "sideBar": true,
   "skip_h1_title": true,
   "title_cell": "Содержание",
   "title_sidebar": "Содержание",
   "toc_cell": true,
   "toc_position": {
    "height": "calc(100% - 180px)",
    "left": "10px",
    "top": "150px",
    "width": "275.052px"
   },
   "toc_section_display": true,
   "toc_window_display": true
  }
 },
 "nbformat": 4,
 "nbformat_minor": 2
}
